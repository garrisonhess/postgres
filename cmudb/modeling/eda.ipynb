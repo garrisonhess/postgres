{
 "cells": [
  {
   "cell_type": "code",
   "execution_count": 1,
   "id": "2c1aaa86-27ab-420a-addb-9c6667077820",
   "metadata": {},
   "outputs": [],
   "source": [
    "import pandas as pd\n",
    "import seaborn as sns\n",
    "import sklearn\n",
    "import matplotlib.pyplot as plt\n",
    "import os\n",
    "import plotly.express as px\n",
    "import numpy as np\n",
    "import statsmodels.api as sm\n",
    "from sklearn import linear_model, kernel_ridge, ensemble, preprocessing, multioutput, svm\n",
    "from sklearn.decomposition import FastICA, PCA\n",
    "import lightgbm as lgb\n",
    "# import warnings filter\n",
    "from warnings import simplefilter\n",
    "\n",
    "# ignore all future warnings\n",
    "simplefilter(action='ignore', category=FutureWarning)\n",
    "\n",
    "_LOGTRANS_EPS = 1e-4\n",
    "\n",
    "results_dir = \"/home/gh/postgres/cmudb/tscout/\""
   ]
  },
  {
   "cell_type": "markdown",
   "id": "ffbece6f-d1c6-406a-b4c1-b8eb0522b300",
   "metadata": {},
   "source": [
    "#### Load Data"
   ]
  },
  {
   "cell_type": "code",
   "execution_count": 2,
   "id": "93c346d8-48a9-4e1a-aa2a-235ca1f5f71a",
   "metadata": {},
   "outputs": [],
   "source": [
    "ou_name_to_df = dict()\n",
    "\n",
    "for filename in os.listdir(results_dir):\n",
    "    if not filename.endswith(\"csv\"):\n",
    "        continue\n",
    "\n",
    "    filepath = os.path.join(results_dir, filename)\n",
    "    ou_name = filename.split(\".\")[0]\n",
    "\n",
    "    if os.stat(filepath).st_size > 0:\n",
    "        ou_name_to_df[ou_name] = pd.read_csv(filepath)"
   ]
  },
  {
   "cell_type": "code",
   "execution_count": 3,
   "id": "865e3c5b-753c-4255-974c-ae32cb34dc61",
   "metadata": {},
   "outputs": [
    {
     "name": "stdout",
     "output_type": "stream",
     "text": [
      "OU Name: nodeIndexscan_ExecIndexScan, ou_df shape: (578441, 86)\n",
      "OU Name: nodeLockRows_ExecLockRows, ou_df shape: (447853, 75)\n",
      "OU Name: nodeValuesscan_ExecValuesScan, ou_df shape: (434290, 71)\n",
      "OU Name: nodeResult_ExecResult, ou_df shape: (4594, 66)\n",
      "OU Name: nodeModifyTable_ExecModifyTable, ou_df shape: (19987, 89)\n"
     ]
    }
   ],
   "source": [
    "for (ou_name, ou_df) in ou_name_to_df.items():\n",
    "    print(f\"OU Name: {ou_name}, ou_df shape: {ou_df.shape}\")"
   ]
  },
  {
   "cell_type": "markdown",
   "id": "3d119162-b677-4be6-b0ce-7ddab4ad00cc",
   "metadata": {
    "tags": []
   },
   "source": [
    "# Pre-processing"
   ]
  },
  {
   "cell_type": "markdown",
   "id": "b44449e9-3c0b-480a-bd84-4650ccc06b9c",
   "metadata": {
    "tags": []
   },
   "source": [
    "#### Get IndexScan OU Data"
   ]
  },
  {
   "cell_type": "code",
   "execution_count": 4,
   "id": "fd099c45-c6fb-4e93-80e5-4474e220c504",
   "metadata": {},
   "outputs": [],
   "source": [
    "target_ou = 'nodeIndexscan_ExecIndexScan'\n",
    "df = ou_name_to_df[target_ou]"
   ]
  },
  {
   "cell_type": "markdown",
   "id": "97fd7b35-c407-488b-a50c-f5bef214ff31",
   "metadata": {},
   "source": [
    "#### Remove constant columns"
   ]
  },
  {
   "cell_type": "code",
   "execution_count": 5,
   "id": "c0c679e2-fec8-40b1-803d-1ecd8a10944d",
   "metadata": {},
   "outputs": [
    {
     "name": "stdout",
     "output_type": "stream",
     "text": [
      "Num Remaining: 35, Num Removed 51\n"
     ]
    }
   ],
   "source": [
    "cols_to_remove = []\n",
    "for col in df.columns:\n",
    "    if df[col].nunique() == 1: \n",
    "            cols_to_remove.append(col)\n",
    "\n",
    "df = df.drop(cols_to_remove, axis=1)\n",
    "# print(f\"Dropped zero-variance columns: {cols_to_remove}\")\n",
    "print(f\"Num Remaining: {len(df.columns)}, Num Removed {len(cols_to_remove)}\")"
   ]
  },
  {
   "cell_type": "markdown",
   "id": "4c2811c9-cfbf-4169-ae6b-4b02d3c558d1",
   "metadata": {},
   "source": [
    "# Summary Statistics"
   ]
  },
  {
   "cell_type": "code",
   "execution_count": 6,
   "id": "5da0f21b-6aad-4d21-9147-a56d67f5f535",
   "metadata": {},
   "outputs": [
    {
     "data": {
      "text/html": [
       "<div>\n",
       "<style scoped>\n",
       "    .dataframe tbody tr th:only-of-type {\n",
       "        vertical-align: middle;\n",
       "    }\n",
       "\n",
       "    .dataframe tbody tr th {\n",
       "        vertical-align: top;\n",
       "    }\n",
       "\n",
       "    .dataframe thead th {\n",
       "        text-align: right;\n",
       "    }\n",
       "</style>\n",
       "<table border=\"1\" class=\"dataframe\">\n",
       "  <thead>\n",
       "    <tr style=\"text-align: right;\">\n",
       "      <th></th>\n",
       "      <th>query_id</th>\n",
       "      <th>IndexScanState_ss_ps_plan</th>\n",
       "      <th>IndexScanState_ss_ps_state</th>\n",
       "      <th>IndexScanState_ss_ps_qual</th>\n",
       "      <th>IndexScanState_ss_ps_ps_ResultTupleDesc</th>\n",
       "      <th>IndexScanState_ss_ps_ps_ResultTupleSlot</th>\n",
       "      <th>IndexScanState_ss_ps_ps_ExprContext</th>\n",
       "      <th>IndexScanState_ss_ps_ps_ProjInfo</th>\n",
       "      <th>IndexScanState_ss_ps_scandesc</th>\n",
       "      <th>IndexScanState_ss_ss_currentRelation</th>\n",
       "      <th>...</th>\n",
       "      <th>Plan_extParam</th>\n",
       "      <th>Plan_allParam</th>\n",
       "      <th>start_time</th>\n",
       "      <th>end_time</th>\n",
       "      <th>cpu_id</th>\n",
       "      <th>cpu_cycles</th>\n",
       "      <th>instructions</th>\n",
       "      <th>cache_references</th>\n",
       "      <th>cache_misses</th>\n",
       "      <th>elapsed_us</th>\n",
       "    </tr>\n",
       "  </thead>\n",
       "  <tbody>\n",
       "    <tr>\n",
       "      <th>count</th>\n",
       "      <td>5.784410e+05</td>\n",
       "      <td>5.784410e+05</td>\n",
       "      <td>5.784410e+05</td>\n",
       "      <td>5.784410e+05</td>\n",
       "      <td>5.784410e+05</td>\n",
       "      <td>5.784410e+05</td>\n",
       "      <td>5.784410e+05</td>\n",
       "      <td>5.784410e+05</td>\n",
       "      <td>5.784410e+05</td>\n",
       "      <td>5.784410e+05</td>\n",
       "      <td>...</td>\n",
       "      <td>5.784410e+05</td>\n",
       "      <td>5.784410e+05</td>\n",
       "      <td>5.784410e+05</td>\n",
       "      <td>5.784410e+05</td>\n",
       "      <td>578441.000000</td>\n",
       "      <td>5.784410e+05</td>\n",
       "      <td>5.784410e+05</td>\n",
       "      <td>5.784410e+05</td>\n",
       "      <td>5.784410e+05</td>\n",
       "      <td>578441.000000</td>\n",
       "    </tr>\n",
       "    <tr>\n",
       "      <th>mean</th>\n",
       "      <td>8.912548e+18</td>\n",
       "      <td>9.396078e+13</td>\n",
       "      <td>9.396078e+13</td>\n",
       "      <td>4.517725e+12</td>\n",
       "      <td>9.396078e+13</td>\n",
       "      <td>9.396078e+13</td>\n",
       "      <td>9.396078e+13</td>\n",
       "      <td>9.396078e+13</td>\n",
       "      <td>1.401624e+14</td>\n",
       "      <td>1.401624e+14</td>\n",
       "      <td>...</td>\n",
       "      <td>9.396078e+13</td>\n",
       "      <td>9.396078e+13</td>\n",
       "      <td>5.632572e+11</td>\n",
       "      <td>5.632572e+11</td>\n",
       "      <td>16.379193</td>\n",
       "      <td>1.658303e+15</td>\n",
       "      <td>5.580829e+15</td>\n",
       "      <td>3.189045e+14</td>\n",
       "      <td>1.626413e+15</td>\n",
       "      <td>19.013450</td>\n",
       "    </tr>\n",
       "    <tr>\n",
       "      <th>std</th>\n",
       "      <td>5.165418e+18</td>\n",
       "      <td>6.809070e+05</td>\n",
       "      <td>3.809693e+05</td>\n",
       "      <td>2.010174e+13</td>\n",
       "      <td>3.809749e+05</td>\n",
       "      <td>3.809750e+05</td>\n",
       "      <td>3.809691e+05</td>\n",
       "      <td>3.809751e+05</td>\n",
       "      <td>3.930062e+04</td>\n",
       "      <td>3.930505e+04</td>\n",
       "      <td>...</td>\n",
       "      <td>3.698818e+05</td>\n",
       "      <td>3.698819e+05</td>\n",
       "      <td>1.063828e+07</td>\n",
       "      <td>1.063827e+07</td>\n",
       "      <td>8.300940</td>\n",
       "      <td>1.748931e+17</td>\n",
       "      <td>3.208070e+17</td>\n",
       "      <td>7.669849e+16</td>\n",
       "      <td>1.732034e+17</td>\n",
       "      <td>58.777027</td>\n",
       "    </tr>\n",
       "    <tr>\n",
       "      <th>min</th>\n",
       "      <td>1.305452e+18</td>\n",
       "      <td>9.396078e+13</td>\n",
       "      <td>9.396078e+13</td>\n",
       "      <td>0.000000e+00</td>\n",
       "      <td>9.396078e+13</td>\n",
       "      <td>9.396078e+13</td>\n",
       "      <td>9.396078e+13</td>\n",
       "      <td>9.396078e+13</td>\n",
       "      <td>1.401624e+14</td>\n",
       "      <td>1.401624e+14</td>\n",
       "      <td>...</td>\n",
       "      <td>9.396078e+13</td>\n",
       "      <td>9.396078e+13</td>\n",
       "      <td>5.632363e+11</td>\n",
       "      <td>5.632363e+11</td>\n",
       "      <td>8.000000</td>\n",
       "      <td>8.012000e+03</td>\n",
       "      <td>1.821000e+03</td>\n",
       "      <td>1.298000e+03</td>\n",
       "      <td>1.500000e+01</td>\n",
       "      <td>1.000000</td>\n",
       "    </tr>\n",
       "    <tr>\n",
       "      <th>25%</th>\n",
       "      <td>6.654292e+18</td>\n",
       "      <td>9.396078e+13</td>\n",
       "      <td>9.396078e+13</td>\n",
       "      <td>0.000000e+00</td>\n",
       "      <td>9.396078e+13</td>\n",
       "      <td>9.396078e+13</td>\n",
       "      <td>9.396078e+13</td>\n",
       "      <td>9.396078e+13</td>\n",
       "      <td>1.401624e+14</td>\n",
       "      <td>1.401624e+14</td>\n",
       "      <td>...</td>\n",
       "      <td>9.396078e+13</td>\n",
       "      <td>9.396078e+13</td>\n",
       "      <td>5.632496e+11</td>\n",
       "      <td>5.632496e+11</td>\n",
       "      <td>9.000000</td>\n",
       "      <td>1.340700e+04</td>\n",
       "      <td>2.440800e+04</td>\n",
       "      <td>1.640000e+03</td>\n",
       "      <td>1.380000e+02</td>\n",
       "      <td>2.000000</td>\n",
       "    </tr>\n",
       "    <tr>\n",
       "      <th>50%</th>\n",
       "      <td>6.654292e+18</td>\n",
       "      <td>9.396078e+13</td>\n",
       "      <td>9.396078e+13</td>\n",
       "      <td>0.000000e+00</td>\n",
       "      <td>9.396078e+13</td>\n",
       "      <td>9.396078e+13</td>\n",
       "      <td>9.396078e+13</td>\n",
       "      <td>9.396078e+13</td>\n",
       "      <td>1.401624e+14</td>\n",
       "      <td>1.401624e+14</td>\n",
       "      <td>...</td>\n",
       "      <td>9.396078e+13</td>\n",
       "      <td>9.396078e+13</td>\n",
       "      <td>5.632584e+11</td>\n",
       "      <td>5.632584e+11</td>\n",
       "      <td>12.000000</td>\n",
       "      <td>1.564400e+04</td>\n",
       "      <td>2.770800e+04</td>\n",
       "      <td>1.782000e+03</td>\n",
       "      <td>1.880000e+02</td>\n",
       "      <td>3.000000</td>\n",
       "    </tr>\n",
       "    <tr>\n",
       "      <th>75%</th>\n",
       "      <td>1.570483e+19</td>\n",
       "      <td>9.396078e+13</td>\n",
       "      <td>9.396078e+13</td>\n",
       "      <td>0.000000e+00</td>\n",
       "      <td>9.396078e+13</td>\n",
       "      <td>9.396078e+13</td>\n",
       "      <td>9.396078e+13</td>\n",
       "      <td>9.396078e+13</td>\n",
       "      <td>1.401624e+14</td>\n",
       "      <td>1.401624e+14</td>\n",
       "      <td>...</td>\n",
       "      <td>9.396078e+13</td>\n",
       "      <td>9.396078e+13</td>\n",
       "      <td>5.632660e+11</td>\n",
       "      <td>5.632660e+11</td>\n",
       "      <td>26.000000</td>\n",
       "      <td>6.691900e+04</td>\n",
       "      <td>2.389920e+05</td>\n",
       "      <td>2.618000e+03</td>\n",
       "      <td>3.280000e+02</td>\n",
       "      <td>15.000000</td>\n",
       "    </tr>\n",
       "    <tr>\n",
       "      <th>max</th>\n",
       "      <td>1.570483e+19</td>\n",
       "      <td>9.396078e+13</td>\n",
       "      <td>9.396078e+13</td>\n",
       "      <td>9.396078e+13</td>\n",
       "      <td>9.396078e+13</td>\n",
       "      <td>9.396078e+13</td>\n",
       "      <td>9.396078e+13</td>\n",
       "      <td>9.396078e+13</td>\n",
       "      <td>1.401624e+14</td>\n",
       "      <td>1.401624e+14</td>\n",
       "      <td>...</td>\n",
       "      <td>9.396078e+13</td>\n",
       "      <td>9.396078e+13</td>\n",
       "      <td>5.632738e+11</td>\n",
       "      <td>5.632738e+11</td>\n",
       "      <td>31.000000</td>\n",
       "      <td>1.844674e+19</td>\n",
       "      <td>1.844674e+19</td>\n",
       "      <td>1.844674e+19</td>\n",
       "      <td>1.844674e+19</td>\n",
       "      <td>816.000000</td>\n",
       "    </tr>\n",
       "  </tbody>\n",
       "</table>\n",
       "<p>8 rows × 35 columns</p>\n",
       "</div>"
      ],
      "text/plain": [
       "           query_id  IndexScanState_ss_ps_plan  IndexScanState_ss_ps_state  \\\n",
       "count  5.784410e+05               5.784410e+05                5.784410e+05   \n",
       "mean   8.912548e+18               9.396078e+13                9.396078e+13   \n",
       "std    5.165418e+18               6.809070e+05                3.809693e+05   \n",
       "min    1.305452e+18               9.396078e+13                9.396078e+13   \n",
       "25%    6.654292e+18               9.396078e+13                9.396078e+13   \n",
       "50%    6.654292e+18               9.396078e+13                9.396078e+13   \n",
       "75%    1.570483e+19               9.396078e+13                9.396078e+13   \n",
       "max    1.570483e+19               9.396078e+13                9.396078e+13   \n",
       "\n",
       "       IndexScanState_ss_ps_qual  IndexScanState_ss_ps_ps_ResultTupleDesc  \\\n",
       "count               5.784410e+05                             5.784410e+05   \n",
       "mean                4.517725e+12                             9.396078e+13   \n",
       "std                 2.010174e+13                             3.809749e+05   \n",
       "min                 0.000000e+00                             9.396078e+13   \n",
       "25%                 0.000000e+00                             9.396078e+13   \n",
       "50%                 0.000000e+00                             9.396078e+13   \n",
       "75%                 0.000000e+00                             9.396078e+13   \n",
       "max                 9.396078e+13                             9.396078e+13   \n",
       "\n",
       "       IndexScanState_ss_ps_ps_ResultTupleSlot  \\\n",
       "count                             5.784410e+05   \n",
       "mean                              9.396078e+13   \n",
       "std                               3.809750e+05   \n",
       "min                               9.396078e+13   \n",
       "25%                               9.396078e+13   \n",
       "50%                               9.396078e+13   \n",
       "75%                               9.396078e+13   \n",
       "max                               9.396078e+13   \n",
       "\n",
       "       IndexScanState_ss_ps_ps_ExprContext  IndexScanState_ss_ps_ps_ProjInfo  \\\n",
       "count                         5.784410e+05                      5.784410e+05   \n",
       "mean                          9.396078e+13                      9.396078e+13   \n",
       "std                           3.809691e+05                      3.809751e+05   \n",
       "min                           9.396078e+13                      9.396078e+13   \n",
       "25%                           9.396078e+13                      9.396078e+13   \n",
       "50%                           9.396078e+13                      9.396078e+13   \n",
       "75%                           9.396078e+13                      9.396078e+13   \n",
       "max                           9.396078e+13                      9.396078e+13   \n",
       "\n",
       "       IndexScanState_ss_ps_scandesc  IndexScanState_ss_ss_currentRelation  \\\n",
       "count                   5.784410e+05                          5.784410e+05   \n",
       "mean                    1.401624e+14                          1.401624e+14   \n",
       "std                     3.930062e+04                          3.930505e+04   \n",
       "min                     1.401624e+14                          1.401624e+14   \n",
       "25%                     1.401624e+14                          1.401624e+14   \n",
       "50%                     1.401624e+14                          1.401624e+14   \n",
       "75%                     1.401624e+14                          1.401624e+14   \n",
       "max                     1.401624e+14                          1.401624e+14   \n",
       "\n",
       "       ...  Plan_extParam  Plan_allParam    start_time      end_time  \\\n",
       "count  ...   5.784410e+05   5.784410e+05  5.784410e+05  5.784410e+05   \n",
       "mean   ...   9.396078e+13   9.396078e+13  5.632572e+11  5.632572e+11   \n",
       "std    ...   3.698818e+05   3.698819e+05  1.063828e+07  1.063827e+07   \n",
       "min    ...   9.396078e+13   9.396078e+13  5.632363e+11  5.632363e+11   \n",
       "25%    ...   9.396078e+13   9.396078e+13  5.632496e+11  5.632496e+11   \n",
       "50%    ...   9.396078e+13   9.396078e+13  5.632584e+11  5.632584e+11   \n",
       "75%    ...   9.396078e+13   9.396078e+13  5.632660e+11  5.632660e+11   \n",
       "max    ...   9.396078e+13   9.396078e+13  5.632738e+11  5.632738e+11   \n",
       "\n",
       "              cpu_id    cpu_cycles  instructions  cache_references  \\\n",
       "count  578441.000000  5.784410e+05  5.784410e+05      5.784410e+05   \n",
       "mean       16.379193  1.658303e+15  5.580829e+15      3.189045e+14   \n",
       "std         8.300940  1.748931e+17  3.208070e+17      7.669849e+16   \n",
       "min         8.000000  8.012000e+03  1.821000e+03      1.298000e+03   \n",
       "25%         9.000000  1.340700e+04  2.440800e+04      1.640000e+03   \n",
       "50%        12.000000  1.564400e+04  2.770800e+04      1.782000e+03   \n",
       "75%        26.000000  6.691900e+04  2.389920e+05      2.618000e+03   \n",
       "max        31.000000  1.844674e+19  1.844674e+19      1.844674e+19   \n",
       "\n",
       "       cache_misses     elapsed_us  \n",
       "count  5.784410e+05  578441.000000  \n",
       "mean   1.626413e+15      19.013450  \n",
       "std    1.732034e+17      58.777027  \n",
       "min    1.500000e+01       1.000000  \n",
       "25%    1.380000e+02       2.000000  \n",
       "50%    1.880000e+02       3.000000  \n",
       "75%    3.280000e+02      15.000000  \n",
       "max    1.844674e+19     816.000000  \n",
       "\n",
       "[8 rows x 35 columns]"
      ]
     },
     "execution_count": 6,
     "metadata": {},
     "output_type": "execute_result"
    }
   ],
   "source": [
    "df.describe()"
   ]
  },
  {
   "cell_type": "markdown",
   "id": "25fea886-a0d1-43bf-b6b9-97a527234b0d",
   "metadata": {
    "tags": []
   },
   "source": [
    "# Visualizations"
   ]
  },
  {
   "cell_type": "code",
   "execution_count": 7,
   "id": "8e10b180-0527-43e3-bf47-04d481c9febc",
   "metadata": {},
   "outputs": [],
   "source": [
    "target_col = 'elapsed_us'\n",
    "\n",
    "# for col in df.columns:\n",
    "#     fig = px.scatter(x=df[col], y=df[target_col])\n",
    "#     fig.show()"
   ]
  },
  {
   "cell_type": "code",
   "execution_count": null,
   "id": "8626ae91-aff3-48f8-867b-eb8bc53d2432",
   "metadata": {},
   "outputs": [],
   "source": []
  },
  {
   "cell_type": "code",
   "execution_count": null,
   "id": "c327eb0d-3705-4190-98cc-78355ea6c5be",
   "metadata": {},
   "outputs": [],
   "source": []
  },
  {
   "cell_type": "markdown",
   "id": "4013ae1a-d6dd-46cd-af51-60cea2c2aa98",
   "metadata": {},
   "source": [
    "#### Correlation Heatmap"
   ]
  },
  {
   "cell_type": "code",
   "execution_count": 8,
   "id": "c5b18080-8c18-4892-9b19-6a0def42262c",
   "metadata": {},
   "outputs": [],
   "source": [
    "# df_corr = df.corr()\n",
    "# plt.figure(figsize=(10,7))\n",
    "# sns.heatmap(df_corr, cmap='GnBu_r')\n",
    "# plt.show()"
   ]
  },
  {
   "cell_type": "markdown",
   "id": "b2a96895-b8ac-4035-a71f-5e6770e2cc1a",
   "metadata": {},
   "source": [
    "# Feature Analysis (PCA)"
   ]
  },
  {
   "cell_type": "code",
   "execution_count": 9,
   "id": "7c7ead3d-3cae-4574-86cf-f474b83c2781",
   "metadata": {},
   "outputs": [
    {
     "ename": "TypeError",
     "evalue": "__init__() got an unexpected keyword argument 'ncomponents'",
     "output_type": "error",
     "traceback": [
      "\u001b[0;31m---------------------------------------------------------------------------\u001b[0m",
      "\u001b[0;31mTypeError\u001b[0m                                 Traceback (most recent call last)",
      "\u001b[0;32m/tmp/ipykernel_2110731/4215523066.py\u001b[0m in \u001b[0;36m<module>\u001b[0;34m\u001b[0m\n\u001b[0;32m----> 1\u001b[0;31m \u001b[0mpca\u001b[0m \u001b[0;34m=\u001b[0m \u001b[0mPCA\u001b[0m\u001b[0;34m(\u001b[0m\u001b[0mncomponents\u001b[0m\u001b[0;34m=\u001b[0m\u001b[0;32mNone\u001b[0m\u001b[0;34m)\u001b[0m\u001b[0;34m\u001b[0m\u001b[0;34m\u001b[0m\u001b[0m\n\u001b[0m\u001b[1;32m      2\u001b[0m \u001b[0mpca\u001b[0m\u001b[0;34m.\u001b[0m\u001b[0mfit\u001b[0m\u001b[0;34m(\u001b[0m\u001b[0mdf\u001b[0m\u001b[0;34m)\u001b[0m\u001b[0;34m\u001b[0m\u001b[0;34m\u001b[0m\u001b[0m\n\u001b[1;32m      3\u001b[0m \u001b[0mpca\u001b[0m\u001b[0;34m.\u001b[0m\u001b[0mexplained_variance_ratio_\u001b[0m\u001b[0;34m\u001b[0m\u001b[0;34m\u001b[0m\u001b[0m\n",
      "\u001b[0;31mTypeError\u001b[0m: __init__() got an unexpected keyword argument 'ncomponents'"
     ]
    }
   ],
   "source": [
    "pca = PCA(ncomponents=None)\n",
    "pca.fit(df)\n",
    "pca.explained_variance_ratio_"
   ]
  },
  {
   "cell_type": "markdown",
   "id": "b5c71d1e-4a39-42e3-9091-4534e2ab0141",
   "metadata": {
    "tags": []
   },
   "source": [
    "#### ICA to look at signal relationships"
   ]
  },
  {
   "cell_type": "code",
   "execution_count": null,
   "id": "5ed6ab25-a283-42c6-aa2f-ca25d32321dc",
   "metadata": {},
   "outputs": [],
   "source": [
    "# ica = FastICA(n_components=7)\n",
    "# ica.fit(df)\n",
    "# print(ica.components_.shape)"
   ]
  },
  {
   "cell_type": "markdown",
   "id": "03f3e0c5-17a5-4608-9538-e76a30e1a2a6",
   "metadata": {},
   "source": [
    "# Modeling"
   ]
  },
  {
   "cell_type": "code",
   "execution_count": null,
   "id": "ebeba08e-4180-4f5f-a843-e4b6556a601e",
   "metadata": {},
   "outputs": [],
   "source": [
    "X = df.drop('elapsed_us', axis=1)\n",
    "Y = df['elapsed_us']"
   ]
  },
  {
   "cell_type": "markdown",
   "id": "1d922020-233b-46e1-97ab-e8602668ba11",
   "metadata": {
    "tags": []
   },
   "source": [
    "#### Actual Statistics"
   ]
  },
  {
   "cell_type": "code",
   "execution_count": null,
   "id": "c40ae5cf-fd6f-4e41-9264-2316fdc6e532",
   "metadata": {},
   "outputs": [],
   "source": [
    "results = sm.OLS(Y, X).fit()\n",
    "results.summary()"
   ]
  },
  {
   "cell_type": "code",
   "execution_count": null,
   "id": "a4071329-7566-40d1-8dc4-e44763b394be",
   "metadata": {},
   "outputs": [],
   "source": []
  },
  {
   "cell_type": "code",
   "execution_count": null,
   "id": "dd6237e9-f455-4423-9e60-3c7258aa5b6e",
   "metadata": {},
   "outputs": [],
   "source": []
  },
  {
   "cell_type": "code",
   "execution_count": null,
   "id": "052f8395-b3d4-471c-8b10-2ba38e61e850",
   "metadata": {},
   "outputs": [],
   "source": []
  },
  {
   "cell_type": "code",
   "execution_count": null,
   "id": "b58c48e2-fb41-4465-a1c6-3d7f873159cd",
   "metadata": {},
   "outputs": [],
   "source": []
  },
  {
   "cell_type": "code",
   "execution_count": null,
   "id": "9e92b2e0-a63e-441a-9509-66a8931ee9bf",
   "metadata": {},
   "outputs": [],
   "source": []
  },
  {
   "cell_type": "code",
   "execution_count": null,
   "id": "036a5ccf-91a4-4fe8-8078-2a547fc34bff",
   "metadata": {},
   "outputs": [],
   "source": []
  },
  {
   "cell_type": "code",
   "execution_count": null,
   "id": "fd4c4acf-268e-4d24-b621-605fce6eb75f",
   "metadata": {},
   "outputs": [],
   "source": [
    "X = df.drop('elapsed_us', axis=1)\n",
    "Y = df['elapsed_us']"
   ]
  },
  {
   "cell_type": "code",
   "execution_count": null,
   "id": "0c734534-e930-48ac-a622-d1ceeb052671",
   "metadata": {},
   "outputs": [],
   "source": []
  },
  {
   "cell_type": "code",
   "execution_count": null,
   "id": "82390543-0ade-4f44-b58f-d049ffec63f0",
   "metadata": {},
   "outputs": [],
   "source": []
  },
  {
   "cell_type": "code",
   "execution_count": null,
   "id": "276dd895-73d7-4614-95b8-48ec96ad0413",
   "metadata": {},
   "outputs": [],
   "source": []
  },
  {
   "cell_type": "code",
   "execution_count": null,
   "id": "1b494569-aff6-464a-b5db-56579f976d61",
   "metadata": {},
   "outputs": [],
   "source": []
  },
  {
   "cell_type": "code",
   "execution_count": null,
   "id": "862627d0-02f8-44ea-92da-218b7c09d804",
   "metadata": {},
   "outputs": [],
   "source": []
  },
  {
   "cell_type": "code",
   "execution_count": null,
   "id": "8c21268e-f3cd-4c4a-a6bb-e76a09c70e6a",
   "metadata": {},
   "outputs": [],
   "source": []
  },
  {
   "cell_type": "markdown",
   "id": "c4843574-18d0-449a-8c2b-887cb55b2334",
   "metadata": {
    "tags": []
   },
   "source": [
    "#### Sklearn OLS"
   ]
  },
  {
   "cell_type": "code",
   "execution_count": null,
   "id": "fbde463e-dea4-4ee6-9afa-456f11fdbeea",
   "metadata": {},
   "outputs": [],
   "source": [
    "lin_reg = sklearn.linear_model.LinearRegression()\n",
    "fit = lin_reg.fit(X, Y)\n",
    "fit"
   ]
  },
  {
   "cell_type": "code",
   "execution_count": null,
   "id": "48107b8f-9306-4e8b-8845-619d78184a1d",
   "metadata": {},
   "outputs": [],
   "source": []
  },
  {
   "cell_type": "code",
   "execution_count": null,
   "id": "8e317475-868a-4bb3-bd20-ac60fafa7ba1",
   "metadata": {},
   "outputs": [],
   "source": [
    "def _get_base_ml_model(method):\n",
    "    regressor = None\n",
    "    if method == 'lr':\n",
    "        regressor = linear_model.LinearRegression()\n",
    "    if method == 'huber':\n",
    "        regressor = linear_model.HuberRegressor(max_iter=50)\n",
    "        regressor = multioutput.MultiOutputRegressor(regressor)\n",
    "    if method == 'svr':\n",
    "        regressor = svm.LinearSVR()\n",
    "        regressor = multioutput.MultiOutputRegressor(regressor)\n",
    "    if method == 'kr':\n",
    "        regressor = kernel_ridge.KernelRidge(kernel='rbf')\n",
    "    if method == 'rf':\n",
    "        regressor = ensemble.RandomForestRegressor(n_estimators=50, n_jobs=8)\n",
    "    if method == 'gbm':\n",
    "        regressor = lgb.LGBMRegressor(max_depth=20, num_leaves=1000, n_estimators=100, min_child_samples=5,\n",
    "                                      random_state=42)\n",
    "        regressor = multioutput.MultiOutputRegressor(regressor)\n",
    "    if method == 'nn':\n",
    "        regressor = neural_network.MLPRegressor(hidden_layer_sizes=(25, 25), early_stopping=True,\n",
    "                                                max_iter=1000000, alpha=5)\n",
    "\n",
    "    return regressor\n",
    "\n",
    "\n",
    "class Model:\n",
    "    \"\"\"\n",
    "    The class that wraps around standard ML libraries.\n",
    "    With the implementation for different normalization handlings\n",
    "    \"\"\"\n",
    "\n",
    "    def __init__(self, method, normalize=True, log_transform=True, y_transformer=None, x_transformer=None):\n",
    "        \"\"\"\n",
    "        :param method: which ML method to use\n",
    "        :param normalize: whether to perform standard normalization on data (both x and y)\n",
    "        :param log_transform: whether to perform log transformation on data (both x and y)\n",
    "        :param y_transformer: the customized data transformer for output (a pair of functions with the first for\n",
    "               training and second for predict)\n",
    "        :param x_transformer: the customized data transformer for input\n",
    "        \"\"\"\n",
    "        self._base_model = _get_base_ml_model(method)\n",
    "        self._normalize = normalize\n",
    "        self._log_transform = log_transform\n",
    "        self._xscaler = preprocessing.StandardScaler()\n",
    "        self._yscaler = preprocessing.StandardScaler()\n",
    "        self._y_transformer = y_transformer\n",
    "        self._x_transformer = x_transformer\n",
    "\n",
    "    def train(self, x, y):\n",
    "        if self._y_transformer is not None:\n",
    "            y = self._y_transformer[0](x, y)\n",
    "\n",
    "        if self._x_transformer is not None:\n",
    "            x = self._x_transformer(x)\n",
    "\n",
    "        if self._log_transform:\n",
    "            x = np.log(x + _LOGTRANS_EPS)\n",
    "            y = np.log(y + _LOGTRANS_EPS)\n",
    "\n",
    "        if self._normalize:\n",
    "            x = self._xscaler.fit_transform(x)\n",
    "            y = self._yscaler.fit_transform(y)\n",
    "\n",
    "        self._base_model.fit(x, y)\n",
    "\n",
    "    def predict(self, x):\n",
    "        original_x = x\n",
    "\n",
    "        if self._x_transformer is not None:\n",
    "            x = self._x_transformer(x)\n",
    "\n",
    "        # transform the features\n",
    "        if self._log_transform:\n",
    "            x = np.log(x + _LOGTRANS_EPS)\n",
    "        if self._normalize:\n",
    "            x = self._xscaler.transform(x)\n",
    "\n",
    "        # make prediction\n",
    "        y = self._base_model.predict(x)\n",
    "\n",
    "        # transform the y back\n",
    "        if self._normalize:\n",
    "            y = self._yscaler.inverse_transform(y)\n",
    "        if self._log_transform:\n",
    "            y = np.exp(y) - _LOGTRANS_EPS\n",
    "            y = np.clip(y, 0, None)\n",
    "\n",
    "        if self._y_transformer is not None:\n",
    "            y = self._y_transformer[1](original_x, y)\n",
    "\n",
    "        return y"
   ]
  }
 ],
 "metadata": {
  "kernelspec": {
   "display_name": "Python 3 (ipykernel)",
   "language": "python",
   "name": "python3"
  },
  "language_info": {
   "codemirror_mode": {
    "name": "ipython",
    "version": 3
   },
   "file_extension": ".py",
   "mimetype": "text/x-python",
   "name": "python",
   "nbconvert_exporter": "python",
   "pygments_lexer": "ipython3",
   "version": "3.9.7"
  }
 },
 "nbformat": 4,
 "nbformat_minor": 5
}

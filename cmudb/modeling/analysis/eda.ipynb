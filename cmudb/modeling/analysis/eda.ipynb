{
 "cells": [
  {
   "cell_type": "markdown",
   "id": "2689fbcb-9c6f-4f0f-82ec-4fb04ab6b261",
   "metadata": {},
   "source": [
    "# TPCC OU Data Collection"
   ]
  },
  {
   "cell_type": "code",
   "execution_count": 32,
   "id": "2c1aaa86-27ab-420a-addb-9c6667077820",
   "metadata": {},
   "outputs": [],
   "source": [
    "import os\n",
    "import pandas as pd\n",
    "import seaborn as sns\n",
    "import matplotlib.pyplot as plt\n",
    "import numpy as np\n",
    "from sklearn.decomposition import PCA\n",
    "import lightgbm as lgb\n",
    "from datetime import datetime\n",
    "from pathlib import Path\n",
    "from scipy import stats"
   ]
  },
  {
   "cell_type": "code",
   "execution_count": 33,
   "id": "c45f5ad8-2074-458f-87e2-707e8f820ec7",
   "metadata": {},
   "outputs": [
    {
     "data": {
      "text/plain": [
       "PosixPath('/home/glhess/postgres/cmudb/tscout/results/tpcc')"
      ]
     },
     "execution_count": 33,
     "metadata": {},
     "output_type": "execute_result"
    }
   ],
   "source": [
    "BENCHMARK_NAME = \"tpcc\"\n",
    "results_dir = Path.home() / \"postgres/cmudb/tscout/results/\" / BENCHMARK_NAME\n",
    "results_dir"
   ]
  },
  {
   "cell_type": "code",
   "execution_count": 34,
   "id": "3b0a8c07-3160-4bbe-b270-8daa3109d40f",
   "metadata": {},
   "outputs": [
    {
     "data": {
      "text/plain": [
       "[PosixPath('/home/glhess/postgres/cmudb/tscout/results/tpcc/2021-11-17_20-43-49'),\n",
       " PosixPath('/home/glhess/postgres/cmudb/tscout/results/tpcc/2021-11-17_20-45-41'),\n",
       " PosixPath('/home/glhess/postgres/cmudb/tscout/results/tpcc/2021-11-17_20-48-55'),\n",
       " PosixPath('/home/glhess/postgres/cmudb/tscout/results/tpcc/2021-11-17_20-59-05'),\n",
       " PosixPath('/home/glhess/postgres/cmudb/tscout/results/tpcc/2021-11-17_21-01-18')]"
      ]
     },
     "execution_count": 34,
     "metadata": {},
     "output_type": "execute_result"
    }
   ],
   "source": [
    "sorted(list(results_dir.glob(\"*\")))"
   ]
  },
  {
   "cell_type": "code",
   "execution_count": 35,
   "id": "0d0923b3-0628-48e4-90b4-54854cd3d4f1",
   "metadata": {},
   "outputs": [
    {
     "name": "stdout",
     "output_type": "stream",
     "text": [
      "/home/glhess/postgres/cmudb/tscout/results/tpcc/2021-11-17_21-01-18\n"
     ]
    }
   ],
   "source": [
    "exp_name = \"2021-11-17_21-01-18\"\n",
    "exp_dir = results_dir / exp_name\n",
    "result_filepaths = list(exp_dir.glob(\"**/*.csv\"))\n",
    "print(exp_dir)"
   ]
  },
  {
   "cell_type": "markdown",
   "id": "ffbece6f-d1c6-406a-b4c1-b8eb0522b300",
   "metadata": {
    "tags": []
   },
   "source": [
    "#### Load Data"
   ]
  },
  {
   "cell_type": "code",
   "execution_count": 36,
   "id": "9ddd0d10-c45d-4deb-8bc4-4eb9febaf1ee",
   "metadata": {},
   "outputs": [
    {
     "name": "stdout",
     "output_type": "stream",
     "text": [
      "Loading filepath: /home/glhess/postgres/cmudb/tscout/results/tpcc/2021-11-17_21-01-18/0/ExecProjectSet.csv\n",
      "Loading filepath: /home/glhess/postgres/cmudb/tscout/results/tpcc/2021-11-17_21-01-18/0/ExecSeqScan.csv\n",
      "Loading filepath: /home/glhess/postgres/cmudb/tscout/results/tpcc/2021-11-17_21-01-18/0/ExecUnique.csv\n",
      "Loading filepath: /home/glhess/postgres/cmudb/tscout/results/tpcc/2021-11-17_21-01-18/0/ExecHashJoinImpl.csv\n",
      "Loading filepath: /home/glhess/postgres/cmudb/tscout/results/tpcc/2021-11-17_21-01-18/0/ExecAppend.csv\n",
      "Loading filepath: /home/glhess/postgres/cmudb/tscout/results/tpcc/2021-11-17_21-01-18/0/ExecResult.csv\n",
      "Loading filepath: /home/glhess/postgres/cmudb/tscout/results/tpcc/2021-11-17_21-01-18/0/ExecModifyTable.csv\n",
      "Loading filepath: /home/glhess/postgres/cmudb/tscout/results/tpcc/2021-11-17_21-01-18/0/ExecIndexScan.csv\n",
      "Loading filepath: /home/glhess/postgres/cmudb/tscout/results/tpcc/2021-11-17_21-01-18/0/ExecAgg.csv\n",
      "Loading filepath: /home/glhess/postgres/cmudb/tscout/results/tpcc/2021-11-17_21-01-18/0/ExecIndexOnlyScan.csv\n",
      "Loading filepath: /home/glhess/postgres/cmudb/tscout/results/tpcc/2021-11-17_21-01-18/0/ExecSubqueryScan.csv\n",
      "Loading filepath: /home/glhess/postgres/cmudb/tscout/results/tpcc/2021-11-17_21-01-18/0/ExecSubPlan.csv\n",
      "Loading filepath: /home/glhess/postgres/cmudb/tscout/results/tpcc/2021-11-17_21-01-18/0/ExecWindowAgg.csv\n",
      "Loading filepath: /home/glhess/postgres/cmudb/tscout/results/tpcc/2021-11-17_21-01-18/0/ExecIncrementalSort.csv\n",
      "Loading filepath: /home/glhess/postgres/cmudb/tscout/results/tpcc/2021-11-17_21-01-18/0/ExecLimit.csv\n",
      "Loading filepath: /home/glhess/postgres/cmudb/tscout/results/tpcc/2021-11-17_21-01-18/0/ExecSampleScan.csv\n",
      "Loading filepath: /home/glhess/postgres/cmudb/tscout/results/tpcc/2021-11-17_21-01-18/0/ExecMaterial.csv\n",
      "Loading filepath: /home/glhess/postgres/cmudb/tscout/results/tpcc/2021-11-17_21-01-18/0/ExecSort.csv\n",
      "Loading filepath: /home/glhess/postgres/cmudb/tscout/results/tpcc/2021-11-17_21-01-18/0/ExecFunctionScan.csv\n",
      "Loading filepath: /home/glhess/postgres/cmudb/tscout/results/tpcc/2021-11-17_21-01-18/0/ExecLockRows.csv\n",
      "Loading filepath: /home/glhess/postgres/cmudb/tscout/results/tpcc/2021-11-17_21-01-18/0/ExecNestLoop.csv\n"
     ]
    }
   ],
   "source": [
    "ou_name_to_df = dict()\n",
    "run_id = 0\n",
    "\n",
    "for filepath in result_filepaths:\n",
    "    ou_name = filepath.stem\n",
    "    \n",
    "    if run_id != int(filepath.parent.stem): \n",
    "        continue\n",
    "    \n",
    "    if os.stat(filepath).st_size > 0:\n",
    "        print(f\"Loading filepath: {filepath}\")\n",
    "        ou_name_to_df[ou_name] = pd.read_csv(filepath)"
   ]
  },
  {
   "cell_type": "code",
   "execution_count": 37,
   "id": "865e3c5b-753c-4255-974c-ae32cb34dc61",
   "metadata": {},
   "outputs": [
    {
     "name": "stdout",
     "output_type": "stream",
     "text": [
      "OU Name: ExecProjectSet, ou_df shape: (1972, 36)\n",
      "OU Name: ExecSeqScan, ou_df shape: (17269, 36)\n",
      "OU Name: ExecUnique, ou_df shape: (45, 35)\n",
      "OU Name: ExecHashJoinImpl, ou_df shape: (356, 44)\n",
      "OU Name: ExecAppend, ou_df shape: (42, 45)\n",
      "OU Name: ExecResult, ou_df shape: (9396, 36)\n",
      "OU Name: ExecModifyTable, ou_df shape: (48777, 51)\n",
      "OU Name: ExecIndexScan, ou_df shape: (271645, 43)\n",
      "OU Name: ExecAgg, ou_df shape: (632, 64)\n",
      "OU Name: ExecIndexOnlyScan, ou_df shape: (40, 43)\n",
      "OU Name: ExecSubqueryScan, ou_df shape: (6868, 35)\n",
      "OU Name: ExecSubPlan, ou_df shape: (49528, 35)\n",
      "OU Name: ExecWindowAgg, ou_df shape: (2470, 85)\n",
      "OU Name: ExecIncrementalSort, ou_df shape: (29, 55)\n",
      "OU Name: ExecLimit, ou_df shape: (68322, 42)\n",
      "OU Name: ExecSampleScan, ou_df shape: (1430, 42)\n",
      "OU Name: ExecMaterial, ou_df shape: (49, 36)\n",
      "OU Name: ExecSort, ou_df shape: (1751, 42)\n",
      "OU Name: ExecFunctionScan, ou_df shape: (808, 41)\n",
      "OU Name: ExecLockRows, ou_df shape: (27688, 36)\n",
      "OU Name: ExecNestLoop, ou_df shape: (1462, 40)\n"
     ]
    }
   ],
   "source": [
    "for (ou_name, ou_df) in ou_name_to_df.items():\n",
    "    print(f\"OU Name: {ou_name}, ou_df shape: {ou_df.shape}\")"
   ]
  },
  {
   "cell_type": "code",
   "execution_count": 38,
   "id": "d676f83b-ef0d-4994-9818-48a4b245bfea",
   "metadata": {},
   "outputs": [
    {
     "data": {
      "text/plain": [
       "dict_keys(['ExecProjectSet', 'ExecSeqScan', 'ExecUnique', 'ExecHashJoinImpl', 'ExecAppend', 'ExecResult', 'ExecModifyTable', 'ExecIndexScan', 'ExecAgg', 'ExecIndexOnlyScan', 'ExecSubqueryScan', 'ExecSubPlan', 'ExecWindowAgg', 'ExecIncrementalSort', 'ExecLimit', 'ExecSampleScan', 'ExecMaterial', 'ExecSort', 'ExecFunctionScan', 'ExecLockRows', 'ExecNestLoop'])"
      ]
     },
     "execution_count": 38,
     "metadata": {},
     "output_type": "execute_result"
    }
   ],
   "source": [
    "ou_name_to_df.keys()"
   ]
  },
  {
   "cell_type": "markdown",
   "id": "3d119162-b677-4be6-b0ce-7ddab4ad00cc",
   "metadata": {
    "tags": []
   },
   "source": [
    "# Pre-processing"
   ]
  },
  {
   "cell_type": "markdown",
   "id": "b44449e9-3c0b-480a-bd84-4650ccc06b9c",
   "metadata": {
    "tags": []
   },
   "source": [
    "#### Get IndexScan OU Data"
   ]
  },
  {
   "cell_type": "code",
   "execution_count": 80,
   "id": "fd099c45-c6fb-4e93-80e5-4474e220c504",
   "metadata": {},
   "outputs": [],
   "source": [
    "target_ou = 'ExecNestLoop'\n",
    "df = ou_name_to_df[target_ou]"
   ]
  },
  {
   "cell_type": "markdown",
   "id": "8b0fc44d-808c-4493-98a6-2891e50428de",
   "metadata": {},
   "source": [
    "### Remove Start/End Time (since elapsed_us == end_time - start_time)"
   ]
  },
  {
   "cell_type": "code",
   "execution_count": 81,
   "id": "62b6f37a-fee1-449d-9f8c-88d30b761a16",
   "metadata": {},
   "outputs": [],
   "source": [
    "cols_to_remove = ['start_time', 'end_time', 'cpu_id', 'query_id']\n",
    "df = df.drop(cols_to_remove, axis=1)"
   ]
  },
  {
   "cell_type": "markdown",
   "id": "97fd7b35-c407-488b-a50c-f5bef214ff31",
   "metadata": {},
   "source": [
    "#### Remove constant columns"
   ]
  },
  {
   "cell_type": "code",
   "execution_count": 82,
   "id": "c0c679e2-fec8-40b1-803d-1ecd8a10944d",
   "metadata": {},
   "outputs": [
    {
     "name": "stdout",
     "output_type": "stream",
     "text": [
      "Dropped zero-variance columns: ['NestLoopState_js_ps_type', 'NestLoopState_js_ps_async_capable', 'NestLoopState_js_ps_scanopsfixed', 'NestLoopState_js_ps_outeropsfixed', 'NestLoopState_js_ps_inneropsfixed', 'NestLoopState_js_ps_resultopsfixed', 'NestLoopState_js_ps_scanopsset', 'NestLoopState_js_ps_outeropsset', 'NestLoopState_js_ps_inneropsset', 'NestLoopState_js_ps_resultopsset', 'NestLoop_join_plan_type', 'NestLoop_join_plan_parallel_aware', 'NestLoop_join_plan_async_capable', 'network_bytes_read', 'network_bytes_written', 'disk_bytes_read', 'memory_bytes']\n",
      "Num Remaining: 19, Num Removed 17\n"
     ]
    }
   ],
   "source": [
    "cols_to_remove = []\n",
    "for col in df.columns:\n",
    "    if df[col].nunique() == 1: \n",
    "            cols_to_remove.append(col)\n",
    "\n",
    "df = df.drop(cols_to_remove, axis=1)\n",
    "print(f\"Dropped zero-variance columns: {cols_to_remove}\")\n",
    "print(f\"Num Remaining: {len(df.columns)}, Num Removed {len(cols_to_remove)}\")"
   ]
  },
  {
   "cell_type": "markdown",
   "id": "4c2811c9-cfbf-4169-ae6b-4b02d3c558d1",
   "metadata": {
    "tags": []
   },
   "source": [
    "### Summarize Features"
   ]
  },
  {
   "cell_type": "code",
   "execution_count": 83,
   "id": "e67e26f9-5920-4385-9235-2131daa3f692",
   "metadata": {},
   "outputs": [
    {
     "data": {
      "text/html": [
       "<div>\n",
       "<style scoped>\n",
       "    .dataframe tbody tr th:only-of-type {\n",
       "        vertical-align: middle;\n",
       "    }\n",
       "\n",
       "    .dataframe tbody tr th {\n",
       "        vertical-align: top;\n",
       "    }\n",
       "\n",
       "    .dataframe thead th {\n",
       "        text-align: right;\n",
       "    }\n",
       "</style>\n",
       "<table border=\"1\" class=\"dataframe\">\n",
       "  <thead>\n",
       "    <tr style=\"text-align: right;\">\n",
       "      <th></th>\n",
       "      <th>NestLoopState_js_jointype</th>\n",
       "      <th>NestLoopState_js_single_match</th>\n",
       "      <th>NestLoopState_nl_NeedNewOuter</th>\n",
       "      <th>NestLoopState_nl_MatchedOuter</th>\n",
       "      <th>NestLoop_join_plan_startup_cost</th>\n",
       "      <th>NestLoop_join_plan_total_cost</th>\n",
       "      <th>NestLoop_join_plan_plan_rows</th>\n",
       "      <th>NestLoop_join_plan_plan_width</th>\n",
       "      <th>NestLoop_join_plan_parallel_safe</th>\n",
       "      <th>NestLoop_join_plan_plan_node_id</th>\n",
       "      <th>NestLoop_join_jointype</th>\n",
       "      <th>NestLoop_join_inner_unique</th>\n",
       "    </tr>\n",
       "  </thead>\n",
       "  <tbody>\n",
       "    <tr>\n",
       "      <th>count</th>\n",
       "      <td>1462.000000</td>\n",
       "      <td>1462.000000</td>\n",
       "      <td>1462.000000</td>\n",
       "      <td>1462.000000</td>\n",
       "      <td>1462.000000</td>\n",
       "      <td>1.462000e+03</td>\n",
       "      <td>1.462000e+03</td>\n",
       "      <td>1462.000000</td>\n",
       "      <td>1462.000000</td>\n",
       "      <td>1462.000000</td>\n",
       "      <td>1462.000000</td>\n",
       "      <td>1462.000000</td>\n",
       "    </tr>\n",
       "    <tr>\n",
       "      <th>mean</th>\n",
       "      <td>0.454856</td>\n",
       "      <td>0.274282</td>\n",
       "      <td>0.990424</td>\n",
       "      <td>0.079343</td>\n",
       "      <td>719.818403</td>\n",
       "      <td>3.150270e+05</td>\n",
       "      <td>2.063595e+07</td>\n",
       "      <td>94.405609</td>\n",
       "      <td>0.259234</td>\n",
       "      <td>4.200410</td>\n",
       "      <td>0.454856</td>\n",
       "      <td>0.249658</td>\n",
       "    </tr>\n",
       "    <tr>\n",
       "      <th>std</th>\n",
       "      <td>0.755777</td>\n",
       "      <td>0.446304</td>\n",
       "      <td>0.097420</td>\n",
       "      <td>0.270366</td>\n",
       "      <td>17477.538288</td>\n",
       "      <td>9.982938e+06</td>\n",
       "      <td>7.865190e+08</td>\n",
       "      <td>121.561578</td>\n",
       "      <td>0.438364</td>\n",
       "      <td>8.915386</td>\n",
       "      <td>0.755777</td>\n",
       "      <td>0.432963</td>\n",
       "    </tr>\n",
       "    <tr>\n",
       "      <th>min</th>\n",
       "      <td>0.000000</td>\n",
       "      <td>0.000000</td>\n",
       "      <td>0.000000</td>\n",
       "      <td>0.000000</td>\n",
       "      <td>0.000000</td>\n",
       "      <td>1.000000e-02</td>\n",
       "      <td>1.000000e+00</td>\n",
       "      <td>0.000000</td>\n",
       "      <td>0.000000</td>\n",
       "      <td>0.000000</td>\n",
       "      <td>0.000000</td>\n",
       "      <td>0.000000</td>\n",
       "    </tr>\n",
       "    <tr>\n",
       "      <th>25%</th>\n",
       "      <td>0.000000</td>\n",
       "      <td>0.000000</td>\n",
       "      <td>1.000000</td>\n",
       "      <td>0.000000</td>\n",
       "      <td>0.000000</td>\n",
       "      <td>4.428125e+00</td>\n",
       "      <td>1.000000e+00</td>\n",
       "      <td>9.000000</td>\n",
       "      <td>0.000000</td>\n",
       "      <td>1.000000</td>\n",
       "      <td>0.000000</td>\n",
       "      <td>0.000000</td>\n",
       "    </tr>\n",
       "    <tr>\n",
       "      <th>50%</th>\n",
       "      <td>0.000000</td>\n",
       "      <td>0.000000</td>\n",
       "      <td>1.000000</td>\n",
       "      <td>0.000000</td>\n",
       "      <td>0.272500</td>\n",
       "      <td>1.974208e+01</td>\n",
       "      <td>1.000000e+00</td>\n",
       "      <td>64.000000</td>\n",
       "      <td>0.000000</td>\n",
       "      <td>1.000000</td>\n",
       "      <td>0.000000</td>\n",
       "      <td>0.000000</td>\n",
       "    </tr>\n",
       "    <tr>\n",
       "      <th>75%</th>\n",
       "      <td>1.000000</td>\n",
       "      <td>1.000000</td>\n",
       "      <td>1.000000</td>\n",
       "      <td>0.000000</td>\n",
       "      <td>13.738072</td>\n",
       "      <td>8.557764e+01</td>\n",
       "      <td>1.300000e+01</td>\n",
       "      <td>128.750000</td>\n",
       "      <td>1.000000</td>\n",
       "      <td>3.000000</td>\n",
       "      <td>1.000000</td>\n",
       "      <td>0.000000</td>\n",
       "    </tr>\n",
       "    <tr>\n",
       "      <th>max</th>\n",
       "      <td>5.000000</td>\n",
       "      <td>1.000000</td>\n",
       "      <td>1.000000</td>\n",
       "      <td>1.000000</td>\n",
       "      <td>644787.388438</td>\n",
       "      <td>3.778251e+08</td>\n",
       "      <td>3.007338e+10</td>\n",
       "      <td>888.000000</td>\n",
       "      <td>1.000000</td>\n",
       "      <td>85.000000</td>\n",
       "      <td>5.000000</td>\n",
       "      <td>1.000000</td>\n",
       "    </tr>\n",
       "  </tbody>\n",
       "</table>\n",
       "</div>"
      ],
      "text/plain": [
       "       NestLoopState_js_jointype  NestLoopState_js_single_match  \\\n",
       "count                1462.000000                    1462.000000   \n",
       "mean                    0.454856                       0.274282   \n",
       "std                     0.755777                       0.446304   \n",
       "min                     0.000000                       0.000000   \n",
       "25%                     0.000000                       0.000000   \n",
       "50%                     0.000000                       0.000000   \n",
       "75%                     1.000000                       1.000000   \n",
       "max                     5.000000                       1.000000   \n",
       "\n",
       "       NestLoopState_nl_NeedNewOuter  NestLoopState_nl_MatchedOuter  \\\n",
       "count                    1462.000000                    1462.000000   \n",
       "mean                        0.990424                       0.079343   \n",
       "std                         0.097420                       0.270366   \n",
       "min                         0.000000                       0.000000   \n",
       "25%                         1.000000                       0.000000   \n",
       "50%                         1.000000                       0.000000   \n",
       "75%                         1.000000                       0.000000   \n",
       "max                         1.000000                       1.000000   \n",
       "\n",
       "       NestLoop_join_plan_startup_cost  NestLoop_join_plan_total_cost  \\\n",
       "count                      1462.000000                   1.462000e+03   \n",
       "mean                        719.818403                   3.150270e+05   \n",
       "std                       17477.538288                   9.982938e+06   \n",
       "min                           0.000000                   1.000000e-02   \n",
       "25%                           0.000000                   4.428125e+00   \n",
       "50%                           0.272500                   1.974208e+01   \n",
       "75%                          13.738072                   8.557764e+01   \n",
       "max                      644787.388438                   3.778251e+08   \n",
       "\n",
       "       NestLoop_join_plan_plan_rows  NestLoop_join_plan_plan_width  \\\n",
       "count                  1.462000e+03                    1462.000000   \n",
       "mean                   2.063595e+07                      94.405609   \n",
       "std                    7.865190e+08                     121.561578   \n",
       "min                    1.000000e+00                       0.000000   \n",
       "25%                    1.000000e+00                       9.000000   \n",
       "50%                    1.000000e+00                      64.000000   \n",
       "75%                    1.300000e+01                     128.750000   \n",
       "max                    3.007338e+10                     888.000000   \n",
       "\n",
       "       NestLoop_join_plan_parallel_safe  NestLoop_join_plan_plan_node_id  \\\n",
       "count                       1462.000000                      1462.000000   \n",
       "mean                           0.259234                         4.200410   \n",
       "std                            0.438364                         8.915386   \n",
       "min                            0.000000                         0.000000   \n",
       "25%                            0.000000                         1.000000   \n",
       "50%                            0.000000                         1.000000   \n",
       "75%                            1.000000                         3.000000   \n",
       "max                            1.000000                        85.000000   \n",
       "\n",
       "       NestLoop_join_jointype  NestLoop_join_inner_unique  \n",
       "count             1462.000000                 1462.000000  \n",
       "mean                 0.454856                    0.249658  \n",
       "std                  0.755777                    0.432963  \n",
       "min                  0.000000                    0.000000  \n",
       "25%                  0.000000                    0.000000  \n",
       "50%                  0.000000                    0.000000  \n",
       "75%                  1.000000                    0.000000  \n",
       "max                  5.000000                    1.000000  "
      ]
     },
     "execution_count": 83,
     "metadata": {},
     "output_type": "execute_result"
    }
   ],
   "source": [
    "all_target_cols = ['cpu_cycles', 'instructions', 'cache_references', 'cache_misses', 'ref_cpu_cycles', 'network_bytes_read', 'network_bytes_written', 'disk_bytes_read', 'disk_bytes_written', 'memory_bytes', 'elapsed_us']\n",
    "feat_cols = [col for col in df.columns if col not in all_target_cols]\n",
    "features = df[feat_cols]\n",
    "features.describe()"
   ]
  },
  {
   "cell_type": "markdown",
   "id": "b10c98f0-a673-4c41-8d23-35eaa194cbde",
   "metadata": {},
   "source": [
    "### Summarize Targets"
   ]
  },
  {
   "cell_type": "code",
   "execution_count": 84,
   "id": "754600f5-b206-43a0-adc7-bed75eabd73f",
   "metadata": {},
   "outputs": [
    {
     "data": {
      "text/html": [
       "<div>\n",
       "<style scoped>\n",
       "    .dataframe tbody tr th:only-of-type {\n",
       "        vertical-align: middle;\n",
       "    }\n",
       "\n",
       "    .dataframe tbody tr th {\n",
       "        vertical-align: top;\n",
       "    }\n",
       "\n",
       "    .dataframe thead th {\n",
       "        text-align: right;\n",
       "    }\n",
       "</style>\n",
       "<table border=\"1\" class=\"dataframe\">\n",
       "  <thead>\n",
       "    <tr style=\"text-align: right;\">\n",
       "      <th></th>\n",
       "      <th>cpu_cycles</th>\n",
       "      <th>instructions</th>\n",
       "      <th>cache_references</th>\n",
       "      <th>cache_misses</th>\n",
       "      <th>ref_cpu_cycles</th>\n",
       "      <th>disk_bytes_written</th>\n",
       "      <th>elapsed_us</th>\n",
       "    </tr>\n",
       "  </thead>\n",
       "  <tbody>\n",
       "    <tr>\n",
       "      <th>count</th>\n",
       "      <td>1.462000e+03</td>\n",
       "      <td>1.462000e+03</td>\n",
       "      <td>1.462000e+03</td>\n",
       "      <td>1.462000e+03</td>\n",
       "      <td>1.462000e+03</td>\n",
       "      <td>1462.000000</td>\n",
       "      <td>1462.000000</td>\n",
       "    </tr>\n",
       "    <tr>\n",
       "      <th>mean</th>\n",
       "      <td>2.116629e+07</td>\n",
       "      <td>1.931093e+07</td>\n",
       "      <td>2.939518e+05</td>\n",
       "      <td>2.085954e+04</td>\n",
       "      <td>1.143105e+07</td>\n",
       "      <td>11.803010</td>\n",
       "      <td>4653.531464</td>\n",
       "    </tr>\n",
       "    <tr>\n",
       "      <th>std</th>\n",
       "      <td>2.224985e+08</td>\n",
       "      <td>2.040422e+08</td>\n",
       "      <td>2.766199e+06</td>\n",
       "      <td>1.611239e+05</td>\n",
       "      <td>1.231233e+08</td>\n",
       "      <td>222.285274</td>\n",
       "      <td>44400.984502</td>\n",
       "    </tr>\n",
       "    <tr>\n",
       "      <th>min</th>\n",
       "      <td>1.985000e+03</td>\n",
       "      <td>1.151000e+03</td>\n",
       "      <td>8.800000e+01</td>\n",
       "      <td>1.500000e+01</td>\n",
       "      <td>1.489000e+03</td>\n",
       "      <td>0.000000</td>\n",
       "      <td>3.000000</td>\n",
       "    </tr>\n",
       "    <tr>\n",
       "      <th>25%</th>\n",
       "      <td>4.068175e+04</td>\n",
       "      <td>3.985500e+04</td>\n",
       "      <td>1.723500e+03</td>\n",
       "      <td>1.050000e+02</td>\n",
       "      <td>1.195525e+04</td>\n",
       "      <td>0.000000</td>\n",
       "      <td>14.000000</td>\n",
       "    </tr>\n",
       "    <tr>\n",
       "      <th>50%</th>\n",
       "      <td>1.218260e+05</td>\n",
       "      <td>7.449750e+04</td>\n",
       "      <td>4.232000e+03</td>\n",
       "      <td>1.472000e+03</td>\n",
       "      <td>6.190050e+04</td>\n",
       "      <td>0.000000</td>\n",
       "      <td>24.000000</td>\n",
       "    </tr>\n",
       "    <tr>\n",
       "      <th>75%</th>\n",
       "      <td>4.214575e+05</td>\n",
       "      <td>3.823890e+05</td>\n",
       "      <td>1.278050e+04</td>\n",
       "      <td>4.402750e+03</td>\n",
       "      <td>1.865872e+05</td>\n",
       "      <td>0.000000</td>\n",
       "      <td>88.000000</td>\n",
       "    </tr>\n",
       "    <tr>\n",
       "      <th>max</th>\n",
       "      <td>4.431348e+09</td>\n",
       "      <td>4.117614e+09</td>\n",
       "      <td>4.605394e+07</td>\n",
       "      <td>2.984951e+06</td>\n",
       "      <td>2.426033e+09</td>\n",
       "      <td>5584.000000</td>\n",
       "      <td>870203.000000</td>\n",
       "    </tr>\n",
       "  </tbody>\n",
       "</table>\n",
       "</div>"
      ],
      "text/plain": [
       "         cpu_cycles  instructions  cache_references  cache_misses  \\\n",
       "count  1.462000e+03  1.462000e+03      1.462000e+03  1.462000e+03   \n",
       "mean   2.116629e+07  1.931093e+07      2.939518e+05  2.085954e+04   \n",
       "std    2.224985e+08  2.040422e+08      2.766199e+06  1.611239e+05   \n",
       "min    1.985000e+03  1.151000e+03      8.800000e+01  1.500000e+01   \n",
       "25%    4.068175e+04  3.985500e+04      1.723500e+03  1.050000e+02   \n",
       "50%    1.218260e+05  7.449750e+04      4.232000e+03  1.472000e+03   \n",
       "75%    4.214575e+05  3.823890e+05      1.278050e+04  4.402750e+03   \n",
       "max    4.431348e+09  4.117614e+09      4.605394e+07  2.984951e+06   \n",
       "\n",
       "       ref_cpu_cycles  disk_bytes_written     elapsed_us  \n",
       "count    1.462000e+03         1462.000000    1462.000000  \n",
       "mean     1.143105e+07           11.803010    4653.531464  \n",
       "std      1.231233e+08          222.285274   44400.984502  \n",
       "min      1.489000e+03            0.000000       3.000000  \n",
       "25%      1.195525e+04            0.000000      14.000000  \n",
       "50%      6.190050e+04            0.000000      24.000000  \n",
       "75%      1.865872e+05            0.000000      88.000000  \n",
       "max      2.426033e+09         5584.000000  870203.000000  "
      ]
     },
     "execution_count": 84,
     "metadata": {},
     "output_type": "execute_result"
    }
   ],
   "source": [
    "target_cols = [col for col in df.columns if col in all_target_cols]\n",
    "targets = df[target_cols]\n",
    "targets.describe()"
   ]
  },
  {
   "cell_type": "markdown",
   "id": "8bc882ec-df72-4c5f-8e47-5eaf263da876",
   "metadata": {},
   "source": [
    "## Show Features"
   ]
  },
  {
   "cell_type": "code",
   "execution_count": 85,
   "id": "d74b2a4f-0b6c-4336-bc9a-e183d7691db9",
   "metadata": {},
   "outputs": [
    {
     "data": {
      "text/html": [
       "<div>\n",
       "<style scoped>\n",
       "    .dataframe tbody tr th:only-of-type {\n",
       "        vertical-align: middle;\n",
       "    }\n",
       "\n",
       "    .dataframe tbody tr th {\n",
       "        vertical-align: top;\n",
       "    }\n",
       "\n",
       "    .dataframe thead th {\n",
       "        text-align: right;\n",
       "    }\n",
       "</style>\n",
       "<table border=\"1\" class=\"dataframe\">\n",
       "  <thead>\n",
       "    <tr style=\"text-align: right;\">\n",
       "      <th></th>\n",
       "      <th>NestLoopState_js_jointype</th>\n",
       "      <th>NestLoopState_js_single_match</th>\n",
       "      <th>NestLoopState_nl_NeedNewOuter</th>\n",
       "      <th>NestLoopState_nl_MatchedOuter</th>\n",
       "      <th>NestLoop_join_plan_startup_cost</th>\n",
       "      <th>NestLoop_join_plan_total_cost</th>\n",
       "      <th>NestLoop_join_plan_plan_rows</th>\n",
       "      <th>NestLoop_join_plan_plan_width</th>\n",
       "      <th>NestLoop_join_plan_parallel_safe</th>\n",
       "      <th>NestLoop_join_plan_plan_node_id</th>\n",
       "      <th>NestLoop_join_jointype</th>\n",
       "      <th>NestLoop_join_inner_unique</th>\n",
       "    </tr>\n",
       "  </thead>\n",
       "  <tbody>\n",
       "    <tr>\n",
       "      <th>0</th>\n",
       "      <td>1</td>\n",
       "      <td>0</td>\n",
       "      <td>1</td>\n",
       "      <td>0</td>\n",
       "      <td>0.002500</td>\n",
       "      <td>0.035000</td>\n",
       "      <td>1.0</td>\n",
       "      <td>256</td>\n",
       "      <td>0</td>\n",
       "      <td>1</td>\n",
       "      <td>1</td>\n",
       "      <td>0</td>\n",
       "    </tr>\n",
       "    <tr>\n",
       "      <th>1</th>\n",
       "      <td>0</td>\n",
       "      <td>0</td>\n",
       "      <td>1</td>\n",
       "      <td>0</td>\n",
       "      <td>0.000000</td>\n",
       "      <td>0.042500</td>\n",
       "      <td>1.0</td>\n",
       "      <td>8</td>\n",
       "      <td>0</td>\n",
       "      <td>0</td>\n",
       "      <td>0</td>\n",
       "      <td>0</td>\n",
       "    </tr>\n",
       "    <tr>\n",
       "      <th>2</th>\n",
       "      <td>0</td>\n",
       "      <td>0</td>\n",
       "      <td>1</td>\n",
       "      <td>0</td>\n",
       "      <td>13.926875</td>\n",
       "      <td>24.514375</td>\n",
       "      <td>1.0</td>\n",
       "      <td>4</td>\n",
       "      <td>0</td>\n",
       "      <td>2</td>\n",
       "      <td>0</td>\n",
       "      <td>0</td>\n",
       "    </tr>\n",
       "    <tr>\n",
       "      <th>3</th>\n",
       "      <td>0</td>\n",
       "      <td>0</td>\n",
       "      <td>1</td>\n",
       "      <td>0</td>\n",
       "      <td>13.836875</td>\n",
       "      <td>20.391875</td>\n",
       "      <td>1.0</td>\n",
       "      <td>39</td>\n",
       "      <td>0</td>\n",
       "      <td>3</td>\n",
       "      <td>0</td>\n",
       "      <td>0</td>\n",
       "    </tr>\n",
       "    <tr>\n",
       "      <th>4</th>\n",
       "      <td>0</td>\n",
       "      <td>0</td>\n",
       "      <td>1</td>\n",
       "      <td>0</td>\n",
       "      <td>13.754375</td>\n",
       "      <td>16.211875</td>\n",
       "      <td>1.0</td>\n",
       "      <td>12</td>\n",
       "      <td>0</td>\n",
       "      <td>4</td>\n",
       "      <td>0</td>\n",
       "      <td>0</td>\n",
       "    </tr>\n",
       "  </tbody>\n",
       "</table>\n",
       "</div>"
      ],
      "text/plain": [
       "   NestLoopState_js_jointype  NestLoopState_js_single_match  \\\n",
       "0                          1                              0   \n",
       "1                          0                              0   \n",
       "2                          0                              0   \n",
       "3                          0                              0   \n",
       "4                          0                              0   \n",
       "\n",
       "   NestLoopState_nl_NeedNewOuter  NestLoopState_nl_MatchedOuter  \\\n",
       "0                              1                              0   \n",
       "1                              1                              0   \n",
       "2                              1                              0   \n",
       "3                              1                              0   \n",
       "4                              1                              0   \n",
       "\n",
       "   NestLoop_join_plan_startup_cost  NestLoop_join_plan_total_cost  \\\n",
       "0                         0.002500                       0.035000   \n",
       "1                         0.000000                       0.042500   \n",
       "2                        13.926875                      24.514375   \n",
       "3                        13.836875                      20.391875   \n",
       "4                        13.754375                      16.211875   \n",
       "\n",
       "   NestLoop_join_plan_plan_rows  NestLoop_join_plan_plan_width  \\\n",
       "0                           1.0                            256   \n",
       "1                           1.0                              8   \n",
       "2                           1.0                              4   \n",
       "3                           1.0                             39   \n",
       "4                           1.0                             12   \n",
       "\n",
       "   NestLoop_join_plan_parallel_safe  NestLoop_join_plan_plan_node_id  \\\n",
       "0                                 0                                1   \n",
       "1                                 0                                0   \n",
       "2                                 0                                2   \n",
       "3                                 0                                3   \n",
       "4                                 0                                4   \n",
       "\n",
       "   NestLoop_join_jointype  NestLoop_join_inner_unique  \n",
       "0                       1                           0  \n",
       "1                       0                           0  \n",
       "2                       0                           0  \n",
       "3                       0                           0  \n",
       "4                       0                           0  "
      ]
     },
     "execution_count": 85,
     "metadata": {},
     "output_type": "execute_result"
    }
   ],
   "source": [
    "features.head(5)"
   ]
  },
  {
   "cell_type": "markdown",
   "id": "0c832e31-2548-4753-a6e9-a65aa28c5bb8",
   "metadata": {},
   "source": [
    "## Show targets"
   ]
  },
  {
   "cell_type": "code",
   "execution_count": 86,
   "id": "9682b5be-a0b6-499e-abce-4d4bae6be36c",
   "metadata": {},
   "outputs": [
    {
     "data": {
      "text/html": [
       "<div>\n",
       "<style scoped>\n",
       "    .dataframe tbody tr th:only-of-type {\n",
       "        vertical-align: middle;\n",
       "    }\n",
       "\n",
       "    .dataframe tbody tr th {\n",
       "        vertical-align: top;\n",
       "    }\n",
       "\n",
       "    .dataframe thead th {\n",
       "        text-align: right;\n",
       "    }\n",
       "</style>\n",
       "<table border=\"1\" class=\"dataframe\">\n",
       "  <thead>\n",
       "    <tr style=\"text-align: right;\">\n",
       "      <th></th>\n",
       "      <th>cpu_cycles</th>\n",
       "      <th>instructions</th>\n",
       "      <th>cache_references</th>\n",
       "      <th>cache_misses</th>\n",
       "      <th>ref_cpu_cycles</th>\n",
       "      <th>disk_bytes_written</th>\n",
       "      <th>elapsed_us</th>\n",
       "    </tr>\n",
       "  </thead>\n",
       "  <tbody>\n",
       "    <tr>\n",
       "      <th>0</th>\n",
       "      <td>8129080</td>\n",
       "      <td>5922939</td>\n",
       "      <td>32568</td>\n",
       "      <td>18380</td>\n",
       "      <td>485029</td>\n",
       "      <td>0</td>\n",
       "      <td>11048</td>\n",
       "    </tr>\n",
       "    <tr>\n",
       "      <th>1</th>\n",
       "      <td>121146</td>\n",
       "      <td>179572</td>\n",
       "      <td>6104</td>\n",
       "      <td>328</td>\n",
       "      <td>75128</td>\n",
       "      <td>0</td>\n",
       "      <td>32</td>\n",
       "    </tr>\n",
       "    <tr>\n",
       "      <th>2</th>\n",
       "      <td>3503</td>\n",
       "      <td>1484</td>\n",
       "      <td>137</td>\n",
       "      <td>6379</td>\n",
       "      <td>218175</td>\n",
       "      <td>0</td>\n",
       "      <td>50</td>\n",
       "    </tr>\n",
       "    <tr>\n",
       "      <th>3</th>\n",
       "      <td>3092</td>\n",
       "      <td>1311</td>\n",
       "      <td>121</td>\n",
       "      <td>6082</td>\n",
       "      <td>193430</td>\n",
       "      <td>0</td>\n",
       "      <td>44</td>\n",
       "    </tr>\n",
       "    <tr>\n",
       "      <th>4</th>\n",
       "      <td>2716</td>\n",
       "      <td>1151</td>\n",
       "      <td>107</td>\n",
       "      <td>5875</td>\n",
       "      <td>169906</td>\n",
       "      <td>0</td>\n",
       "      <td>39</td>\n",
       "    </tr>\n",
       "  </tbody>\n",
       "</table>\n",
       "</div>"
      ],
      "text/plain": [
       "   cpu_cycles  instructions  cache_references  cache_misses  ref_cpu_cycles  \\\n",
       "0     8129080       5922939             32568         18380          485029   \n",
       "1      121146        179572              6104           328           75128   \n",
       "2        3503          1484               137          6379          218175   \n",
       "3        3092          1311               121          6082          193430   \n",
       "4        2716          1151               107          5875          169906   \n",
       "\n",
       "   disk_bytes_written  elapsed_us  \n",
       "0                   0       11048  \n",
       "1                   0          32  \n",
       "2                   0          50  \n",
       "3                   0          44  \n",
       "4                   0          39  "
      ]
     },
     "execution_count": 86,
     "metadata": {},
     "output_type": "execute_result"
    }
   ],
   "source": [
    "targets.head(5)"
   ]
  },
  {
   "cell_type": "code",
   "execution_count": 87,
   "id": "274fdb84-0db0-432f-94df-10cd4e69d104",
   "metadata": {},
   "outputs": [],
   "source": [
    "def plot_histograms(df): \n",
    "    for col_name in df.columns: \n",
    "        res = stats.relfreq(df[col_name], numbins=10)\n",
    "        x = res.lowerlimit + np.linspace(0, res.binsize*res.frequency.size,\n",
    "                                         res.frequency.size)\n",
    "        fig = plt.figure(figsize=(6, 2))\n",
    "        ax = fig.add_subplot(1, 1, 1)\n",
    "        ax.bar(x, res.frequency, width=res.binsize)\n",
    "        ax.set_title(col_name)\n",
    "        ax.set_xlim([x.min(), x.max()])"
   ]
  },
  {
   "cell_type": "markdown",
   "id": "25fea886-a0d1-43bf-b6b9-97a527234b0d",
   "metadata": {
    "tags": []
   },
   "source": [
    "#### Visualizations"
   ]
  },
  {
   "cell_type": "code",
   "execution_count": 88,
   "id": "18c55cf1-a0de-41d1-8000-7894adda14d1",
   "metadata": {},
   "outputs": [
    {
     "data": {
      "image/png": "[encoded data removed]",
      "text/plain": [
       "<Figure size 432x144 with 1 Axes>"
      ]
     },
     "metadata": {
      "needs_background": "light"
     },
     "output_type": "display_data"
    },
    {
     "data": {
      "image/png": "[encoded data removed]",
      "text/plain": [
       "<Figure size 432x144 with 1 Axes>"
      ]
     },
     "metadata": {
      "needs_background": "light"
     },
     "output_type": "display_data"
    },
    {
     "data": {
      "image/png": "[encoded data removed]",
      "text/plain": [
       "<Figure size 432x144 with 1 Axes>"
      ]
     },
     "metadata": {
      "needs_background": "light"
     },
     "output_type": "display_data"
    },
    {
     "data": {
      "image/png": "[encoded data removed]",
      "text/plain": [
       "<Figure size 432x144 with 1 Axes>"
      ]
     },
     "metadata": {
      "needs_background": "light"
     },
     "output_type": "display_data"
    },
    {
     "data": {
      "image/png": "[encoded data removed]",
      "text/plain": [
       "<Figure size 432x144 with 1 Axes>"
      ]
     },
     "metadata": {
      "needs_background": "light"
     },
     "output_type": "display_data"
    },
    {
     "data": {
      "image/png": "[encoded data removed]",
      "text/plain": [
       "<Figure size 432x144 with 1 Axes>"
      ]
     },
     "metadata": {
      "needs_background": "light"
     },
     "output_type": "display_data"
    },
    {
     "data": {
      "image/png": "[encoded data removed]",
      "text/plain": [
       "<Figure size 432x144 with 1 Axes>"
      ]
     },
     "metadata": {
      "needs_background": "light"
     },
     "output_type": "display_data"
    }
   ],
   "source": [
    "plot_histograms(targets)"
   ]
  },
  {
   "cell_type": "code",
   "execution_count": 89,
   "id": "28d828bf-1ce1-4ee2-90ae-8144291150eb",
   "metadata": {},
   "outputs": [
    {
     "data": {
      "image/png": "[encoded data removed]",
      "text/plain": [
       "<Figure size 432x144 with 1 Axes>"
      ]
     },
     "metadata": {
      "needs_background": "light"
     },
     "output_type": "display_data"
    },
    {
     "data": {
      "image/png": "[encoded data removed]",
      "text/plain": [
       "<Figure size 432x144 with 1 Axes>"
      ]
     },
     "metadata": {
      "needs_background": "light"
     },
     "output_type": "display_data"
    },
    {
     "data": {
      "image/png": "[encoded data removed]",
      "text/plain": [
       "<Figure size 432x144 with 1 Axes>"
      ]
     },
     "metadata": {
      "needs_background": "light"
     },
     "output_type": "display_data"
    },
    {
     "data": {
      "image/png": "[encoded data removed]",
      "text/plain": [
       "<Figure size 432x144 with 1 Axes>"
      ]
     },
     "metadata": {
      "needs_background": "light"
     },
     "output_type": "display_data"
    },
    {
     "data": {
      "image/png": "[encoded data removed]",
      "text/plain": [
       "<Figure size 432x144 with 1 Axes>"
      ]
     },
     "metadata": {
      "needs_background": "light"
     },
     "output_type": "display_data"
    },
    {
     "data": {
      "image/png": "[encoded data removed]",
      "text/plain": [
       "<Figure size 432x144 with 1 Axes>"
      ]
     },
     "metadata": {
      "needs_background": "light"
     },
     "output_type": "display_data"
    },
    {
     "data": {
      "image/png": "[encoded data removed]",
      "text/plain": [
       "<Figure size 432x144 with 1 Axes>"
      ]
     },
     "metadata": {
      "needs_background": "light"
     },
     "output_type": "display_data"
    },
    {
     "data": {
      "image/png": "[encoded data removed]",
      "text/plain": [
       "<Figure size 432x144 with 1 Axes>"
      ]
     },
     "metadata": {
      "needs_background": "light"
     },
     "output_type": "display_data"
    },
    {
     "data": {
      "image/png": "[encoded data removed]",
      "text/plain": [
       "<Figure size 432x144 with 1 Axes>"
      ]
     },
     "metadata": {
      "needs_background": "light"
     },
     "output_type": "display_data"
    },
    {
     "data": {
      "image/png": "[encoded data removed]",
      "text/plain": [
       "<Figure size 432x144 with 1 Axes>"
      ]
     },
     "metadata": {
      "needs_background": "light"
     },
     "output_type": "display_data"
    },
    {
     "data": {
      "image/png": "[encoded data removed]",
      "text/plain": [
       "<Figure size 432x144 with 1 Axes>"
      ]
     },
     "metadata": {
      "needs_background": "light"
     },
     "output_type": "display_data"
    },
    {
     "data": {
      "image/png": "[encoded data removed]",
      "text/plain": [
       "<Figure size 432x144 with 1 Axes>"
      ]
     },
     "metadata": {
      "needs_background": "light"
     },
     "output_type": "display_data"
    }
   ],
   "source": [
    "plot_histograms(features)"
   ]
  },
  {
   "cell_type": "markdown",
   "id": "4013ae1a-d6dd-46cd-af51-60cea2c2aa98",
   "metadata": {
    "tags": []
   },
   "source": [
    "#### Correlation Heatmap"
   ]
  },
  {
   "cell_type": "code",
   "execution_count": 90,
   "id": "c5b18080-8c18-4892-9b19-6a0def42262c",
   "metadata": {},
   "outputs": [
    {
     "data": {
      "image/png": "[encoded data removed]",
      "text/plain": [
       "<Figure size 720x504 with 2 Axes>"
      ]
     },
     "metadata": {
      "needs_background": "light"
     },
     "output_type": "display_data"
    }
   ],
   "source": [
    "df_corr = df.corr()\n",
    "plt.figure(figsize=(10,7))\n",
    "sns.heatmap(df_corr, cmap='GnBu')\n",
    "plt.show()"
   ]
  },
  {
   "cell_type": "markdown",
   "id": "61b388e5-dde5-4537-b821-efeb8e853414",
   "metadata": {},
   "source": [
    "# Feature Analysis - PCA"
   ]
  },
  {
   "cell_type": "code",
   "execution_count": 91,
   "id": "05492839-1e4c-4c03-980f-583931ff0d19",
   "metadata": {},
   "outputs": [],
   "source": [
    "def pca_summary(df):\n",
    "    pca = PCA(n_components=None)\n",
    "    pca.fit(df)\n",
    "    print(f\"Input Dimensionality: {len(df.columns)}\")\n",
    "    for component_idx, explained_var_pct in enumerate(pca.explained_variance_ratio_):\n",
    "        print(f\"Component {component_idx} explains {round(explained_var_pct*100, 2)}% of variance\")"
   ]
  },
  {
   "cell_type": "code",
   "execution_count": 92,
   "id": "54ef595f-7344-432b-b44a-0ffd9159b041",
   "metadata": {},
   "outputs": [
    {
     "name": "stdout",
     "output_type": "stream",
     "text": [
      "Input Dimensionality: 19\n",
      "Component 0 explains 85.34% of variance\n",
      "Component 1 explains 14.64% of variance\n",
      "Component 2 explains 0.01% of variance\n",
      "Component 3 explains 0.01% of variance\n",
      "Component 4 explains 0.0% of variance\n",
      "Component 5 explains 0.0% of variance\n",
      "Component 6 explains 0.0% of variance\n",
      "Component 7 explains 0.0% of variance\n",
      "Component 8 explains 0.0% of variance\n",
      "Component 9 explains 0.0% of variance\n",
      "Component 10 explains 0.0% of variance\n",
      "Component 11 explains 0.0% of variance\n",
      "Component 12 explains 0.0% of variance\n",
      "Component 13 explains 0.0% of variance\n",
      "Component 14 explains 0.0% of variance\n",
      "Component 15 explains 0.0% of variance\n",
      "Component 16 explains 0.0% of variance\n",
      "Component 17 explains 0.0% of variance\n",
      "Component 18 explains 0.0% of variance\n"
     ]
    }
   ],
   "source": [
    "pca_summary(df)"
   ]
  },
  {
   "cell_type": "code",
   "execution_count": 93,
   "id": "6a5292b5-fdb0-4271-ae56-efa4c5718ff0",
   "metadata": {},
   "outputs": [
    {
     "data": {
      "text/plain": [
       "Index(['NestLoopState_js_jointype', 'NestLoopState_js_single_match',\n",
       "       'NestLoopState_nl_NeedNewOuter', 'NestLoopState_nl_MatchedOuter',\n",
       "       'NestLoop_join_plan_startup_cost', 'NestLoop_join_plan_total_cost',\n",
       "       'NestLoop_join_plan_plan_rows', 'NestLoop_join_plan_plan_width',\n",
       "       'NestLoop_join_plan_parallel_safe', 'NestLoop_join_plan_plan_node_id',\n",
       "       'NestLoop_join_jointype', 'NestLoop_join_inner_unique'],\n",
       "      dtype='object')"
      ]
     },
     "execution_count": 93,
     "metadata": {},
     "output_type": "execute_result"
    }
   ],
   "source": [
    "features.columns"
   ]
  },
  {
   "cell_type": "code",
   "execution_count": 53,
   "id": "0a48f571-b4c2-4958-a183-0d4d78630927",
   "metadata": {},
   "outputs": [
    {
     "name": "stdout",
     "output_type": "stream",
     "text": [
      "Input Dimensionality: 12\n",
      "Component 0 explains 100.0% of variance\n",
      "Component 1 explains 0.0% of variance\n",
      "Component 2 explains 0.0% of variance\n",
      "Component 3 explains 0.0% of variance\n",
      "Component 4 explains 0.0% of variance\n",
      "Component 5 explains 0.0% of variance\n",
      "Component 6 explains 0.0% of variance\n",
      "Component 7 explains 0.0% of variance\n",
      "Component 8 explains 0.0% of variance\n",
      "Component 9 explains 0.0% of variance\n",
      "Component 10 explains 0.0% of variance\n",
      "Component 11 explains 0.0% of variance\n"
     ]
    }
   ],
   "source": [
    "pca_summary(features)"
   ]
  },
  {
   "cell_type": "code",
   "execution_count": null,
   "id": "d8acfc55-cd83-4b43-9db8-c090fe6a2523",
   "metadata": {},
   "outputs": [],
   "source": []
  },
  {
   "cell_type": "code",
   "execution_count": null,
   "id": "d551abc9-cf22-4f06-a87b-ccbc565f8b89",
   "metadata": {},
   "outputs": [],
   "source": []
  },
  {
   "cell_type": "code",
   "execution_count": null,
   "id": "8a42bb19-1b30-4bfb-aae1-e5d37d308dde",
   "metadata": {},
   "outputs": [],
   "source": []
  },
  {
   "cell_type": "code",
   "execution_count": null,
   "id": "76814a96-dcf8-48a0-a30a-6f95768dce2e",
   "metadata": {},
   "outputs": [],
   "source": []
  },
  {
   "cell_type": "code",
   "execution_count": null,
   "id": "d8200d21-ae7b-4905-abea-3139c93c4474",
   "metadata": {},
   "outputs": [],
   "source": []
  }
 ],
 "metadata": {
  "kernelspec": {
   "display_name": "postgres",
   "language": "python",
   "name": "postgres"
  },
  "language_info": {
   "codemirror_mode": {
    "name": "ipython",
    "version": 3
   },
   "file_extension": ".py",
   "mimetype": "text/x-python",
   "name": "python",
   "nbconvert_exporter": "python",
   "pygments_lexer": "ipython3",
   "version": "3.9.7"
  }
 },
 "nbformat": 4,
 "nbformat_minor": 5
}

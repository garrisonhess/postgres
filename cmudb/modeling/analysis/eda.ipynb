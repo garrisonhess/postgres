{
 "cells": [
  {
   "cell_type": "markdown",
   "id": "2689fbcb-9c6f-4f0f-82ec-4fb04ab6b261",
   "metadata": {},
   "source": [
    "# TPCC OU Data Collection"
   ]
  },
  {
   "cell_type": "code",
   "execution_count": 83,
   "id": "2c1aaa86-27ab-420a-addb-9c6667077820",
   "metadata": {},
   "outputs": [],
   "source": [
    "import os\n",
    "import pandas as pd\n",
    "import seaborn as sns\n",
    "import matplotlib.pyplot as plt\n",
    "import numpy as np\n",
    "from sklearn.decomposition import PCA\n",
    "import lightgbm as lgb\n",
    "from datetime import datetime\n",
    "from pathlib import Path\n",
    "from scipy import stats"
   ]
  },
  {
   "cell_type": "code",
   "execution_count": 84,
   "id": "c45f5ad8-2074-458f-87e2-707e8f820ec7",
   "metadata": {},
   "outputs": [
    {
     "data": {
      "text/plain": [
       "PosixPath('/home/glhess/postgres/cmudb/tscout/results/tpcc')"
      ]
     },
     "execution_count": 84,
     "metadata": {},
     "output_type": "execute_result"
    }
   ],
   "source": [
    "BENCHMARK_NAME = \"tpcc\"\n",
    "results_dir = Path.home() / \"postgres/cmudb/tscout/results/\" / BENCHMARK_NAME\n",
    "results_dir"
   ]
  },
  {
   "cell_type": "code",
   "execution_count": 85,
   "id": "3b0a8c07-3160-4bbe-b270-8daa3109d40f",
   "metadata": {},
   "outputs": [],
   "source": [
    "# experiment_dirs = sorted(list(results_dir.glob(\"*\")))"
   ]
  },
  {
   "cell_type": "code",
   "execution_count": 86,
   "id": "0d0923b3-0628-48e4-90b4-54854cd3d4f1",
   "metadata": {},
   "outputs": [
    {
     "name": "stdout",
     "output_type": "stream",
     "text": [
      "/home/glhess/postgres/cmudb/tscout/results/tpcc/2021-11-16_00-17-38\n"
     ]
    }
   ],
   "source": [
    "exp_name = \"2021-11-16_00-17-38\"\n",
    "exp_dir = results_dir / exp_name\n",
    "result_filepaths = list(exp_dir.glob(\"**/*.csv\"))\n",
    "print(exp_dir)"
   ]
  },
  {
   "cell_type": "markdown",
   "id": "ffbece6f-d1c6-406a-b4c1-b8eb0522b300",
   "metadata": {
    "tags": []
   },
   "source": [
    "#### Load Data"
   ]
  },
  {
   "cell_type": "code",
   "execution_count": 124,
   "id": "9ddd0d10-c45d-4deb-8bc4-4eb9febaf1ee",
   "metadata": {},
   "outputs": [
    {
     "name": "stdout",
     "output_type": "stream",
     "text": [
      "Loading filepath: /home/glhess/postgres/cmudb/tscout/results/tpcc/2021-11-16_00-17-38/1/ExecSeqScan.csv\n",
      "Loading filepath: /home/glhess/postgres/cmudb/tscout/results/tpcc/2021-11-16_00-17-38/1/ExecResult.csv\n",
      "Loading filepath: /home/glhess/postgres/cmudb/tscout/results/tpcc/2021-11-16_00-17-38/1/ExecModifyTable.csv\n",
      "Loading filepath: /home/glhess/postgres/cmudb/tscout/results/tpcc/2021-11-16_00-17-38/1/ExecIndexScan.csv\n",
      "Loading filepath: /home/glhess/postgres/cmudb/tscout/results/tpcc/2021-11-16_00-17-38/1/ExecAgg.csv\n",
      "Loading filepath: /home/glhess/postgres/cmudb/tscout/results/tpcc/2021-11-16_00-17-38/1/ExecIndexOnlyScan.csv\n",
      "Loading filepath: /home/glhess/postgres/cmudb/tscout/results/tpcc/2021-11-16_00-17-38/1/ExecLimit.csv\n",
      "Loading filepath: /home/glhess/postgres/cmudb/tscout/results/tpcc/2021-11-16_00-17-38/1/ExecSort.csv\n",
      "Loading filepath: /home/glhess/postgres/cmudb/tscout/results/tpcc/2021-11-16_00-17-38/1/ExecValuesScan.csv\n",
      "Loading filepath: /home/glhess/postgres/cmudb/tscout/results/tpcc/2021-11-16_00-17-38/1/ExecLockRows.csv\n",
      "Loading filepath: /home/glhess/postgres/cmudb/tscout/results/tpcc/2021-11-16_00-17-38/1/ExecNestLoop.csv\n"
     ]
    }
   ],
   "source": [
    "ou_name_to_df = dict()\n",
    "run_id = 1\n",
    "\n",
    "for filepath in result_filepaths:\n",
    "    ou_name = filepath.stem\n",
    "    \n",
    "    if run_id != int(filepath.parent.stem): \n",
    "        continue\n",
    "    \n",
    "    if os.stat(filepath).st_size > 0:\n",
    "        print(f\"Loading filepath: {filepath}\")\n",
    "        ou_name_to_df[ou_name] = pd.read_csv(filepath)"
   ]
  },
  {
   "cell_type": "code",
   "execution_count": 125,
   "id": "865e3c5b-753c-4255-974c-ae32cb34dc61",
   "metadata": {},
   "outputs": [
    {
     "name": "stdout",
     "output_type": "stream",
     "text": [
      "OU Name: ExecSeqScan, ou_df shape: (21537, 36)\n",
      "OU Name: ExecResult, ou_df shape: (24245, 36)\n",
      "OU Name: ExecModifyTable, ou_df shape: (166776, 51)\n",
      "OU Name: ExecIndexScan, ou_df shape: (281701, 43)\n",
      "OU Name: ExecAgg, ou_df shape: (6523, 64)\n",
      "OU Name: ExecIndexOnlyScan, ou_df shape: (7278, 43)\n",
      "OU Name: ExecLimit, ou_df shape: (7692, 42)\n",
      "OU Name: ExecSort, ou_df shape: (136, 42)\n",
      "OU Name: ExecValuesScan, ou_df shape: (13552, 37)\n",
      "OU Name: ExecLockRows, ou_df shape: (227938, 36)\n",
      "OU Name: ExecNestLoop, ou_df shape: (714, 40)\n"
     ]
    }
   ],
   "source": [
    "for (ou_name, ou_df) in ou_name_to_df.items():\n",
    "    print(f\"OU Name: {ou_name}, ou_df shape: {ou_df.shape}\")"
   ]
  },
  {
   "cell_type": "markdown",
   "id": "3d119162-b677-4be6-b0ce-7ddab4ad00cc",
   "metadata": {
    "tags": []
   },
   "source": [
    "# Pre-processing"
   ]
  },
  {
   "cell_type": "markdown",
   "id": "b44449e9-3c0b-480a-bd84-4650ccc06b9c",
   "metadata": {
    "tags": []
   },
   "source": [
    "#### Get IndexScan OU Data"
   ]
  },
  {
   "cell_type": "code",
   "execution_count": 159,
   "id": "fd099c45-c6fb-4e93-80e5-4474e220c504",
   "metadata": {},
   "outputs": [],
   "source": [
    "target_ou = 'ExecNestLoop'\n",
    "df = ou_name_to_df[target_ou]"
   ]
  },
  {
   "cell_type": "markdown",
   "id": "8b0fc44d-808c-4493-98a6-2891e50428de",
   "metadata": {},
   "source": [
    "### Remove Start/End Time (since elapsed_us == end_time - start_time)"
   ]
  },
  {
   "cell_type": "code",
   "execution_count": 160,
   "id": "62b6f37a-fee1-449d-9f8c-88d30b761a16",
   "metadata": {},
   "outputs": [],
   "source": [
    "cols_to_remove = ['start_time', 'end_time', 'cpu_id', 'query_id']\n",
    "df = df.drop(cols_to_remove, axis=1)"
   ]
  },
  {
   "cell_type": "markdown",
   "id": "97fd7b35-c407-488b-a50c-f5bef214ff31",
   "metadata": {},
   "source": [
    "#### Remove constant columns"
   ]
  },
  {
   "cell_type": "code",
   "execution_count": 161,
   "id": "c0c679e2-fec8-40b1-803d-1ecd8a10944d",
   "metadata": {},
   "outputs": [
    {
     "name": "stdout",
     "output_type": "stream",
     "text": [
      "Dropped zero-variance columns: ['NestLoopState_js_ps_type', 'NestLoopState_js_ps_async_capable', 'NestLoopState_js_ps_scanopsfixed', 'NestLoopState_js_ps_outeropsfixed', 'NestLoopState_js_ps_inneropsfixed', 'NestLoopState_js_ps_resultopsfixed', 'NestLoopState_js_ps_scanopsset', 'NestLoopState_js_ps_outeropsset', 'NestLoopState_js_ps_inneropsset', 'NestLoopState_js_ps_resultopsset', 'NestLoopState_js_jointype', 'NestLoopState_js_single_match', 'NestLoopState_nl_NeedNewOuter', 'NestLoop_join_plan_type', 'NestLoop_join_plan_plan_width', 'NestLoop_join_plan_parallel_aware', 'NestLoop_join_plan_parallel_safe', 'NestLoop_join_plan_async_capable', 'NestLoop_join_plan_plan_node_id', 'NestLoop_join_jointype', 'NestLoop_join_inner_unique', 'network_bytes_read', 'network_bytes_written', 'disk_bytes_read', 'disk_bytes_written', 'memory_bytes']\n",
      "Num Remaining: 10, Num Removed 26\n"
     ]
    }
   ],
   "source": [
    "cols_to_remove = []\n",
    "for col in df.columns:\n",
    "    if df[col].nunique() == 1: \n",
    "            cols_to_remove.append(col)\n",
    "\n",
    "df = df.drop(cols_to_remove, axis=1)\n",
    "print(f\"Dropped zero-variance columns: {cols_to_remove}\")\n",
    "print(f\"Num Remaining: {len(df.columns)}, Num Removed {len(cols_to_remove)}\")"
   ]
  },
  {
   "cell_type": "markdown",
   "id": "4c2811c9-cfbf-4169-ae6b-4b02d3c558d1",
   "metadata": {
    "tags": []
   },
   "source": [
    "### Summarize Features"
   ]
  },
  {
   "cell_type": "code",
   "execution_count": 162,
   "id": "e67e26f9-5920-4385-9235-2131daa3f692",
   "metadata": {},
   "outputs": [
    {
     "data": {
      "text/html": [
       "<div>\n",
       "<style scoped>\n",
       "    .dataframe tbody tr th:only-of-type {\n",
       "        vertical-align: middle;\n",
       "    }\n",
       "\n",
       "    .dataframe tbody tr th {\n",
       "        vertical-align: top;\n",
       "    }\n",
       "\n",
       "    .dataframe thead th {\n",
       "        text-align: right;\n",
       "    }\n",
       "</style>\n",
       "<table border=\"1\" class=\"dataframe\">\n",
       "  <thead>\n",
       "    <tr style=\"text-align: right;\">\n",
       "      <th></th>\n",
       "      <th>NestLoopState_nl_MatchedOuter</th>\n",
       "      <th>NestLoop_join_plan_startup_cost</th>\n",
       "      <th>NestLoop_join_plan_total_cost</th>\n",
       "      <th>NestLoop_join_plan_plan_rows</th>\n",
       "    </tr>\n",
       "  </thead>\n",
       "  <tbody>\n",
       "    <tr>\n",
       "      <th>count</th>\n",
       "      <td>714.000000</td>\n",
       "      <td>714.000000</td>\n",
       "      <td>714.000000</td>\n",
       "      <td>714.000000</td>\n",
       "    </tr>\n",
       "    <tr>\n",
       "      <th>mean</th>\n",
       "      <td>0.063025</td>\n",
       "      <td>0.759821</td>\n",
       "      <td>56.882945</td>\n",
       "      <td>1.165266</td>\n",
       "    </tr>\n",
       "    <tr>\n",
       "      <th>std</th>\n",
       "      <td>0.243179</td>\n",
       "      <td>0.422148</td>\n",
       "      <td>195.703214</td>\n",
       "      <td>1.110007</td>\n",
       "    </tr>\n",
       "    <tr>\n",
       "      <th>min</th>\n",
       "      <td>0.000000</td>\n",
       "      <td>0.707500</td>\n",
       "      <td>16.760481</td>\n",
       "      <td>1.000000</td>\n",
       "    </tr>\n",
       "    <tr>\n",
       "      <th>25%</th>\n",
       "      <td>0.000000</td>\n",
       "      <td>0.715000</td>\n",
       "      <td>16.764362</td>\n",
       "      <td>1.000000</td>\n",
       "    </tr>\n",
       "    <tr>\n",
       "      <th>50%</th>\n",
       "      <td>0.000000</td>\n",
       "      <td>0.715000</td>\n",
       "      <td>16.766278</td>\n",
       "      <td>1.000000</td>\n",
       "    </tr>\n",
       "    <tr>\n",
       "      <th>75%</th>\n",
       "      <td>0.000000</td>\n",
       "      <td>0.715000</td>\n",
       "      <td>16.779319</td>\n",
       "      <td>1.000000</td>\n",
       "    </tr>\n",
       "    <tr>\n",
       "      <th>max</th>\n",
       "      <td>1.000000</td>\n",
       "      <td>4.722750</td>\n",
       "      <td>1231.630263</td>\n",
       "      <td>13.000000</td>\n",
       "    </tr>\n",
       "  </tbody>\n",
       "</table>\n",
       "</div>"
      ],
      "text/plain": [
       "       NestLoopState_nl_MatchedOuter  NestLoop_join_plan_startup_cost  \\\n",
       "count                     714.000000                       714.000000   \n",
       "mean                        0.063025                         0.759821   \n",
       "std                         0.243179                         0.422148   \n",
       "min                         0.000000                         0.707500   \n",
       "25%                         0.000000                         0.715000   \n",
       "50%                         0.000000                         0.715000   \n",
       "75%                         0.000000                         0.715000   \n",
       "max                         1.000000                         4.722750   \n",
       "\n",
       "       NestLoop_join_plan_total_cost  NestLoop_join_plan_plan_rows  \n",
       "count                     714.000000                    714.000000  \n",
       "mean                       56.882945                      1.165266  \n",
       "std                       195.703214                      1.110007  \n",
       "min                        16.760481                      1.000000  \n",
       "25%                        16.764362                      1.000000  \n",
       "50%                        16.766278                      1.000000  \n",
       "75%                        16.779319                      1.000000  \n",
       "max                      1231.630263                     13.000000  "
      ]
     },
     "execution_count": 162,
     "metadata": {},
     "output_type": "execute_result"
    }
   ],
   "source": [
    "all_target_cols = ['cpu_cycles', 'instructions', 'cache_references', 'cache_misses', 'ref_cpu_cycles', 'network_bytes_read', 'network_bytes_written', 'disk_bytes_read', 'disk_bytes_written', 'memory_bytes', 'elapsed_us']\n",
    "feat_cols = [col for col in df.columns if col not in all_target_cols]\n",
    "features = df[feat_cols]\n",
    "features.describe()"
   ]
  },
  {
   "cell_type": "markdown",
   "id": "b10c98f0-a673-4c41-8d23-35eaa194cbde",
   "metadata": {},
   "source": [
    "### Summarize Targets"
   ]
  },
  {
   "cell_type": "code",
   "execution_count": 163,
   "id": "754600f5-b206-43a0-adc7-bed75eabd73f",
   "metadata": {},
   "outputs": [
    {
     "data": {
      "text/html": [
       "<div>\n",
       "<style scoped>\n",
       "    .dataframe tbody tr th:only-of-type {\n",
       "        vertical-align: middle;\n",
       "    }\n",
       "\n",
       "    .dataframe tbody tr th {\n",
       "        vertical-align: top;\n",
       "    }\n",
       "\n",
       "    .dataframe thead th {\n",
       "        text-align: right;\n",
       "    }\n",
       "</style>\n",
       "<table border=\"1\" class=\"dataframe\">\n",
       "  <thead>\n",
       "    <tr style=\"text-align: right;\">\n",
       "      <th></th>\n",
       "      <th>cpu_cycles</th>\n",
       "      <th>instructions</th>\n",
       "      <th>cache_references</th>\n",
       "      <th>cache_misses</th>\n",
       "      <th>ref_cpu_cycles</th>\n",
       "      <th>elapsed_us</th>\n",
       "    </tr>\n",
       "  </thead>\n",
       "  <tbody>\n",
       "    <tr>\n",
       "      <th>count</th>\n",
       "      <td>7.140000e+02</td>\n",
       "      <td>7.140000e+02</td>\n",
       "      <td>7.140000e+02</td>\n",
       "      <td>714.000000</td>\n",
       "      <td>7.140000e+02</td>\n",
       "      <td>714.000000</td>\n",
       "    </tr>\n",
       "    <tr>\n",
       "      <th>mean</th>\n",
       "      <td>1.109467e+07</td>\n",
       "      <td>1.102323e+07</td>\n",
       "      <td>2.740289e+05</td>\n",
       "      <td>37399.976190</td>\n",
       "      <td>6.268474e+06</td>\n",
       "      <td>2392.871148</td>\n",
       "    </tr>\n",
       "    <tr>\n",
       "      <th>std</th>\n",
       "      <td>6.806170e+06</td>\n",
       "      <td>6.141288e+06</td>\n",
       "      <td>1.751357e+05</td>\n",
       "      <td>25103.583698</td>\n",
       "      <td>4.804575e+06</td>\n",
       "      <td>414.736392</td>\n",
       "    </tr>\n",
       "    <tr>\n",
       "      <th>min</th>\n",
       "      <td>3.351890e+05</td>\n",
       "      <td>4.326880e+05</td>\n",
       "      <td>1.706500e+04</td>\n",
       "      <td>3104.000000</td>\n",
       "      <td>4.384860e+05</td>\n",
       "      <td>304.000000</td>\n",
       "    </tr>\n",
       "    <tr>\n",
       "      <th>25%</th>\n",
       "      <td>2.939892e+06</td>\n",
       "      <td>3.559548e+06</td>\n",
       "      <td>1.681740e+05</td>\n",
       "      <td>8505.250000</td>\n",
       "      <td>1.543787e+06</td>\n",
       "      <td>2170.500000</td>\n",
       "    </tr>\n",
       "    <tr>\n",
       "      <th>50%</th>\n",
       "      <td>1.381031e+07</td>\n",
       "      <td>1.339234e+07</td>\n",
       "      <td>2.180690e+05</td>\n",
       "      <td>43619.000000</td>\n",
       "      <td>5.561778e+06</td>\n",
       "      <td>2366.500000</td>\n",
       "    </tr>\n",
       "    <tr>\n",
       "      <th>75%</th>\n",
       "      <td>1.660071e+07</td>\n",
       "      <td>1.655138e+07</td>\n",
       "      <td>3.535610e+05</td>\n",
       "      <td>58753.750000</td>\n",
       "      <td>1.076361e+07</td>\n",
       "      <td>2583.250000</td>\n",
       "    </tr>\n",
       "    <tr>\n",
       "      <th>max</th>\n",
       "      <td>2.758594e+07</td>\n",
       "      <td>2.155908e+07</td>\n",
       "      <td>1.099797e+06</td>\n",
       "      <td>92654.000000</td>\n",
       "      <td>1.849652e+07</td>\n",
       "      <td>3801.000000</td>\n",
       "    </tr>\n",
       "  </tbody>\n",
       "</table>\n",
       "</div>"
      ],
      "text/plain": [
       "         cpu_cycles  instructions  cache_references  cache_misses  \\\n",
       "count  7.140000e+02  7.140000e+02      7.140000e+02    714.000000   \n",
       "mean   1.109467e+07  1.102323e+07      2.740289e+05  37399.976190   \n",
       "std    6.806170e+06  6.141288e+06      1.751357e+05  25103.583698   \n",
       "min    3.351890e+05  4.326880e+05      1.706500e+04   3104.000000   \n",
       "25%    2.939892e+06  3.559548e+06      1.681740e+05   8505.250000   \n",
       "50%    1.381031e+07  1.339234e+07      2.180690e+05  43619.000000   \n",
       "75%    1.660071e+07  1.655138e+07      3.535610e+05  58753.750000   \n",
       "max    2.758594e+07  2.155908e+07      1.099797e+06  92654.000000   \n",
       "\n",
       "       ref_cpu_cycles   elapsed_us  \n",
       "count    7.140000e+02   714.000000  \n",
       "mean     6.268474e+06  2392.871148  \n",
       "std      4.804575e+06   414.736392  \n",
       "min      4.384860e+05   304.000000  \n",
       "25%      1.543787e+06  2170.500000  \n",
       "50%      5.561778e+06  2366.500000  \n",
       "75%      1.076361e+07  2583.250000  \n",
       "max      1.849652e+07  3801.000000  "
      ]
     },
     "execution_count": 163,
     "metadata": {},
     "output_type": "execute_result"
    }
   ],
   "source": [
    "target_cols = [col for col in df.columns if col in all_target_cols]\n",
    "targets = df[target_cols]\n",
    "targets.describe()"
   ]
  },
  {
   "cell_type": "markdown",
   "id": "8bc882ec-df72-4c5f-8e47-5eaf263da876",
   "metadata": {},
   "source": [
    "## Show Features"
   ]
  },
  {
   "cell_type": "code",
   "execution_count": 164,
   "id": "d74b2a4f-0b6c-4336-bc9a-e183d7691db9",
   "metadata": {},
   "outputs": [
    {
     "data": {
      "text/html": [
       "<div>\n",
       "<style scoped>\n",
       "    .dataframe tbody tr th:only-of-type {\n",
       "        vertical-align: middle;\n",
       "    }\n",
       "\n",
       "    .dataframe tbody tr th {\n",
       "        vertical-align: top;\n",
       "    }\n",
       "\n",
       "    .dataframe thead th {\n",
       "        text-align: right;\n",
       "    }\n",
       "</style>\n",
       "<table border=\"1\" class=\"dataframe\">\n",
       "  <thead>\n",
       "    <tr style=\"text-align: right;\">\n",
       "      <th></th>\n",
       "      <th>NestLoopState_nl_MatchedOuter</th>\n",
       "      <th>NestLoop_join_plan_startup_cost</th>\n",
       "      <th>NestLoop_join_plan_total_cost</th>\n",
       "      <th>NestLoop_join_plan_plan_rows</th>\n",
       "    </tr>\n",
       "  </thead>\n",
       "  <tbody>\n",
       "    <tr>\n",
       "      <th>0</th>\n",
       "      <td>0</td>\n",
       "      <td>0.7075</td>\n",
       "      <td>17.111556</td>\n",
       "      <td>1.0</td>\n",
       "    </tr>\n",
       "    <tr>\n",
       "      <th>1</th>\n",
       "      <td>0</td>\n",
       "      <td>0.7075</td>\n",
       "      <td>17.111556</td>\n",
       "      <td>1.0</td>\n",
       "    </tr>\n",
       "    <tr>\n",
       "      <th>2</th>\n",
       "      <td>0</td>\n",
       "      <td>0.7075</td>\n",
       "      <td>17.111556</td>\n",
       "      <td>1.0</td>\n",
       "    </tr>\n",
       "    <tr>\n",
       "      <th>3</th>\n",
       "      <td>0</td>\n",
       "      <td>0.7075</td>\n",
       "      <td>17.111556</td>\n",
       "      <td>1.0</td>\n",
       "    </tr>\n",
       "    <tr>\n",
       "      <th>4</th>\n",
       "      <td>0</td>\n",
       "      <td>0.7075</td>\n",
       "      <td>17.111556</td>\n",
       "      <td>1.0</td>\n",
       "    </tr>\n",
       "  </tbody>\n",
       "</table>\n",
       "</div>"
      ],
      "text/plain": [
       "   NestLoopState_nl_MatchedOuter  NestLoop_join_plan_startup_cost  \\\n",
       "0                              0                           0.7075   \n",
       "1                              0                           0.7075   \n",
       "2                              0                           0.7075   \n",
       "3                              0                           0.7075   \n",
       "4                              0                           0.7075   \n",
       "\n",
       "   NestLoop_join_plan_total_cost  NestLoop_join_plan_plan_rows  \n",
       "0                      17.111556                           1.0  \n",
       "1                      17.111556                           1.0  \n",
       "2                      17.111556                           1.0  \n",
       "3                      17.111556                           1.0  \n",
       "4                      17.111556                           1.0  "
      ]
     },
     "execution_count": 164,
     "metadata": {},
     "output_type": "execute_result"
    }
   ],
   "source": [
    "features.head(5)"
   ]
  },
  {
   "cell_type": "markdown",
   "id": "0c832e31-2548-4753-a6e9-a65aa28c5bb8",
   "metadata": {},
   "source": [
    "## Show targets"
   ]
  },
  {
   "cell_type": "code",
   "execution_count": 165,
   "id": "9682b5be-a0b6-499e-abce-4d4bae6be36c",
   "metadata": {},
   "outputs": [
    {
     "data": {
      "text/html": [
       "<div>\n",
       "<style scoped>\n",
       "    .dataframe tbody tr th:only-of-type {\n",
       "        vertical-align: middle;\n",
       "    }\n",
       "\n",
       "    .dataframe tbody tr th {\n",
       "        vertical-align: top;\n",
       "    }\n",
       "\n",
       "    .dataframe thead th {\n",
       "        text-align: right;\n",
       "    }\n",
       "</style>\n",
       "<table border=\"1\" class=\"dataframe\">\n",
       "  <thead>\n",
       "    <tr style=\"text-align: right;\">\n",
       "      <th></th>\n",
       "      <th>cpu_cycles</th>\n",
       "      <th>instructions</th>\n",
       "      <th>cache_references</th>\n",
       "      <th>cache_misses</th>\n",
       "      <th>ref_cpu_cycles</th>\n",
       "      <th>elapsed_us</th>\n",
       "    </tr>\n",
       "  </thead>\n",
       "  <tbody>\n",
       "    <tr>\n",
       "      <th>0</th>\n",
       "      <td>11818227</td>\n",
       "      <td>11669275</td>\n",
       "      <td>118022</td>\n",
       "      <td>73418</td>\n",
       "      <td>1340848</td>\n",
       "      <td>2236</td>\n",
       "    </tr>\n",
       "    <tr>\n",
       "      <th>1</th>\n",
       "      <td>6933305</td>\n",
       "      <td>3581719</td>\n",
       "      <td>295744</td>\n",
       "      <td>17496</td>\n",
       "      <td>7889578</td>\n",
       "      <td>3005</td>\n",
       "    </tr>\n",
       "    <tr>\n",
       "      <th>2</th>\n",
       "      <td>11017706</td>\n",
       "      <td>10182284</td>\n",
       "      <td>176796</td>\n",
       "      <td>28280</td>\n",
       "      <td>1038214</td>\n",
       "      <td>2138</td>\n",
       "    </tr>\n",
       "    <tr>\n",
       "      <th>3</th>\n",
       "      <td>13129612</td>\n",
       "      <td>12559191</td>\n",
       "      <td>133966</td>\n",
       "      <td>7502</td>\n",
       "      <td>1210142</td>\n",
       "      <td>2456</td>\n",
       "    </tr>\n",
       "    <tr>\n",
       "      <th>4</th>\n",
       "      <td>2921416</td>\n",
       "      <td>2566997</td>\n",
       "      <td>128557</td>\n",
       "      <td>57311</td>\n",
       "      <td>8103029</td>\n",
       "      <td>2450</td>\n",
       "    </tr>\n",
       "  </tbody>\n",
       "</table>\n",
       "</div>"
      ],
      "text/plain": [
       "   cpu_cycles  instructions  cache_references  cache_misses  ref_cpu_cycles  \\\n",
       "0    11818227      11669275            118022         73418         1340848   \n",
       "1     6933305       3581719            295744         17496         7889578   \n",
       "2    11017706      10182284            176796         28280         1038214   \n",
       "3    13129612      12559191            133966          7502         1210142   \n",
       "4     2921416       2566997            128557         57311         8103029   \n",
       "\n",
       "   elapsed_us  \n",
       "0        2236  \n",
       "1        3005  \n",
       "2        2138  \n",
       "3        2456  \n",
       "4        2450  "
      ]
     },
     "execution_count": 165,
     "metadata": {},
     "output_type": "execute_result"
    }
   ],
   "source": [
    "targets.head(5)"
   ]
  },
  {
   "cell_type": "code",
   "execution_count": 166,
   "id": "274fdb84-0db0-432f-94df-10cd4e69d104",
   "metadata": {},
   "outputs": [],
   "source": [
    "def plot_histograms(df): \n",
    "    for col_name in df.columns: \n",
    "        res = stats.relfreq(df[col_name], numbins=10)\n",
    "        x = res.lowerlimit + np.linspace(0, res.binsize*res.frequency.size,\n",
    "                                         res.frequency.size)\n",
    "        fig = plt.figure(figsize=(6, 2))\n",
    "        ax = fig.add_subplot(1, 1, 1)\n",
    "        ax.bar(x, res.frequency, width=res.binsize)\n",
    "        ax.set_title(col_name)\n",
    "        ax.set_xlim([x.min(), x.max()])"
   ]
  },
  {
   "cell_type": "markdown",
   "id": "25fea886-a0d1-43bf-b6b9-97a527234b0d",
   "metadata": {
    "tags": []
   },
   "source": [
    "#### Visualizations"
   ]
  },
  {
   "cell_type": "code",
   "execution_count": 167,
   "id": "18c55cf1-a0de-41d1-8000-7894adda14d1",
   "metadata": {},
   "outputs": [
    {
     "data": {
      "image/png": "[encoded data removed]",
      "text/plain": [
       "<Figure size 432x144 with 1 Axes>"
      ]
     },
     "metadata": {
      "needs_background": "light"
     },
     "output_type": "display_data"
    },
    {
     "data": {
      "image/png": "[encoded data removed]",
      "text/plain": [
       "<Figure size 432x144 with 1 Axes>"
      ]
     },
     "metadata": {
      "needs_background": "light"
     },
     "output_type": "display_data"
    },
    {
     "data": {
      "image/png": "[encoded data removed]",
      "text/plain": [
       "<Figure size 432x144 with 1 Axes>"
      ]
     },
     "metadata": {
      "needs_background": "light"
     },
     "output_type": "display_data"
    },
    {
     "data": {
      "image/png": "[encoded data removed]",
      "text/plain": [
       "<Figure size 432x144 with 1 Axes>"
      ]
     },
     "metadata": {
      "needs_background": "light"
     },
     "output_type": "display_data"
    },
    {
     "data": {
      "image/png": "[encoded data removed]",
      "text/plain": [
       "<Figure size 432x144 with 1 Axes>"
      ]
     },
     "metadata": {
      "needs_background": "light"
     },
     "output_type": "display_data"
    },
    {
     "data": {
      "image/png": "[encoded data removed]",
      "text/plain": [
       "<Figure size 432x144 with 1 Axes>"
      ]
     },
     "metadata": {
      "needs_background": "light"
     },
     "output_type": "display_data"
    }
   ],
   "source": [
    "plot_histograms(targets)"
   ]
  },
  {
   "cell_type": "code",
   "execution_count": 168,
   "id": "28d828bf-1ce1-4ee2-90ae-8144291150eb",
   "metadata": {},
   "outputs": [
    {
     "data": {
      "image/png": "[encoded data removed]",
      "text/plain": [
       "<Figure size 432x144 with 1 Axes>"
      ]
     },
     "metadata": {
      "needs_background": "light"
     },
     "output_type": "display_data"
    },
    {
     "data": {
      "image/png": "[encoded data removed]",
      "text/plain": [
       "<Figure size 432x144 with 1 Axes>"
      ]
     },
     "metadata": {
      "needs_background": "light"
     },
     "output_type": "display_data"
    },
    {
     "data": {
      "image/png": "[encoded data removed]",
      "text/plain": [
       "<Figure size 432x144 with 1 Axes>"
      ]
     },
     "metadata": {
      "needs_background": "light"
     },
     "output_type": "display_data"
    },
    {
     "data": {
      "image/png": "[encoded data removed]",
      "text/plain": [
       "<Figure size 432x144 with 1 Axes>"
      ]
     },
     "metadata": {
      "needs_background": "light"
     },
     "output_type": "display_data"
    }
   ],
   "source": [
    "plot_histograms(features)"
   ]
  },
  {
   "cell_type": "markdown",
   "id": "4013ae1a-d6dd-46cd-af51-60cea2c2aa98",
   "metadata": {
    "tags": []
   },
   "source": [
    "#### Correlation Heatmap"
   ]
  },
  {
   "cell_type": "code",
   "execution_count": 169,
   "id": "c5b18080-8c18-4892-9b19-6a0def42262c",
   "metadata": {},
   "outputs": [
    {
     "data": {
      "image/png": "[encoded data removed]",
      "text/plain": [
       "<Figure size 720x504 with 2 Axes>"
      ]
     },
     "metadata": {
      "needs_background": "light"
     },
     "output_type": "display_data"
    }
   ],
   "source": [
    "df_corr = df.corr()\n",
    "plt.figure(figsize=(10,7))\n",
    "sns.heatmap(df_corr, cmap='GnBu')\n",
    "plt.show()"
   ]
  },
  {
   "cell_type": "markdown",
   "id": "61b388e5-dde5-4537-b821-efeb8e853414",
   "metadata": {},
   "source": [
    "# Feature Analysis - PCA"
   ]
  },
  {
   "cell_type": "code",
   "execution_count": 156,
   "id": "05492839-1e4c-4c03-980f-583931ff0d19",
   "metadata": {},
   "outputs": [],
   "source": [
    "def pca_summary(df):\n",
    "    pca = PCA(n_components=None)\n",
    "    pca.fit(df)\n",
    "    print(f\"Input Dimensionality: {len(df.columns)}\")\n",
    "    for component_idx, explained_var_pct in enumerate(pca.explained_variance_ratio_):\n",
    "        print(f\"Component {component_idx} explains {round(explained_var_pct*100, 2)}% of variance\")"
   ]
  },
  {
   "cell_type": "code",
   "execution_count": 157,
   "id": "54ef595f-7344-432b-b44a-0ffd9159b041",
   "metadata": {},
   "outputs": [
    {
     "name": "stdout",
     "output_type": "stream",
     "text": [
      "Input Dimensionality: 10\n",
      "Component 0 explains 73.93% of variance\n",
      "Component 1 explains 17.06% of variance\n",
      "Component 2 explains 8.9% of variance\n",
      "Component 3 explains 0.12% of variance\n",
      "Component 4 explains 0.0% of variance\n",
      "Component 5 explains 0.0% of variance\n",
      "Component 6 explains 0.0% of variance\n",
      "Component 7 explains 0.0% of variance\n",
      "Component 8 explains 0.0% of variance\n",
      "Component 9 explains 0.0% of variance\n"
     ]
    }
   ],
   "source": [
    "pca_summary(df)"
   ]
  },
  {
   "cell_type": "code",
   "execution_count": 158,
   "id": "6a5292b5-fdb0-4271-ae56-efa4c5718ff0",
   "metadata": {},
   "outputs": [
    {
     "data": {
      "text/plain": [
       "Index(['Scan_plan_total_cost', 'Scan_plan_plan_width',\n",
       "       'Scan_plan_parallel_safe', 'Scan_plan_plan_node_id'],\n",
       "      dtype='object')"
      ]
     },
     "execution_count": 158,
     "metadata": {},
     "output_type": "execute_result"
    }
   ],
   "source": [
    "features.columns"
   ]
  },
  {
   "cell_type": "code",
   "execution_count": 103,
   "id": "0a48f571-b4c2-4958-a183-0d4d78630927",
   "metadata": {},
   "outputs": [
    {
     "name": "stdout",
     "output_type": "stream",
     "text": [
      "Input Dimensionality: 11\n",
      "Component 0 explains 99.94% of variance\n",
      "Component 1 explains 0.05% of variance\n",
      "Component 2 explains 0.0% of variance\n",
      "Component 3 explains 0.0% of variance\n",
      "Component 4 explains 0.0% of variance\n",
      "Component 5 explains 0.0% of variance\n",
      "Component 6 explains 0.0% of variance\n",
      "Component 7 explains 0.0% of variance\n",
      "Component 8 explains 0.0% of variance\n",
      "Component 9 explains 0.0% of variance\n",
      "Component 10 explains 0.0% of variance\n"
     ]
    }
   ],
   "source": [
    "pca_summary(features)"
   ]
  },
  {
   "cell_type": "code",
   "execution_count": null,
   "id": "d8acfc55-cd83-4b43-9db8-c090fe6a2523",
   "metadata": {},
   "outputs": [],
   "source": []
  },
  {
   "cell_type": "code",
   "execution_count": null,
   "id": "d551abc9-cf22-4f06-a87b-ccbc565f8b89",
   "metadata": {},
   "outputs": [],
   "source": []
  },
  {
   "cell_type": "code",
   "execution_count": null,
   "id": "8a42bb19-1b30-4bfb-aae1-e5d37d308dde",
   "metadata": {},
   "outputs": [],
   "source": []
  },
  {
   "cell_type": "code",
   "execution_count": null,
   "id": "76814a96-dcf8-48a0-a30a-6f95768dce2e",
   "metadata": {},
   "outputs": [],
   "source": []
  },
  {
   "cell_type": "code",
   "execution_count": null,
   "id": "d8200d21-ae7b-4905-abea-3139c93c4474",
   "metadata": {},
   "outputs": [],
   "source": []
  }
 ],
 "metadata": {
  "kernelspec": {
   "display_name": "postgres",
   "language": "python",
   "name": "postgres"
  },
  "language_info": {
   "codemirror_mode": {
    "name": "ipython",
    "version": 3
   },
   "file_extension": ".py",
   "mimetype": "text/x-python",
   "name": "python",
   "nbconvert_exporter": "python",
   "pygments_lexer": "ipython3",
   "version": "3.9.7"
  }
 },
 "nbformat": 4,
 "nbformat_minor": 5
}

{
 "cells": [
  {
   "cell_type": "markdown",
   "id": "2689fbcb-9c6f-4f0f-82ec-4fb04ab6b261",
   "metadata": {},
   "source": [
    "# TPCC OU Data Collection"
   ]
  },
  {
   "cell_type": "code",
   "execution_count": 20,
   "id": "2c1aaa86-27ab-420a-addb-9c6667077820",
   "metadata": {},
   "outputs": [],
   "source": [
    "import os\n",
    "import pandas as pd\n",
    "import seaborn as sns\n",
    "import matplotlib.pyplot as plt\n",
    "import numpy as np\n",
    "from sklearn.decomposition import PCA\n",
    "import lightgbm as lgb\n",
    "from datetime import datetime\n",
    "from pathlib import Path\n",
    "from scipy import stats"
   ]
  },
  {
   "cell_type": "code",
   "execution_count": 21,
   "id": "c45f5ad8-2074-458f-87e2-707e8f820ec7",
   "metadata": {},
   "outputs": [
    {
     "data": {
      "text/plain": [
       "PosixPath('/home/gh/postgres/cmudb/tscout/results/tpcc')"
      ]
     },
     "execution_count": 21,
     "metadata": {},
     "output_type": "execute_result"
    }
   ],
   "source": [
    "BENCHMARK_NAME = \"tpcc\"\n",
    "results_dir = Path.home() / \"postgres/cmudb/tscout/results/\" / BENCHMARK_NAME\n",
    "results_dir"
   ]
  },
  {
   "cell_type": "code",
   "execution_count": 22,
   "id": "3b0a8c07-3160-4bbe-b270-8daa3109d40f",
   "metadata": {},
   "outputs": [],
   "source": [
    "experiment_dirs = sorted(list(results_dir.glob(\"*\")))"
   ]
  },
  {
   "cell_type": "code",
   "execution_count": 23,
   "id": "fece90ed-446c-4e83-810e-f0f07103acc9",
   "metadata": {},
   "outputs": [
    {
     "data": {
      "text/plain": [
       "[PosixPath('/home/gh/postgres/cmudb/tscout/results/tpcc/2021-11-08_01-18-59')]"
      ]
     },
     "execution_count": 23,
     "metadata": {},
     "output_type": "execute_result"
    }
   ],
   "source": [
    "experiment_dirs"
   ]
  },
  {
   "cell_type": "code",
   "execution_count": 24,
   "id": "9ea57dfd-1c40-4840-b016-90704b5fa9f3",
   "metadata": {},
   "outputs": [
    {
     "name": "stdout",
     "output_type": "stream",
     "text": [
      "/home/gh/postgres/cmudb/tscout/results/tpcc/2021-11-08_01-18-59\n"
     ]
    }
   ],
   "source": [
    "# taking oldest for now\n",
    "experiment_dir = experiment_dirs[0]\n",
    "result_filepaths = list(experiment_dir.glob(\"**/*.csv\"))\n",
    "print(experiment_dir)"
   ]
  },
  {
   "cell_type": "markdown",
   "id": "ffbece6f-d1c6-406a-b4c1-b8eb0522b300",
   "metadata": {
    "tags": []
   },
   "source": [
    "#### Load Data"
   ]
  },
  {
   "cell_type": "code",
   "execution_count": 25,
   "id": "9ddd0d10-c45d-4deb-8bc4-4eb9febaf1ee",
   "metadata": {},
   "outputs": [],
   "source": [
    "ou_name_to_df = dict()\n",
    "\n",
    "for filepath in result_filepaths:\n",
    "    ou_name = filepath.stem\n",
    "\n",
    "    if os.stat(filepath).st_size > 0:\n",
    "        ou_name_to_df[ou_name] = pd.read_csv(filepath)"
   ]
  },
  {
   "cell_type": "code",
   "execution_count": 26,
   "id": "865e3c5b-753c-4255-974c-ae32cb34dc61",
   "metadata": {},
   "outputs": [
    {
     "name": "stdout",
     "output_type": "stream",
     "text": [
      "OU Name: ExecIndexScan, ou_df shape: (1187735, 40)\n",
      "OU Name: ExecLockRows, ou_df shape: (509463, 35)\n",
      "OU Name: ExecNestLoop, ou_df shape: (15458, 38)\n",
      "OU Name: ExecResult, ou_df shape: (95575, 36)\n",
      "OU Name: ExecLimit, ou_df shape: (26461, 40)\n",
      "OU Name: ExecSort, ou_df shape: (12661, 41)\n",
      "OU Name: ExecAgg, ou_df shape: (24824, 59)\n",
      "OU Name: ExecValuesScan, ou_df shape: (249854, 36)\n",
      "OU Name: ExecSeqScan, ou_df shape: (50370, 35)\n",
      "OU Name: ExecModifyTable, ou_df shape: (148010, 43)\n",
      "OU Name: ExecIndexOnlyScan, ou_df shape: (20210, 40)\n"
     ]
    }
   ],
   "source": [
    "for (ou_name, ou_df) in ou_name_to_df.items():\n",
    "    print(f\"OU Name: {ou_name}, ou_df shape: {ou_df.shape}\")"
   ]
  },
  {
   "cell_type": "markdown",
   "id": "3d119162-b677-4be6-b0ce-7ddab4ad00cc",
   "metadata": {
    "tags": []
   },
   "source": [
    "# Pre-processing"
   ]
  },
  {
   "cell_type": "markdown",
   "id": "b44449e9-3c0b-480a-bd84-4650ccc06b9c",
   "metadata": {
    "tags": []
   },
   "source": [
    "#### Get IndexScan OU Data"
   ]
  },
  {
   "cell_type": "code",
   "execution_count": 27,
   "id": "fd099c45-c6fb-4e93-80e5-4474e220c504",
   "metadata": {},
   "outputs": [],
   "source": [
    "target_ou = 'ExecIndexScan'\n",
    "df = ou_name_to_df[target_ou]"
   ]
  },
  {
   "cell_type": "markdown",
   "id": "97fd7b35-c407-488b-a50c-f5bef214ff31",
   "metadata": {},
   "source": [
    "#### Remove constant columns"
   ]
  },
  {
   "cell_type": "code",
   "execution_count": 29,
   "id": "c0c679e2-fec8-40b1-803d-1ecd8a10944d",
   "metadata": {},
   "outputs": [
    {
     "name": "stdout",
     "output_type": "stream",
     "text": [
      "Dropped zero-variance columns: ['IndexScanState_ss_ps_type', 'IndexScanState_ss_ps_async_capable', 'IndexScanState_ss_ps_scanopsfixed', 'IndexScanState_ss_ps_outeropsfixed', 'IndexScanState_ss_ps_inneropsfixed', 'IndexScanState_ss_ps_resultopsfixed', 'IndexScanState_ss_ps_scanopsset', 'IndexScanState_ss_ps_outeropsset', 'IndexScanState_ss_ps_inneropsset', 'IndexScanState_ss_ps_resultopsset', 'IndexScanState_iss_NumOrderByKeys', 'IndexScanState_iss_PscanLen', 'Plan_type', 'Plan_parallel_aware', 'Plan_async_capable', 'ref_cpu_cycles', 'network_bytes_read', 'network_bytes_written', 'disk_bytes_read', 'memory_bytes']\n",
      "Num Remaining: 20, Num Removed 20\n"
     ]
    }
   ],
   "source": [
    "cols_to_remove = []\n",
    "for col in df.columns:\n",
    "    if df[col].nunique() == 1: \n",
    "            cols_to_remove.append(col)\n",
    "\n",
    "df = df.drop(cols_to_remove, axis=1)\n",
    "print(f\"Dropped zero-variance columns: {cols_to_remove}\")\n",
    "print(f\"Num Remaining: {len(df.columns)}, Num Removed {len(cols_to_remove)}\")"
   ]
  },
  {
   "cell_type": "markdown",
   "id": "3e175e57-77c0-47ca-8d38-b8340b778abf",
   "metadata": {},
   "source": [
    "### Remove Start/End Time (since elapsed_us == end_time - start_time)"
   ]
  },
  {
   "cell_type": "code",
   "execution_count": 30,
   "id": "62b6f37a-fee1-449d-9f8c-88d30b761a16",
   "metadata": {},
   "outputs": [],
   "source": [
    "df = df.drop(['start_time', 'end_time'], axis=1)"
   ]
  },
  {
   "cell_type": "markdown",
   "id": "4c2811c9-cfbf-4169-ae6b-4b02d3c558d1",
   "metadata": {
    "tags": []
   },
   "source": [
    "### Summarize Features"
   ]
  },
  {
   "cell_type": "code",
   "execution_count": 31,
   "id": "e67e26f9-5920-4385-9235-2131daa3f692",
   "metadata": {},
   "outputs": [
    {
     "data": {
      "text/html": [
       "<div>\n",
       "<style scoped>\n",
       "    .dataframe tbody tr th:only-of-type {\n",
       "        vertical-align: middle;\n",
       "    }\n",
       "\n",
       "    .dataframe tbody tr th {\n",
       "        vertical-align: top;\n",
       "    }\n",
       "\n",
       "    .dataframe thead th {\n",
       "        text-align: right;\n",
       "    }\n",
       "</style>\n",
       "<table border=\"1\" class=\"dataframe\">\n",
       "  <thead>\n",
       "    <tr style=\"text-align: right;\">\n",
       "      <th></th>\n",
       "      <th>IndexScanState_iss_NumScanKeys</th>\n",
       "      <th>IndexScanState_iss_NumRuntimeKeys</th>\n",
       "      <th>IndexScanState_iss_RuntimeKeysReady</th>\n",
       "      <th>IndexScanState_iss_ReachedEnd</th>\n",
       "      <th>Plan_startup_cost</th>\n",
       "      <th>Plan_total_cost</th>\n",
       "      <th>Plan_plan_rows</th>\n",
       "      <th>Plan_plan_width</th>\n",
       "      <th>Plan_parallel_safe</th>\n",
       "      <th>Plan_plan_node_id</th>\n",
       "    </tr>\n",
       "  </thead>\n",
       "  <tbody>\n",
       "    <tr>\n",
       "      <th>count</th>\n",
       "      <td>1.187735e+06</td>\n",
       "      <td>1.187735e+06</td>\n",
       "      <td>1.187735e+06</td>\n",
       "      <td>1.187735e+06</td>\n",
       "      <td>1.187735e+06</td>\n",
       "      <td>1.187735e+06</td>\n",
       "      <td>1.187735e+06</td>\n",
       "      <td>1.187735e+06</td>\n",
       "      <td>1.187735e+06</td>\n",
       "      <td>1.187735e+06</td>\n",
       "    </tr>\n",
       "    <tr>\n",
       "      <th>mean</th>\n",
       "      <td>2.206694e+00</td>\n",
       "      <td>2.150697e+00</td>\n",
       "      <td>9.892720e-01</td>\n",
       "      <td>2.561977e-01</td>\n",
       "      <td>2.740342e-01</td>\n",
       "      <td>8.911876e+00</td>\n",
       "      <td>1.347828e+00</td>\n",
       "      <td>1.280908e+02</td>\n",
       "      <td>2.677365e-01</td>\n",
       "      <td>8.638501e-01</td>\n",
       "    </tr>\n",
       "    <tr>\n",
       "      <th>std</th>\n",
       "      <td>7.380210e-01</td>\n",
       "      <td>7.607031e-01</td>\n",
       "      <td>1.030189e-01</td>\n",
       "      <td>4.365325e-01</td>\n",
       "      <td>7.258570e-02</td>\n",
       "      <td>4.832678e+00</td>\n",
       "      <td>2.724602e+00</td>\n",
       "      <td>2.512353e+02</td>\n",
       "      <td>4.427797e-01</td>\n",
       "      <td>5.371313e-01</td>\n",
       "    </tr>\n",
       "    <tr>\n",
       "      <th>min</th>\n",
       "      <td>1.000000e+00</td>\n",
       "      <td>0.000000e+00</td>\n",
       "      <td>0.000000e+00</td>\n",
       "      <td>0.000000e+00</td>\n",
       "      <td>1.425000e-01</td>\n",
       "      <td>7.303506e+00</td>\n",
       "      <td>1.000000e+00</td>\n",
       "      <td>4.000000e+00</td>\n",
       "      <td>0.000000e+00</td>\n",
       "      <td>0.000000e+00</td>\n",
       "    </tr>\n",
       "    <tr>\n",
       "      <th>25%</th>\n",
       "      <td>2.000000e+00</td>\n",
       "      <td>2.000000e+00</td>\n",
       "      <td>1.000000e+00</td>\n",
       "      <td>0.000000e+00</td>\n",
       "      <td>2.850000e-01</td>\n",
       "      <td>8.307500e+00</td>\n",
       "      <td>1.000000e+00</td>\n",
       "      <td>1.000000e+01</td>\n",
       "      <td>0.000000e+00</td>\n",
       "      <td>1.000000e+00</td>\n",
       "    </tr>\n",
       "    <tr>\n",
       "      <th>50%</th>\n",
       "      <td>2.000000e+00</td>\n",
       "      <td>2.000000e+00</td>\n",
       "      <td>1.000000e+00</td>\n",
       "      <td>0.000000e+00</td>\n",
       "      <td>2.875000e-01</td>\n",
       "      <td>8.310000e+00</td>\n",
       "      <td>1.000000e+00</td>\n",
       "      <td>1.400000e+01</td>\n",
       "      <td>0.000000e+00</td>\n",
       "      <td>1.000000e+00</td>\n",
       "    </tr>\n",
       "    <tr>\n",
       "      <th>75%</th>\n",
       "      <td>3.000000e+00</td>\n",
       "      <td>3.000000e+00</td>\n",
       "      <td>1.000000e+00</td>\n",
       "      <td>1.000000e+00</td>\n",
       "      <td>2.925000e-01</td>\n",
       "      <td>8.312500e+00</td>\n",
       "      <td>1.000000e+00</td>\n",
       "      <td>1.960000e+02</td>\n",
       "      <td>1.000000e+00</td>\n",
       "      <td>1.000000e+00</td>\n",
       "    </tr>\n",
       "    <tr>\n",
       "      <th>max</th>\n",
       "      <td>4.000000e+00</td>\n",
       "      <td>4.000000e+00</td>\n",
       "      <td>1.000000e+00</td>\n",
       "      <td>1.000000e+00</td>\n",
       "      <td>4.225000e-01</td>\n",
       "      <td>3.113975e+02</td>\n",
       "      <td>1.740000e+02</td>\n",
       "      <td>1.128000e+03</td>\n",
       "      <td>1.000000e+00</td>\n",
       "      <td>3.000000e+00</td>\n",
       "    </tr>\n",
       "  </tbody>\n",
       "</table>\n",
       "</div>"
      ],
      "text/plain": [
       "       IndexScanState_iss_NumScanKeys  IndexScanState_iss_NumRuntimeKeys  \\\n",
       "count                    1.187735e+06                       1.187735e+06   \n",
       "mean                     2.206694e+00                       2.150697e+00   \n",
       "std                      7.380210e-01                       7.607031e-01   \n",
       "min                      1.000000e+00                       0.000000e+00   \n",
       "25%                      2.000000e+00                       2.000000e+00   \n",
       "50%                      2.000000e+00                       2.000000e+00   \n",
       "75%                      3.000000e+00                       3.000000e+00   \n",
       "max                      4.000000e+00                       4.000000e+00   \n",
       "\n",
       "       IndexScanState_iss_RuntimeKeysReady  IndexScanState_iss_ReachedEnd  \\\n",
       "count                         1.187735e+06                   1.187735e+06   \n",
       "mean                          9.892720e-01                   2.561977e-01   \n",
       "std                           1.030189e-01                   4.365325e-01   \n",
       "min                           0.000000e+00                   0.000000e+00   \n",
       "25%                           1.000000e+00                   0.000000e+00   \n",
       "50%                           1.000000e+00                   0.000000e+00   \n",
       "75%                           1.000000e+00                   1.000000e+00   \n",
       "max                           1.000000e+00                   1.000000e+00   \n",
       "\n",
       "       Plan_startup_cost  Plan_total_cost  Plan_plan_rows  Plan_plan_width  \\\n",
       "count       1.187735e+06     1.187735e+06    1.187735e+06     1.187735e+06   \n",
       "mean        2.740342e-01     8.911876e+00    1.347828e+00     1.280908e+02   \n",
       "std         7.258570e-02     4.832678e+00    2.724602e+00     2.512353e+02   \n",
       "min         1.425000e-01     7.303506e+00    1.000000e+00     4.000000e+00   \n",
       "25%         2.850000e-01     8.307500e+00    1.000000e+00     1.000000e+01   \n",
       "50%         2.875000e-01     8.310000e+00    1.000000e+00     1.400000e+01   \n",
       "75%         2.925000e-01     8.312500e+00    1.000000e+00     1.960000e+02   \n",
       "max         4.225000e-01     3.113975e+02    1.740000e+02     1.128000e+03   \n",
       "\n",
       "       Plan_parallel_safe  Plan_plan_node_id  \n",
       "count        1.187735e+06       1.187735e+06  \n",
       "mean         2.677365e-01       8.638501e-01  \n",
       "std          4.427797e-01       5.371313e-01  \n",
       "min          0.000000e+00       0.000000e+00  \n",
       "25%          0.000000e+00       1.000000e+00  \n",
       "50%          0.000000e+00       1.000000e+00  \n",
       "75%          1.000000e+00       1.000000e+00  \n",
       "max          1.000000e+00       3.000000e+00  "
      ]
     },
     "execution_count": 31,
     "metadata": {},
     "output_type": "execute_result"
    }
   ],
   "source": [
    "feat_cols = ['IndexScanState_iss_NumScanKeys',\n",
    "       'IndexScanState_iss_NumRuntimeKeys',\n",
    "       'IndexScanState_iss_RuntimeKeysReady', 'IndexScanState_iss_ReachedEnd',\n",
    "       'Plan_startup_cost', 'Plan_total_cost', 'Plan_plan_rows',\n",
    "       'Plan_plan_width', 'Plan_parallel_safe', 'Plan_plan_node_id']\n",
    "\n",
    "features = df[feat_cols]\n",
    "features.describe()"
   ]
  },
  {
   "cell_type": "markdown",
   "id": "b10c98f0-a673-4c41-8d23-35eaa194cbde",
   "metadata": {},
   "source": [
    "### Summarize Targets"
   ]
  },
  {
   "cell_type": "code",
   "execution_count": 32,
   "id": "754600f5-b206-43a0-adc7-bed75eabd73f",
   "metadata": {},
   "outputs": [
    {
     "data": {
      "text/html": [
       "<div>\n",
       "<style scoped>\n",
       "    .dataframe tbody tr th:only-of-type {\n",
       "        vertical-align: middle;\n",
       "    }\n",
       "\n",
       "    .dataframe tbody tr th {\n",
       "        vertical-align: top;\n",
       "    }\n",
       "\n",
       "    .dataframe thead th {\n",
       "        text-align: right;\n",
       "    }\n",
       "</style>\n",
       "<table border=\"1\" class=\"dataframe\">\n",
       "  <thead>\n",
       "    <tr style=\"text-align: right;\">\n",
       "      <th></th>\n",
       "      <th>cpu_cycles</th>\n",
       "      <th>instructions</th>\n",
       "      <th>cache_references</th>\n",
       "      <th>cache_misses</th>\n",
       "      <th>disk_bytes_written</th>\n",
       "      <th>elapsed_us</th>\n",
       "    </tr>\n",
       "  </thead>\n",
       "  <tbody>\n",
       "    <tr>\n",
       "      <th>count</th>\n",
       "      <td>1.187735e+06</td>\n",
       "      <td>1.187735e+06</td>\n",
       "      <td>1.187735e+06</td>\n",
       "      <td>1.187735e+06</td>\n",
       "      <td>1.187735e+06</td>\n",
       "      <td>1.187735e+06</td>\n",
       "    </tr>\n",
       "    <tr>\n",
       "      <th>mean</th>\n",
       "      <td>3.962107e+04</td>\n",
       "      <td>1.113181e+05</td>\n",
       "      <td>2.293575e+03</td>\n",
       "      <td>5.844114e+02</td>\n",
       "      <td>2.694204e-05</td>\n",
       "      <td>8.478098e+00</td>\n",
       "    </tr>\n",
       "    <tr>\n",
       "      <th>std</th>\n",
       "      <td>4.284074e+05</td>\n",
       "      <td>1.850090e+06</td>\n",
       "      <td>3.136684e+05</td>\n",
       "      <td>6.529058e+04</td>\n",
       "      <td>2.076228e-02</td>\n",
       "      <td>3.013347e+01</td>\n",
       "    </tr>\n",
       "    <tr>\n",
       "      <th>min</th>\n",
       "      <td>3.662000e+03</td>\n",
       "      <td>2.207000e+03</td>\n",
       "      <td>1.670000e+02</td>\n",
       "      <td>0.000000e+00</td>\n",
       "      <td>0.000000e+00</td>\n",
       "      <td>0.000000e+00</td>\n",
       "    </tr>\n",
       "    <tr>\n",
       "      <th>25%</th>\n",
       "      <td>5.305000e+03</td>\n",
       "      <td>7.275000e+03</td>\n",
       "      <td>5.830000e+02</td>\n",
       "      <td>5.200000e+01</td>\n",
       "      <td>0.000000e+00</td>\n",
       "      <td>1.000000e+00</td>\n",
       "    </tr>\n",
       "    <tr>\n",
       "      <th>50%</th>\n",
       "      <td>1.223600e+04</td>\n",
       "      <td>1.942300e+04</td>\n",
       "      <td>1.480000e+03</td>\n",
       "      <td>1.290000e+02</td>\n",
       "      <td>0.000000e+00</td>\n",
       "      <td>2.000000e+00</td>\n",
       "    </tr>\n",
       "    <tr>\n",
       "      <th>75%</th>\n",
       "      <td>2.290400e+04</td>\n",
       "      <td>2.552100e+04</td>\n",
       "      <td>2.545000e+03</td>\n",
       "      <td>9.500000e+02</td>\n",
       "      <td>0.000000e+00</td>\n",
       "      <td>5.000000e+00</td>\n",
       "    </tr>\n",
       "    <tr>\n",
       "      <th>max</th>\n",
       "      <td>3.471450e+08</td>\n",
       "      <td>1.683286e+09</td>\n",
       "      <td>2.419988e+08</td>\n",
       "      <td>6.530957e+07</td>\n",
       "      <td>1.600000e+01</td>\n",
       "      <td>8.880000e+02</td>\n",
       "    </tr>\n",
       "  </tbody>\n",
       "</table>\n",
       "</div>"
      ],
      "text/plain": [
       "         cpu_cycles  instructions  cache_references  cache_misses  \\\n",
       "count  1.187735e+06  1.187735e+06      1.187735e+06  1.187735e+06   \n",
       "mean   3.962107e+04  1.113181e+05      2.293575e+03  5.844114e+02   \n",
       "std    4.284074e+05  1.850090e+06      3.136684e+05  6.529058e+04   \n",
       "min    3.662000e+03  2.207000e+03      1.670000e+02  0.000000e+00   \n",
       "25%    5.305000e+03  7.275000e+03      5.830000e+02  5.200000e+01   \n",
       "50%    1.223600e+04  1.942300e+04      1.480000e+03  1.290000e+02   \n",
       "75%    2.290400e+04  2.552100e+04      2.545000e+03  9.500000e+02   \n",
       "max    3.471450e+08  1.683286e+09      2.419988e+08  6.530957e+07   \n",
       "\n",
       "       disk_bytes_written    elapsed_us  \n",
       "count        1.187735e+06  1.187735e+06  \n",
       "mean         2.694204e-05  8.478098e+00  \n",
       "std          2.076228e-02  3.013347e+01  \n",
       "min          0.000000e+00  0.000000e+00  \n",
       "25%          0.000000e+00  1.000000e+00  \n",
       "50%          0.000000e+00  2.000000e+00  \n",
       "75%          0.000000e+00  5.000000e+00  \n",
       "max          1.600000e+01  8.880000e+02  "
      ]
     },
     "execution_count": 32,
     "metadata": {},
     "output_type": "execute_result"
    }
   ],
   "source": [
    "targets = df[['cpu_cycles', 'instructions', 'cache_references', 'cache_misses', 'disk_bytes_written', 'elapsed_us']]\n",
    "targets.describe()"
   ]
  },
  {
   "cell_type": "markdown",
   "id": "8bc882ec-df72-4c5f-8e47-5eaf263da876",
   "metadata": {},
   "source": [
    "## Show Features"
   ]
  },
  {
   "cell_type": "code",
   "execution_count": 33,
   "id": "d74b2a4f-0b6c-4336-bc9a-e183d7691db9",
   "metadata": {},
   "outputs": [
    {
     "data": {
      "text/html": [
       "<div>\n",
       "<style scoped>\n",
       "    .dataframe tbody tr th:only-of-type {\n",
       "        vertical-align: middle;\n",
       "    }\n",
       "\n",
       "    .dataframe tbody tr th {\n",
       "        vertical-align: top;\n",
       "    }\n",
       "\n",
       "    .dataframe thead th {\n",
       "        text-align: right;\n",
       "    }\n",
       "</style>\n",
       "<table border=\"1\" class=\"dataframe\">\n",
       "  <thead>\n",
       "    <tr style=\"text-align: right;\">\n",
       "      <th></th>\n",
       "      <th>IndexScanState_iss_NumScanKeys</th>\n",
       "      <th>IndexScanState_iss_NumRuntimeKeys</th>\n",
       "      <th>IndexScanState_iss_RuntimeKeysReady</th>\n",
       "      <th>IndexScanState_iss_ReachedEnd</th>\n",
       "      <th>Plan_startup_cost</th>\n",
       "      <th>Plan_total_cost</th>\n",
       "      <th>Plan_plan_rows</th>\n",
       "      <th>Plan_plan_width</th>\n",
       "      <th>Plan_parallel_safe</th>\n",
       "      <th>Plan_plan_node_id</th>\n",
       "    </tr>\n",
       "  </thead>\n",
       "  <tbody>\n",
       "    <tr>\n",
       "      <th>0</th>\n",
       "      <td>1</td>\n",
       "      <td>1</td>\n",
       "      <td>1</td>\n",
       "      <td>0</td>\n",
       "      <td>0.145</td>\n",
       "      <td>8.1625</td>\n",
       "      <td>1.0</td>\n",
       "      <td>10</td>\n",
       "      <td>0</td>\n",
       "      <td>1</td>\n",
       "    </tr>\n",
       "    <tr>\n",
       "      <th>1</th>\n",
       "      <td>1</td>\n",
       "      <td>1</td>\n",
       "      <td>1</td>\n",
       "      <td>0</td>\n",
       "      <td>0.290</td>\n",
       "      <td>8.3075</td>\n",
       "      <td>1.0</td>\n",
       "      <td>10</td>\n",
       "      <td>0</td>\n",
       "      <td>1</td>\n",
       "    </tr>\n",
       "    <tr>\n",
       "      <th>2</th>\n",
       "      <td>1</td>\n",
       "      <td>1</td>\n",
       "      <td>1</td>\n",
       "      <td>0</td>\n",
       "      <td>0.145</td>\n",
       "      <td>8.1625</td>\n",
       "      <td>1.0</td>\n",
       "      <td>10</td>\n",
       "      <td>0</td>\n",
       "      <td>1</td>\n",
       "    </tr>\n",
       "    <tr>\n",
       "      <th>3</th>\n",
       "      <td>1</td>\n",
       "      <td>1</td>\n",
       "      <td>1</td>\n",
       "      <td>0</td>\n",
       "      <td>0.290</td>\n",
       "      <td>8.3075</td>\n",
       "      <td>1.0</td>\n",
       "      <td>10</td>\n",
       "      <td>0</td>\n",
       "      <td>1</td>\n",
       "    </tr>\n",
       "    <tr>\n",
       "      <th>4</th>\n",
       "      <td>1</td>\n",
       "      <td>1</td>\n",
       "      <td>1</td>\n",
       "      <td>0</td>\n",
       "      <td>0.145</td>\n",
       "      <td>8.1625</td>\n",
       "      <td>1.0</td>\n",
       "      <td>10</td>\n",
       "      <td>0</td>\n",
       "      <td>1</td>\n",
       "    </tr>\n",
       "  </tbody>\n",
       "</table>\n",
       "</div>"
      ],
      "text/plain": [
       "   IndexScanState_iss_NumScanKeys  IndexScanState_iss_NumRuntimeKeys  \\\n",
       "0                               1                                  1   \n",
       "1                               1                                  1   \n",
       "2                               1                                  1   \n",
       "3                               1                                  1   \n",
       "4                               1                                  1   \n",
       "\n",
       "   IndexScanState_iss_RuntimeKeysReady  IndexScanState_iss_ReachedEnd  \\\n",
       "0                                    1                              0   \n",
       "1                                    1                              0   \n",
       "2                                    1                              0   \n",
       "3                                    1                              0   \n",
       "4                                    1                              0   \n",
       "\n",
       "   Plan_startup_cost  Plan_total_cost  Plan_plan_rows  Plan_plan_width  \\\n",
       "0              0.145           8.1625             1.0               10   \n",
       "1              0.290           8.3075             1.0               10   \n",
       "2              0.145           8.1625             1.0               10   \n",
       "3              0.290           8.3075             1.0               10   \n",
       "4              0.145           8.1625             1.0               10   \n",
       "\n",
       "   Plan_parallel_safe  Plan_plan_node_id  \n",
       "0                   0                  1  \n",
       "1                   0                  1  \n",
       "2                   0                  1  \n",
       "3                   0                  1  \n",
       "4                   0                  1  "
      ]
     },
     "execution_count": 33,
     "metadata": {},
     "output_type": "execute_result"
    }
   ],
   "source": [
    "features.head(5)"
   ]
  },
  {
   "cell_type": "markdown",
   "id": "0c832e31-2548-4753-a6e9-a65aa28c5bb8",
   "metadata": {},
   "source": [
    "## Show targets"
   ]
  },
  {
   "cell_type": "code",
   "execution_count": 34,
   "id": "9682b5be-a0b6-499e-abce-4d4bae6be36c",
   "metadata": {},
   "outputs": [
    {
     "data": {
      "text/html": [
       "<div>\n",
       "<style scoped>\n",
       "    .dataframe tbody tr th:only-of-type {\n",
       "        vertical-align: middle;\n",
       "    }\n",
       "\n",
       "    .dataframe tbody tr th {\n",
       "        vertical-align: top;\n",
       "    }\n",
       "\n",
       "    .dataframe thead th {\n",
       "        text-align: right;\n",
       "    }\n",
       "</style>\n",
       "<table border=\"1\" class=\"dataframe\">\n",
       "  <thead>\n",
       "    <tr style=\"text-align: right;\">\n",
       "      <th></th>\n",
       "      <th>cpu_cycles</th>\n",
       "      <th>instructions</th>\n",
       "      <th>cache_references</th>\n",
       "      <th>cache_misses</th>\n",
       "      <th>disk_bytes_written</th>\n",
       "      <th>elapsed_us</th>\n",
       "    </tr>\n",
       "  </thead>\n",
       "  <tbody>\n",
       "    <tr>\n",
       "      <th>0</th>\n",
       "      <td>14457</td>\n",
       "      <td>10071</td>\n",
       "      <td>2594</td>\n",
       "      <td>3076</td>\n",
       "      <td>0</td>\n",
       "      <td>3</td>\n",
       "    </tr>\n",
       "    <tr>\n",
       "      <th>1</th>\n",
       "      <td>13004</td>\n",
       "      <td>14317</td>\n",
       "      <td>2030</td>\n",
       "      <td>868</td>\n",
       "      <td>0</td>\n",
       "      <td>3</td>\n",
       "    </tr>\n",
       "    <tr>\n",
       "      <th>2</th>\n",
       "      <td>7258</td>\n",
       "      <td>10414</td>\n",
       "      <td>1949</td>\n",
       "      <td>364</td>\n",
       "      <td>0</td>\n",
       "      <td>1</td>\n",
       "    </tr>\n",
       "    <tr>\n",
       "      <th>3</th>\n",
       "      <td>9156</td>\n",
       "      <td>14288</td>\n",
       "      <td>1709</td>\n",
       "      <td>56</td>\n",
       "      <td>0</td>\n",
       "      <td>2</td>\n",
       "    </tr>\n",
       "    <tr>\n",
       "      <th>4</th>\n",
       "      <td>6781</td>\n",
       "      <td>10439</td>\n",
       "      <td>1657</td>\n",
       "      <td>93</td>\n",
       "      <td>0</td>\n",
       "      <td>1</td>\n",
       "    </tr>\n",
       "  </tbody>\n",
       "</table>\n",
       "</div>"
      ],
      "text/plain": [
       "   cpu_cycles  instructions  cache_references  cache_misses  \\\n",
       "0       14457         10071              2594          3076   \n",
       "1       13004         14317              2030           868   \n",
       "2        7258         10414              1949           364   \n",
       "3        9156         14288              1709            56   \n",
       "4        6781         10439              1657            93   \n",
       "\n",
       "   disk_bytes_written  elapsed_us  \n",
       "0                   0           3  \n",
       "1                   0           3  \n",
       "2                   0           1  \n",
       "3                   0           2  \n",
       "4                   0           1  "
      ]
     },
     "execution_count": 34,
     "metadata": {},
     "output_type": "execute_result"
    }
   ],
   "source": [
    "targets.head(5)"
   ]
  },
  {
   "cell_type": "code",
   "execution_count": 35,
   "id": "274fdb84-0db0-432f-94df-10cd4e69d104",
   "metadata": {},
   "outputs": [],
   "source": [
    "def plot_histograms(df): \n",
    "    for col_name in df.columns: \n",
    "        res = stats.relfreq(df[col_name], numbins=10)\n",
    "        x = res.lowerlimit + np.linspace(0, res.binsize*res.frequency.size,\n",
    "                                         res.frequency.size)\n",
    "        fig = plt.figure(figsize=(6, 2))\n",
    "        ax = fig.add_subplot(1, 1, 1)\n",
    "        ax.bar(x, res.frequency, width=res.binsize)\n",
    "        ax.set_title(col_name)\n",
    "        ax.set_xlim([x.min(), x.max()])"
   ]
  },
  {
   "cell_type": "markdown",
   "id": "25fea886-a0d1-43bf-b6b9-97a527234b0d",
   "metadata": {
    "tags": []
   },
   "source": [
    "#### Visualizations"
   ]
  },
  {
   "cell_type": "code",
   "execution_count": 36,
   "id": "18c55cf1-a0de-41d1-8000-7894adda14d1",
   "metadata": {},
   "outputs": [
    {
     "data": {
      "image/png": "[encoded data removed]",
      "text/plain": [
       "<Figure size 432x144 with 1 Axes>"
      ]
     },
     "metadata": {
      "needs_background": "light"
     },
     "output_type": "display_data"
    },
    {
     "data": {
      "image/png": "[encoded data removed]",
      "text/plain": [
       "<Figure size 432x144 with 1 Axes>"
      ]
     },
     "metadata": {
      "needs_background": "light"
     },
     "output_type": "display_data"
    },
    {
     "data": {
      "image/png": "[encoded data removed]",
      "text/plain": [
       "<Figure size 432x144 with 1 Axes>"
      ]
     },
     "metadata": {
      "needs_background": "light"
     },
     "output_type": "display_data"
    },
    {
     "data": {
      "image/png": "[encoded data removed]",
      "text/plain": [
       "<Figure size 432x144 with 1 Axes>"
      ]
     },
     "metadata": {
      "needs_background": "light"
     },
     "output_type": "display_data"
    },
    {
     "data": {
      "image/png": "[encoded data removed]",
      "text/plain": [
       "<Figure size 432x144 with 1 Axes>"
      ]
     },
     "metadata": {
      "needs_background": "light"
     },
     "output_type": "display_data"
    },
    {
     "data": {
      "image/png": "[encoded data removed]",
      "text/plain": [
       "<Figure size 432x144 with 1 Axes>"
      ]
     },
     "metadata": {
      "needs_background": "light"
     },
     "output_type": "display_data"
    }
   ],
   "source": [
    "plot_histograms(targets)"
   ]
  },
  {
   "cell_type": "code",
   "execution_count": 37,
   "id": "28d828bf-1ce1-4ee2-90ae-8144291150eb",
   "metadata": {},
   "outputs": [
    {
     "data": {
      "image/png": "[encoded data removed]",
      "text/plain": [
       "<Figure size 432x144 with 1 Axes>"
      ]
     },
     "metadata": {
      "needs_background": "light"
     },
     "output_type": "display_data"
    },
    {
     "data": {
      "image/png": "[encoded data removed]",
      "text/plain": [
       "<Figure size 432x144 with 1 Axes>"
      ]
     },
     "metadata": {
      "needs_background": "light"
     },
     "output_type": "display_data"
    },
    {
     "data": {
      "image/png": "[encoded data removed]",
      "text/plain": [
       "<Figure size 432x144 with 1 Axes>"
      ]
     },
     "metadata": {
      "needs_background": "light"
     },
     "output_type": "display_data"
    },
    {
     "data": {
      "image/png": "[encoded data removed]",
      "text/plain": [
       "<Figure size 432x144 with 1 Axes>"
      ]
     },
     "metadata": {
      "needs_background": "light"
     },
     "output_type": "display_data"
    },
    {
     "data": {
      "image/png": "[encoded data removed]",
      "text/plain": [
       "<Figure size 432x144 with 1 Axes>"
      ]
     },
     "metadata": {
      "needs_background": "light"
     },
     "output_type": "display_data"
    },
    {
     "data": {
      "image/png": "[encoded data removed]",
      "text/plain": [
       "<Figure size 432x144 with 1 Axes>"
      ]
     },
     "metadata": {
      "needs_background": "light"
     },
     "output_type": "display_data"
    },
    {
     "data": {
      "image/png": "[encoded data removed]",
      "text/plain": [
       "<Figure size 432x144 with 1 Axes>"
      ]
     },
     "metadata": {
      "needs_background": "light"
     },
     "output_type": "display_data"
    },
    {
     "data": {
      "image/png": "[encoded data removed]",
      "text/plain": [
       "<Figure size 432x144 with 1 Axes>"
      ]
     },
     "metadata": {
      "needs_background": "light"
     },
     "output_type": "display_data"
    },
    {
     "data": {
      "image/png": "[encoded data removed]",
      "text/plain": [
       "<Figure size 432x144 with 1 Axes>"
      ]
     },
     "metadata": {
      "needs_background": "light"
     },
     "output_type": "display_data"
    },
    {
     "data": {
      "image/png": "[encoded data removed]",
      "text/plain": [
       "<Figure size 432x144 with 1 Axes>"
      ]
     },
     "metadata": {
      "needs_background": "light"
     },
     "output_type": "display_data"
    }
   ],
   "source": [
    "plot_histograms(features)"
   ]
  },
  {
   "cell_type": "markdown",
   "id": "4013ae1a-d6dd-46cd-af51-60cea2c2aa98",
   "metadata": {
    "tags": []
   },
   "source": [
    "#### Correlation Heatmap"
   ]
  },
  {
   "cell_type": "code",
   "execution_count": 38,
   "id": "c5b18080-8c18-4892-9b19-6a0def42262c",
   "metadata": {},
   "outputs": [
    {
     "data": {
      "image/png": "[encoded data removed]",
      "text/plain": [
       "<Figure size 720x504 with 2 Axes>"
      ]
     },
     "metadata": {
      "needs_background": "light"
     },
     "output_type": "display_data"
    }
   ],
   "source": [
    "df_corr = df.corr()\n",
    "plt.figure(figsize=(10,7))\n",
    "sns.heatmap(df_corr, cmap='GnBu')\n",
    "plt.show()"
   ]
  },
  {
   "cell_type": "markdown",
   "id": "61b388e5-dde5-4537-b821-efeb8e853414",
   "metadata": {},
   "source": [
    "# Feature Analysis - PCA"
   ]
  },
  {
   "cell_type": "code",
   "execution_count": 40,
   "id": "05492839-1e4c-4c03-980f-583931ff0d19",
   "metadata": {},
   "outputs": [],
   "source": [
    "def pca_summary(df):\n",
    "    pca = PCA(n_components=None)\n",
    "    pca.fit(df)\n",
    "    print(f\"Input Dimensionality: {len(df.columns)}\")\n",
    "    for component_idx, explained_var_pct in enumerate(pca.explained_variance_ratio_):\n",
    "        print(f\"Component {component_idx} explains {round(explained_var_pct*100, 2)}% of variance\")"
   ]
  },
  {
   "cell_type": "code",
   "execution_count": 44,
   "id": "6a5292b5-fdb0-4271-ae56-efa4c5718ff0",
   "metadata": {},
   "outputs": [
    {
     "data": {
      "text/plain": [
       "Index(['IndexScanState_iss_NumScanKeys', 'IndexScanState_iss_NumRuntimeKeys',\n",
       "       'IndexScanState_iss_RuntimeKeysReady', 'IndexScanState_iss_ReachedEnd',\n",
       "       'Plan_startup_cost', 'Plan_total_cost', 'Plan_plan_rows',\n",
       "       'Plan_plan_width', 'Plan_parallel_safe', 'Plan_plan_node_id'],\n",
       "      dtype='object')"
      ]
     },
     "execution_count": 44,
     "metadata": {},
     "output_type": "execute_result"
    }
   ],
   "source": [
    "features.columns"
   ]
  },
  {
   "cell_type": "code",
   "execution_count": 41,
   "id": "0a48f571-b4c2-4958-a183-0d4d78630927",
   "metadata": {},
   "outputs": [
    {
     "name": "stdout",
     "output_type": "stream",
     "text": [
      "Input Dimensionality: 10\n",
      "Component 0 explains 99.95% of variance\n",
      "Component 1 explains 0.05% of variance\n",
      "Component 2 explains 0.0% of variance\n",
      "Component 3 explains 0.0% of variance\n",
      "Component 4 explains 0.0% of variance\n",
      "Component 5 explains 0.0% of variance\n",
      "Component 6 explains 0.0% of variance\n",
      "Component 7 explains 0.0% of variance\n",
      "Component 8 explains 0.0% of variance\n",
      "Component 9 explains 0.0% of variance\n"
     ]
    }
   ],
   "source": [
    "pca_summary(features)"
   ]
  },
  {
   "cell_type": "code",
   "execution_count": 42,
   "id": "42ce2190-d845-45a4-a5d1-99cf15f577cc",
   "metadata": {},
   "outputs": [
    {
     "name": "stdout",
     "output_type": "stream",
     "text": [
      "Input Dimensionality: 3\n",
      "Component 0 explains 91.15% of variance\n",
      "Component 1 explains 8.79% of variance\n",
      "Component 2 explains 0.06% of variance\n"
     ]
    }
   ],
   "source": [
    "scanstate_feats = ['IndexScanState_iss_NumScanKeys', 'IndexScanState_iss_NumRuntimeKeys', 'IndexScanState_iss_RuntimeKeysReady']\n",
    "pca_summary(features[scanstate_feats])"
   ]
  },
  {
   "cell_type": "code",
   "execution_count": 43,
   "id": "1fc9785b-9890-4ebc-9f00-6e0e7bf88e86",
   "metadata": {},
   "outputs": [
    {
     "name": "stdout",
     "output_type": "stream",
     "text": [
      "Input Dimensionality: 2\n",
      "Component 0 explains 99.98% of variance\n",
      "Component 1 explains 0.02% of variance\n"
     ]
    }
   ],
   "source": [
    "plancost_feats = ['Plan_startup_cost', 'Plan_total_cost']\n",
    "pca_summary(features[plancost_feats])"
   ]
  },
  {
   "cell_type": "code",
   "execution_count": null,
   "id": "d8acfc55-cd83-4b43-9db8-c090fe6a2523",
   "metadata": {},
   "outputs": [],
   "source": []
  },
  {
   "cell_type": "code",
   "execution_count": null,
   "id": "d551abc9-cf22-4f06-a87b-ccbc565f8b89",
   "metadata": {},
   "outputs": [],
   "source": []
  },
  {
   "cell_type": "code",
   "execution_count": null,
   "id": "8a42bb19-1b30-4bfb-aae1-e5d37d308dde",
   "metadata": {},
   "outputs": [],
   "source": []
  },
  {
   "cell_type": "code",
   "execution_count": null,
   "id": "76814a96-dcf8-48a0-a30a-6f95768dce2e",
   "metadata": {},
   "outputs": [],
   "source": []
  },
  {
   "cell_type": "code",
   "execution_count": null,
   "id": "d8200d21-ae7b-4905-abea-3139c93c4474",
   "metadata": {},
   "outputs": [],
   "source": []
  }
 ],
 "metadata": {
  "kernelspec": {
   "display_name": "Python 3 (ipykernel)",
   "language": "python",
   "name": "python3"
  },
  "language_info": {
   "codemirror_mode": {
    "name": "ipython",
    "version": 3
   },
   "file_extension": ".py",
   "mimetype": "text/x-python",
   "name": "python",
   "nbconvert_exporter": "python",
   "pygments_lexer": "ipython3",
   "version": "3.9.7"
  }
 },
 "nbformat": 4,
 "nbformat_minor": 5
}

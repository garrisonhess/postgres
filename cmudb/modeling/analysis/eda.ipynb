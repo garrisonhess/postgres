{
 "cells": [
  {
   "cell_type": "markdown",
   "id": "2689fbcb-9c6f-4f0f-82ec-4fb04ab6b261",
   "metadata": {},
   "source": [
    "# TPCC OU Data Collection"
   ]
  },
  {
   "cell_type": "code",
   "execution_count": 33,
   "id": "2c1aaa86-27ab-420a-addb-9c6667077820",
   "metadata": {},
   "outputs": [],
   "source": [
    "import os\n",
    "import pandas as pd\n",
    "import seaborn as sns\n",
    "import matplotlib.pyplot as plt\n",
    "import numpy as np\n",
    "from sklearn.decomposition import PCA\n",
    "import lightgbm as lgb\n",
    "from datetime import datetime\n",
    "from pathlib import Path\n",
    "from scipy import stats"
   ]
  },
  {
   "cell_type": "code",
   "execution_count": 34,
   "id": "f5fa65bd-e50a-4693-906a-0bd45b9d6e36",
   "metadata": {},
   "outputs": [
    {
     "name": "stdout",
     "output_type": "stream",
     "text": [
      "Runs: ['2021-11-07_03-22-21', '2021-11-07_03-18-14_AM', '2021-11-07_03-15-11_AM']\n",
      "Taking latest run, recorded at 2021-11-07_03-22-21 UTC\n"
     ]
    }
   ],
   "source": [
    "results_dir = \"/home/gh/postgres/cmudb/tscout/results/tpcc\"\n",
    "run_dirs = sorted(os.listdir(results_dir), reverse=True)\n",
    "print(f\"Runs: {run_dirs}\")\n",
    "run_timestamp = run_dirs[0]\n",
    "run_path = Path(results_dir) / run_timestamp\n",
    "print(f\"Taking latest run, recorded at {run_timestamp} UTC\")"
   ]
  },
  {
   "cell_type": "markdown",
   "id": "ffbece6f-d1c6-406a-b4c1-b8eb0522b300",
   "metadata": {
    "tags": []
   },
   "source": [
    "#### Load Data"
   ]
  },
  {
   "cell_type": "code",
   "execution_count": 35,
   "id": "9ddd0d10-c45d-4deb-8bc4-4eb9febaf1ee",
   "metadata": {},
   "outputs": [],
   "source": [
    "ou_name_to_df = dict()\n",
    "\n",
    "for filename in os.listdir(run_path):\n",
    "    if not filename.endswith(\".csv\"):\n",
    "        continue\n",
    "\n",
    "    filepath = os.path.join(run_path, filename)\n",
    "    ou_name = filename.split(\".\")[0]\n",
    "\n",
    "    if os.stat(filepath).st_size > 0:\n",
    "        ou_name_to_df[ou_name] = pd.read_csv(filepath)"
   ]
  },
  {
   "cell_type": "code",
   "execution_count": 36,
   "id": "865e3c5b-753c-4255-974c-ae32cb34dc61",
   "metadata": {},
   "outputs": [
    {
     "name": "stdout",
     "output_type": "stream",
     "text": [
      "OU Name: ExecIndexScan, ou_df shape: (375952, 40)\n",
      "OU Name: ExecLockRows, ou_df shape: (383213, 35)\n",
      "OU Name: ExecResult, ou_df shape: (4709, 36)\n",
      "OU Name: ExecValuesScan, ou_df shape: (244992, 36)\n",
      "OU Name: ExecModifyTable, ou_df shape: (20041, 43)\n"
     ]
    }
   ],
   "source": [
    "for (ou_name, ou_df) in ou_name_to_df.items():\n",
    "    print(f\"OU Name: {ou_name}, ou_df shape: {ou_df.shape}\")"
   ]
  },
  {
   "cell_type": "markdown",
   "id": "3d119162-b677-4be6-b0ce-7ddab4ad00cc",
   "metadata": {
    "tags": []
   },
   "source": [
    "# Pre-processing"
   ]
  },
  {
   "cell_type": "markdown",
   "id": "b44449e9-3c0b-480a-bd84-4650ccc06b9c",
   "metadata": {
    "tags": []
   },
   "source": [
    "#### Get IndexScan OU Data"
   ]
  },
  {
   "cell_type": "code",
   "execution_count": 37,
   "id": "fd099c45-c6fb-4e93-80e5-4474e220c504",
   "metadata": {},
   "outputs": [],
   "source": [
    "target_ou = 'ExecIndexScan'\n",
    "df = ou_name_to_df[target_ou]"
   ]
  },
  {
   "cell_type": "markdown",
   "id": "97fd7b35-c407-488b-a50c-f5bef214ff31",
   "metadata": {},
   "source": [
    "#### Remove constant columns"
   ]
  },
  {
   "cell_type": "code",
   "execution_count": 38,
   "id": "c0c679e2-fec8-40b1-803d-1ecd8a10944d",
   "metadata": {},
   "outputs": [
    {
     "name": "stdout",
     "output_type": "stream",
     "text": [
      "Dropped zero-variance columns: ['IndexScanState_ss_ps_type', 'IndexScanState_ss_ps_async_capable', 'IndexScanState_ss_ps_scanopsfixed', 'IndexScanState_ss_ps_outeropsfixed', 'IndexScanState_ss_ps_inneropsfixed', 'IndexScanState_ss_ps_resultopsfixed', 'IndexScanState_ss_ps_scanopsset', 'IndexScanState_ss_ps_outeropsset', 'IndexScanState_ss_ps_inneropsset', 'IndexScanState_ss_ps_resultopsset', 'IndexScanState_iss_NumOrderByKeys', 'IndexScanState_iss_ReachedEnd', 'IndexScanState_iss_PscanLen', 'Plan_type', 'Plan_plan_rows', 'Plan_plan_width', 'Plan_parallel_aware', 'Plan_parallel_safe', 'Plan_async_capable', 'Plan_plan_node_id', 'ref_cpu_cycles', 'network_bytes_read', 'network_bytes_written', 'disk_bytes_read', 'disk_bytes_written', 'memory_bytes']\n",
      "Num Remaining: 14, Num Removed 26\n"
     ]
    }
   ],
   "source": [
    "cols_to_remove = []\n",
    "for col in df.columns:\n",
    "    if df[col].nunique() == 1: \n",
    "            cols_to_remove.append(col)\n",
    "\n",
    "df = df.drop(cols_to_remove, axis=1)\n",
    "print(f\"Dropped zero-variance columns: {cols_to_remove}\")\n",
    "print(f\"Num Remaining: {len(df.columns)}, Num Removed {len(cols_to_remove)}\")"
   ]
  },
  {
   "cell_type": "markdown",
   "id": "3e175e57-77c0-47ca-8d38-b8340b778abf",
   "metadata": {},
   "source": [
    "### Remove Start/End Time (since elapsed_us == end_time - start_time)"
   ]
  },
  {
   "cell_type": "code",
   "execution_count": 39,
   "id": "62b6f37a-fee1-449d-9f8c-88d30b761a16",
   "metadata": {},
   "outputs": [],
   "source": [
    "df = df.drop(['start_time', 'end_time'], axis=1)"
   ]
  },
  {
   "cell_type": "markdown",
   "id": "4c2811c9-cfbf-4169-ae6b-4b02d3c558d1",
   "metadata": {
    "tags": []
   },
   "source": [
    "### Summarize Features"
   ]
  },
  {
   "cell_type": "code",
   "execution_count": 40,
   "id": "e67e26f9-5920-4385-9235-2131daa3f692",
   "metadata": {},
   "outputs": [
    {
     "data": {
      "text/html": [
       "<div>\n",
       "<style scoped>\n",
       "    .dataframe tbody tr th:only-of-type {\n",
       "        vertical-align: middle;\n",
       "    }\n",
       "\n",
       "    .dataframe tbody tr th {\n",
       "        vertical-align: top;\n",
       "    }\n",
       "\n",
       "    .dataframe thead th {\n",
       "        text-align: right;\n",
       "    }\n",
       "</style>\n",
       "<table border=\"1\" class=\"dataframe\">\n",
       "  <thead>\n",
       "    <tr style=\"text-align: right;\">\n",
       "      <th></th>\n",
       "      <th>IndexScanState_iss_NumScanKeys</th>\n",
       "      <th>IndexScanState_iss_NumRuntimeKeys</th>\n",
       "      <th>IndexScanState_iss_RuntimeKeysReady</th>\n",
       "      <th>Plan_startup_cost</th>\n",
       "      <th>Plan_total_cost</th>\n",
       "      <th>cpu_id</th>\n",
       "    </tr>\n",
       "  </thead>\n",
       "  <tbody>\n",
       "    <tr>\n",
       "      <th>count</th>\n",
       "      <td>375952.000000</td>\n",
       "      <td>375952.000000</td>\n",
       "      <td>375952.000000</td>\n",
       "      <td>375952.000000</td>\n",
       "      <td>375952.000000</td>\n",
       "      <td>375952.000000</td>\n",
       "    </tr>\n",
       "    <tr>\n",
       "      <th>mean</th>\n",
       "      <td>2.273665</td>\n",
       "      <td>2.273463</td>\n",
       "      <td>0.999915</td>\n",
       "      <td>0.206690</td>\n",
       "      <td>8.227552</td>\n",
       "      <td>16.623569</td>\n",
       "    </tr>\n",
       "    <tr>\n",
       "      <th>std</th>\n",
       "      <td>0.651320</td>\n",
       "      <td>0.651641</td>\n",
       "      <td>0.009226</td>\n",
       "      <td>0.068352</td>\n",
       "      <td>0.067707</td>\n",
       "      <td>7.675129</td>\n",
       "    </tr>\n",
       "    <tr>\n",
       "      <th>min</th>\n",
       "      <td>1.000000</td>\n",
       "      <td>0.000000</td>\n",
       "      <td>0.000000</td>\n",
       "      <td>0.142500</td>\n",
       "      <td>8.162500</td>\n",
       "      <td>8.000000</td>\n",
       "    </tr>\n",
       "    <tr>\n",
       "      <th>25%</th>\n",
       "      <td>2.000000</td>\n",
       "      <td>2.000000</td>\n",
       "      <td>1.000000</td>\n",
       "      <td>0.145000</td>\n",
       "      <td>8.165000</td>\n",
       "      <td>10.000000</td>\n",
       "    </tr>\n",
       "    <tr>\n",
       "      <th>50%</th>\n",
       "      <td>2.000000</td>\n",
       "      <td>2.000000</td>\n",
       "      <td>1.000000</td>\n",
       "      <td>0.152500</td>\n",
       "      <td>8.175000</td>\n",
       "      <td>13.000000</td>\n",
       "    </tr>\n",
       "    <tr>\n",
       "      <th>75%</th>\n",
       "      <td>3.000000</td>\n",
       "      <td>3.000000</td>\n",
       "      <td>1.000000</td>\n",
       "      <td>0.287500</td>\n",
       "      <td>8.307500</td>\n",
       "      <td>25.000000</td>\n",
       "    </tr>\n",
       "    <tr>\n",
       "      <th>max</th>\n",
       "      <td>3.000000</td>\n",
       "      <td>3.000000</td>\n",
       "      <td>1.000000</td>\n",
       "      <td>0.290000</td>\n",
       "      <td>8.307500</td>\n",
       "      <td>31.000000</td>\n",
       "    </tr>\n",
       "  </tbody>\n",
       "</table>\n",
       "</div>"
      ],
      "text/plain": [
       "       IndexScanState_iss_NumScanKeys  IndexScanState_iss_NumRuntimeKeys  \\\n",
       "count                   375952.000000                      375952.000000   \n",
       "mean                         2.273665                           2.273463   \n",
       "std                          0.651320                           0.651641   \n",
       "min                          1.000000                           0.000000   \n",
       "25%                          2.000000                           2.000000   \n",
       "50%                          2.000000                           2.000000   \n",
       "75%                          3.000000                           3.000000   \n",
       "max                          3.000000                           3.000000   \n",
       "\n",
       "       IndexScanState_iss_RuntimeKeysReady  Plan_startup_cost  \\\n",
       "count                        375952.000000      375952.000000   \n",
       "mean                              0.999915           0.206690   \n",
       "std                               0.009226           0.068352   \n",
       "min                               0.000000           0.142500   \n",
       "25%                               1.000000           0.145000   \n",
       "50%                               1.000000           0.152500   \n",
       "75%                               1.000000           0.287500   \n",
       "max                               1.000000           0.290000   \n",
       "\n",
       "       Plan_total_cost         cpu_id  \n",
       "count    375952.000000  375952.000000  \n",
       "mean          8.227552      16.623569  \n",
       "std           0.067707       7.675129  \n",
       "min           8.162500       8.000000  \n",
       "25%           8.165000      10.000000  \n",
       "50%           8.175000      13.000000  \n",
       "75%           8.307500      25.000000  \n",
       "max           8.307500      31.000000  "
      ]
     },
     "execution_count": 40,
     "metadata": {},
     "output_type": "execute_result"
    }
   ],
   "source": [
    "features = df[['IndexScanState_iss_NumScanKeys', 'IndexScanState_iss_NumRuntimeKeys', 'IndexScanState_iss_RuntimeKeysReady', 'Plan_startup_cost', 'Plan_total_cost', 'cpu_id']]\n",
    "features.describe()"
   ]
  },
  {
   "cell_type": "markdown",
   "id": "b10c98f0-a673-4c41-8d23-35eaa194cbde",
   "metadata": {},
   "source": [
    "### Summarize Targets"
   ]
  },
  {
   "cell_type": "code",
   "execution_count": 41,
   "id": "754600f5-b206-43a0-adc7-bed75eabd73f",
   "metadata": {},
   "outputs": [
    {
     "data": {
      "text/html": [
       "<div>\n",
       "<style scoped>\n",
       "    .dataframe tbody tr th:only-of-type {\n",
       "        vertical-align: middle;\n",
       "    }\n",
       "\n",
       "    .dataframe tbody tr th {\n",
       "        vertical-align: top;\n",
       "    }\n",
       "\n",
       "    .dataframe thead th {\n",
       "        text-align: right;\n",
       "    }\n",
       "</style>\n",
       "<table border=\"1\" class=\"dataframe\">\n",
       "  <thead>\n",
       "    <tr style=\"text-align: right;\">\n",
       "      <th></th>\n",
       "      <th>cpu_cycles</th>\n",
       "      <th>instructions</th>\n",
       "      <th>cache_references</th>\n",
       "      <th>cache_misses</th>\n",
       "      <th>elapsed_us</th>\n",
       "    </tr>\n",
       "  </thead>\n",
       "  <tbody>\n",
       "    <tr>\n",
       "      <th>count</th>\n",
       "      <td>3.759520e+05</td>\n",
       "      <td>3.759520e+05</td>\n",
       "      <td>375952.000000</td>\n",
       "      <td>375952.000000</td>\n",
       "      <td>375952.000000</td>\n",
       "    </tr>\n",
       "    <tr>\n",
       "      <th>mean</th>\n",
       "      <td>1.070764e+05</td>\n",
       "      <td>3.520193e+05</td>\n",
       "      <td>3275.418149</td>\n",
       "      <td>468.369627</td>\n",
       "      <td>24.227210</td>\n",
       "    </tr>\n",
       "    <tr>\n",
       "      <th>std</th>\n",
       "      <td>3.082348e+05</td>\n",
       "      <td>1.001387e+06</td>\n",
       "      <td>5688.235924</td>\n",
       "      <td>911.747842</td>\n",
       "      <td>71.351458</td>\n",
       "    </tr>\n",
       "    <tr>\n",
       "      <th>min</th>\n",
       "      <td>7.342000e+03</td>\n",
       "      <td>7.277000e+03</td>\n",
       "      <td>764.000000</td>\n",
       "      <td>0.000000</td>\n",
       "      <td>1.000000</td>\n",
       "    </tr>\n",
       "    <tr>\n",
       "      <th>25%</th>\n",
       "      <td>1.327000e+04</td>\n",
       "      <td>2.453700e+04</td>\n",
       "      <td>1598.000000</td>\n",
       "      <td>135.000000</td>\n",
       "      <td>2.000000</td>\n",
       "    </tr>\n",
       "    <tr>\n",
       "      <th>50%</th>\n",
       "      <td>1.600400e+04</td>\n",
       "      <td>2.732100e+04</td>\n",
       "      <td>1752.000000</td>\n",
       "      <td>185.000000</td>\n",
       "      <td>3.000000</td>\n",
       "    </tr>\n",
       "    <tr>\n",
       "      <th>75%</th>\n",
       "      <td>8.189825e+04</td>\n",
       "      <td>2.987842e+05</td>\n",
       "      <td>2729.000000</td>\n",
       "      <td>421.000000</td>\n",
       "      <td>18.000000</td>\n",
       "    </tr>\n",
       "    <tr>\n",
       "      <th>max</th>\n",
       "      <td>5.759083e+06</td>\n",
       "      <td>1.232497e+07</td>\n",
       "      <td>248632.000000</td>\n",
       "      <td>35206.000000</td>\n",
       "      <td>1403.000000</td>\n",
       "    </tr>\n",
       "  </tbody>\n",
       "</table>\n",
       "</div>"
      ],
      "text/plain": [
       "         cpu_cycles  instructions  cache_references   cache_misses  \\\n",
       "count  3.759520e+05  3.759520e+05     375952.000000  375952.000000   \n",
       "mean   1.070764e+05  3.520193e+05       3275.418149     468.369627   \n",
       "std    3.082348e+05  1.001387e+06       5688.235924     911.747842   \n",
       "min    7.342000e+03  7.277000e+03        764.000000       0.000000   \n",
       "25%    1.327000e+04  2.453700e+04       1598.000000     135.000000   \n",
       "50%    1.600400e+04  2.732100e+04       1752.000000     185.000000   \n",
       "75%    8.189825e+04  2.987842e+05       2729.000000     421.000000   \n",
       "max    5.759083e+06  1.232497e+07     248632.000000   35206.000000   \n",
       "\n",
       "          elapsed_us  \n",
       "count  375952.000000  \n",
       "mean       24.227210  \n",
       "std        71.351458  \n",
       "min         1.000000  \n",
       "25%         2.000000  \n",
       "50%         3.000000  \n",
       "75%        18.000000  \n",
       "max      1403.000000  "
      ]
     },
     "execution_count": 41,
     "metadata": {},
     "output_type": "execute_result"
    }
   ],
   "source": [
    "targets = df[['cpu_cycles', 'instructions', 'cache_references', 'cache_misses', 'elapsed_us']]\n",
    "targets.describe()"
   ]
  },
  {
   "cell_type": "markdown",
   "id": "8bc882ec-df72-4c5f-8e47-5eaf263da876",
   "metadata": {},
   "source": [
    "## Show Features"
   ]
  },
  {
   "cell_type": "code",
   "execution_count": 42,
   "id": "d74b2a4f-0b6c-4336-bc9a-e183d7691db9",
   "metadata": {},
   "outputs": [
    {
     "data": {
      "text/html": [
       "<div>\n",
       "<style scoped>\n",
       "    .dataframe tbody tr th:only-of-type {\n",
       "        vertical-align: middle;\n",
       "    }\n",
       "\n",
       "    .dataframe tbody tr th {\n",
       "        vertical-align: top;\n",
       "    }\n",
       "\n",
       "    .dataframe thead th {\n",
       "        text-align: right;\n",
       "    }\n",
       "</style>\n",
       "<table border=\"1\" class=\"dataframe\">\n",
       "  <thead>\n",
       "    <tr style=\"text-align: right;\">\n",
       "      <th></th>\n",
       "      <th>IndexScanState_iss_NumScanKeys</th>\n",
       "      <th>IndexScanState_iss_NumRuntimeKeys</th>\n",
       "      <th>IndexScanState_iss_RuntimeKeysReady</th>\n",
       "      <th>Plan_startup_cost</th>\n",
       "      <th>Plan_total_cost</th>\n",
       "      <th>cpu_id</th>\n",
       "    </tr>\n",
       "  </thead>\n",
       "  <tbody>\n",
       "    <tr>\n",
       "      <th>0</th>\n",
       "      <td>1</td>\n",
       "      <td>1</td>\n",
       "      <td>1</td>\n",
       "      <td>0.290</td>\n",
       "      <td>8.3075</td>\n",
       "      <td>15</td>\n",
       "    </tr>\n",
       "    <tr>\n",
       "      <th>1</th>\n",
       "      <td>1</td>\n",
       "      <td>1</td>\n",
       "      <td>1</td>\n",
       "      <td>0.145</td>\n",
       "      <td>8.1625</td>\n",
       "      <td>15</td>\n",
       "    </tr>\n",
       "    <tr>\n",
       "      <th>2</th>\n",
       "      <td>1</td>\n",
       "      <td>1</td>\n",
       "      <td>1</td>\n",
       "      <td>0.290</td>\n",
       "      <td>8.3075</td>\n",
       "      <td>15</td>\n",
       "    </tr>\n",
       "    <tr>\n",
       "      <th>3</th>\n",
       "      <td>1</td>\n",
       "      <td>1</td>\n",
       "      <td>1</td>\n",
       "      <td>0.145</td>\n",
       "      <td>8.1625</td>\n",
       "      <td>15</td>\n",
       "    </tr>\n",
       "    <tr>\n",
       "      <th>4</th>\n",
       "      <td>1</td>\n",
       "      <td>1</td>\n",
       "      <td>1</td>\n",
       "      <td>0.290</td>\n",
       "      <td>8.3075</td>\n",
       "      <td>15</td>\n",
       "    </tr>\n",
       "  </tbody>\n",
       "</table>\n",
       "</div>"
      ],
      "text/plain": [
       "   IndexScanState_iss_NumScanKeys  IndexScanState_iss_NumRuntimeKeys  \\\n",
       "0                               1                                  1   \n",
       "1                               1                                  1   \n",
       "2                               1                                  1   \n",
       "3                               1                                  1   \n",
       "4                               1                                  1   \n",
       "\n",
       "   IndexScanState_iss_RuntimeKeysReady  Plan_startup_cost  Plan_total_cost  \\\n",
       "0                                    1              0.290           8.3075   \n",
       "1                                    1              0.145           8.1625   \n",
       "2                                    1              0.290           8.3075   \n",
       "3                                    1              0.145           8.1625   \n",
       "4                                    1              0.290           8.3075   \n",
       "\n",
       "   cpu_id  \n",
       "0      15  \n",
       "1      15  \n",
       "2      15  \n",
       "3      15  \n",
       "4      15  "
      ]
     },
     "execution_count": 42,
     "metadata": {},
     "output_type": "execute_result"
    }
   ],
   "source": [
    "features.head(5)"
   ]
  },
  {
   "cell_type": "markdown",
   "id": "0c832e31-2548-4753-a6e9-a65aa28c5bb8",
   "metadata": {},
   "source": [
    "## Show targets"
   ]
  },
  {
   "cell_type": "code",
   "execution_count": 43,
   "id": "9682b5be-a0b6-499e-abce-4d4bae6be36c",
   "metadata": {},
   "outputs": [
    {
     "data": {
      "text/html": [
       "<div>\n",
       "<style scoped>\n",
       "    .dataframe tbody tr th:only-of-type {\n",
       "        vertical-align: middle;\n",
       "    }\n",
       "\n",
       "    .dataframe tbody tr th {\n",
       "        vertical-align: top;\n",
       "    }\n",
       "\n",
       "    .dataframe thead th {\n",
       "        text-align: right;\n",
       "    }\n",
       "</style>\n",
       "<table border=\"1\" class=\"dataframe\">\n",
       "  <thead>\n",
       "    <tr style=\"text-align: right;\">\n",
       "      <th></th>\n",
       "      <th>cpu_cycles</th>\n",
       "      <th>instructions</th>\n",
       "      <th>cache_references</th>\n",
       "      <th>cache_misses</th>\n",
       "      <th>elapsed_us</th>\n",
       "    </tr>\n",
       "  </thead>\n",
       "  <tbody>\n",
       "    <tr>\n",
       "      <th>0</th>\n",
       "      <td>12252</td>\n",
       "      <td>18088</td>\n",
       "      <td>3159</td>\n",
       "      <td>0</td>\n",
       "      <td>2</td>\n",
       "    </tr>\n",
       "    <tr>\n",
       "      <th>1</th>\n",
       "      <td>8306</td>\n",
       "      <td>11309</td>\n",
       "      <td>2934</td>\n",
       "      <td>0</td>\n",
       "      <td>2</td>\n",
       "    </tr>\n",
       "    <tr>\n",
       "      <th>2</th>\n",
       "      <td>11745</td>\n",
       "      <td>18237</td>\n",
       "      <td>2918</td>\n",
       "      <td>0</td>\n",
       "      <td>2</td>\n",
       "    </tr>\n",
       "    <tr>\n",
       "      <th>3</th>\n",
       "      <td>8692</td>\n",
       "      <td>10906</td>\n",
       "      <td>2823</td>\n",
       "      <td>0</td>\n",
       "      <td>1</td>\n",
       "    </tr>\n",
       "    <tr>\n",
       "      <th>4</th>\n",
       "      <td>11308</td>\n",
       "      <td>19153</td>\n",
       "      <td>2876</td>\n",
       "      <td>0</td>\n",
       "      <td>2</td>\n",
       "    </tr>\n",
       "  </tbody>\n",
       "</table>\n",
       "</div>"
      ],
      "text/plain": [
       "   cpu_cycles  instructions  cache_references  cache_misses  elapsed_us\n",
       "0       12252         18088              3159             0           2\n",
       "1        8306         11309              2934             0           2\n",
       "2       11745         18237              2918             0           2\n",
       "3        8692         10906              2823             0           1\n",
       "4       11308         19153              2876             0           2"
      ]
     },
     "execution_count": 43,
     "metadata": {},
     "output_type": "execute_result"
    }
   ],
   "source": [
    "targets.head(5)"
   ]
  },
  {
   "cell_type": "code",
   "execution_count": 44,
   "id": "274fdb84-0db0-432f-94df-10cd4e69d104",
   "metadata": {},
   "outputs": [],
   "source": [
    "def plot_histograms(df): \n",
    "    for col_name in df.columns: \n",
    "        res = stats.relfreq(df[col_name], numbins=10)\n",
    "        x = res.lowerlimit + np.linspace(0, res.binsize*res.frequency.size,\n",
    "                                         res.frequency.size)\n",
    "        fig = plt.figure(figsize=(6, 2))\n",
    "        ax = fig.add_subplot(1, 1, 1)\n",
    "        ax.bar(x, res.frequency, width=res.binsize)\n",
    "        ax.set_title(col_name)\n",
    "        ax.set_xlim([x.min(), x.max()])"
   ]
  },
  {
   "cell_type": "markdown",
   "id": "25fea886-a0d1-43bf-b6b9-97a527234b0d",
   "metadata": {
    "tags": []
   },
   "source": [
    "#### Visualizations"
   ]
  },
  {
   "cell_type": "code",
   "execution_count": 45,
   "id": "18c55cf1-a0de-41d1-8000-7894adda14d1",
   "metadata": {},
   "outputs": [
    {
     "data": {
      "image/png": "[encoded data removed]",
      "text/plain": [
       "<Figure size 432x144 with 1 Axes>"
      ]
     },
     "metadata": {
      "needs_background": "light"
     },
     "output_type": "display_data"
    },
    {
     "data": {
      "image/png": "[encoded data removed]",
      "text/plain": [
       "<Figure size 432x144 with 1 Axes>"
      ]
     },
     "metadata": {
      "needs_background": "light"
     },
     "output_type": "display_data"
    },
    {
     "data": {
      "image/png": "[encoded data removed]",
      "text/plain": [
       "<Figure size 432x144 with 1 Axes>"
      ]
     },
     "metadata": {
      "needs_background": "light"
     },
     "output_type": "display_data"
    },
    {
     "data": {
      "image/png": "[encoded data removed]",
      "text/plain": [
       "<Figure size 432x144 with 1 Axes>"
      ]
     },
     "metadata": {
      "needs_background": "light"
     },
     "output_type": "display_data"
    },
    {
     "data": {
      "image/png": "[encoded data removed]",
      "text/plain": [
       "<Figure size 432x144 with 1 Axes>"
      ]
     },
     "metadata": {
      "needs_background": "light"
     },
     "output_type": "display_data"
    }
   ],
   "source": [
    "plot_histograms(targets)"
   ]
  },
  {
   "cell_type": "code",
   "execution_count": 46,
   "id": "28d828bf-1ce1-4ee2-90ae-8144291150eb",
   "metadata": {},
   "outputs": [
    {
     "data": {
      "image/png": "[encoded data removed]",
      "text/plain": [
       "<Figure size 432x144 with 1 Axes>"
      ]
     },
     "metadata": {
      "needs_background": "light"
     },
     "output_type": "display_data"
    },
    {
     "data": {
      "image/png": "[encoded data removed]",
      "text/plain": [
       "<Figure size 432x144 with 1 Axes>"
      ]
     },
     "metadata": {
      "needs_background": "light"
     },
     "output_type": "display_data"
    },
    {
     "data": {
      "image/png": "[encoded data removed]",
      "text/plain": [
       "<Figure size 432x144 with 1 Axes>"
      ]
     },
     "metadata": {
      "needs_background": "light"
     },
     "output_type": "display_data"
    },
    {
     "data": {
      "image/png": "[encoded data removed]",
      "text/plain": [
       "<Figure size 432x144 with 1 Axes>"
      ]
     },
     "metadata": {
      "needs_background": "light"
     },
     "output_type": "display_data"
    },
    {
     "data": {
      "image/png": "[encoded data removed]",
      "text/plain": [
       "<Figure size 432x144 with 1 Axes>"
      ]
     },
     "metadata": {
      "needs_background": "light"
     },
     "output_type": "display_data"
    },
    {
     "data": {
      "image/png": "[encoded data removed]",
      "text/plain": [
       "<Figure size 432x144 with 1 Axes>"
      ]
     },
     "metadata": {
      "needs_background": "light"
     },
     "output_type": "display_data"
    }
   ],
   "source": [
    "plot_histograms(features)"
   ]
  },
  {
   "cell_type": "markdown",
   "id": "4013ae1a-d6dd-46cd-af51-60cea2c2aa98",
   "metadata": {
    "tags": []
   },
   "source": [
    "#### Correlation Heatmap"
   ]
  },
  {
   "cell_type": "code",
   "execution_count": 47,
   "id": "c5b18080-8c18-4892-9b19-6a0def42262c",
   "metadata": {},
   "outputs": [
    {
     "data": {
      "image/png": "[encoded data removed]",
      "text/plain": [
       "<Figure size 720x504 with 2 Axes>"
      ]
     },
     "metadata": {
      "needs_background": "light"
     },
     "output_type": "display_data"
    }
   ],
   "source": [
    "df_corr = df.corr()\n",
    "plt.figure(figsize=(10,7))\n",
    "sns.heatmap(df_corr, cmap='GnBu')\n",
    "plt.show()"
   ]
  },
  {
   "cell_type": "markdown",
   "id": "b2a96895-b8ac-4035-a71f-5e6770e2cc1a",
   "metadata": {},
   "source": [
    "# Feature Analysis (PCA)"
   ]
  },
  {
   "cell_type": "code",
   "execution_count": 23,
   "id": "c9e3e8b9-8dde-4e88-8e9f-2b5d653bed02",
   "metadata": {},
   "outputs": [
    {
     "data": {
      "text/html": [
       "<div>\n",
       "<style scoped>\n",
       "    .dataframe tbody tr th:only-of-type {\n",
       "        vertical-align: middle;\n",
       "    }\n",
       "\n",
       "    .dataframe tbody tr th {\n",
       "        vertical-align: top;\n",
       "    }\n",
       "\n",
       "    .dataframe thead th {\n",
       "        text-align: right;\n",
       "    }\n",
       "</style>\n",
       "<table border=\"1\" class=\"dataframe\">\n",
       "  <thead>\n",
       "    <tr style=\"text-align: right;\">\n",
       "      <th></th>\n",
       "      <th>IndexScanState_iss_NumScanKeys</th>\n",
       "      <th>IndexScanState_iss_NumRuntimeKeys</th>\n",
       "      <th>IndexScanState_iss_RuntimeKeysReady</th>\n",
       "      <th>Plan_startup_cost</th>\n",
       "      <th>Plan_total_cost</th>\n",
       "      <th>cpu_id</th>\n",
       "    </tr>\n",
       "  </thead>\n",
       "  <tbody>\n",
       "    <tr>\n",
       "      <th>0</th>\n",
       "      <td>1</td>\n",
       "      <td>1</td>\n",
       "      <td>1</td>\n",
       "      <td>0.2900</td>\n",
       "      <td>8.3075</td>\n",
       "      <td>15</td>\n",
       "    </tr>\n",
       "    <tr>\n",
       "      <th>1</th>\n",
       "      <td>1</td>\n",
       "      <td>1</td>\n",
       "      <td>1</td>\n",
       "      <td>0.1450</td>\n",
       "      <td>8.1625</td>\n",
       "      <td>15</td>\n",
       "    </tr>\n",
       "    <tr>\n",
       "      <th>2</th>\n",
       "      <td>1</td>\n",
       "      <td>1</td>\n",
       "      <td>1</td>\n",
       "      <td>0.2900</td>\n",
       "      <td>8.3075</td>\n",
       "      <td>15</td>\n",
       "    </tr>\n",
       "    <tr>\n",
       "      <th>3</th>\n",
       "      <td>1</td>\n",
       "      <td>1</td>\n",
       "      <td>1</td>\n",
       "      <td>0.1450</td>\n",
       "      <td>8.1625</td>\n",
       "      <td>15</td>\n",
       "    </tr>\n",
       "    <tr>\n",
       "      <th>4</th>\n",
       "      <td>1</td>\n",
       "      <td>1</td>\n",
       "      <td>1</td>\n",
       "      <td>0.2900</td>\n",
       "      <td>8.3075</td>\n",
       "      <td>15</td>\n",
       "    </tr>\n",
       "    <tr>\n",
       "      <th>...</th>\n",
       "      <td>...</td>\n",
       "      <td>...</td>\n",
       "      <td>...</td>\n",
       "      <td>...</td>\n",
       "      <td>...</td>\n",
       "      <td>...</td>\n",
       "    </tr>\n",
       "    <tr>\n",
       "      <th>375947</th>\n",
       "      <td>2</td>\n",
       "      <td>2</td>\n",
       "      <td>1</td>\n",
       "      <td>0.2875</td>\n",
       "      <td>8.3075</td>\n",
       "      <td>26</td>\n",
       "    </tr>\n",
       "    <tr>\n",
       "      <th>375948</th>\n",
       "      <td>3</td>\n",
       "      <td>3</td>\n",
       "      <td>1</td>\n",
       "      <td>0.1525</td>\n",
       "      <td>8.1750</td>\n",
       "      <td>26</td>\n",
       "    </tr>\n",
       "    <tr>\n",
       "      <th>375949</th>\n",
       "      <td>2</td>\n",
       "      <td>2</td>\n",
       "      <td>1</td>\n",
       "      <td>0.2875</td>\n",
       "      <td>8.3075</td>\n",
       "      <td>26</td>\n",
       "    </tr>\n",
       "    <tr>\n",
       "      <th>375950</th>\n",
       "      <td>3</td>\n",
       "      <td>3</td>\n",
       "      <td>1</td>\n",
       "      <td>0.1525</td>\n",
       "      <td>8.1750</td>\n",
       "      <td>26</td>\n",
       "    </tr>\n",
       "    <tr>\n",
       "      <th>375951</th>\n",
       "      <td>2</td>\n",
       "      <td>2</td>\n",
       "      <td>1</td>\n",
       "      <td>0.2875</td>\n",
       "      <td>8.3075</td>\n",
       "      <td>26</td>\n",
       "    </tr>\n",
       "  </tbody>\n",
       "</table>\n",
       "<p>375952 rows × 6 columns</p>\n",
       "</div>"
      ],
      "text/plain": [
       "        IndexScanState_iss_NumScanKeys  IndexScanState_iss_NumRuntimeKeys  \\\n",
       "0                                    1                                  1   \n",
       "1                                    1                                  1   \n",
       "2                                    1                                  1   \n",
       "3                                    1                                  1   \n",
       "4                                    1                                  1   \n",
       "...                                ...                                ...   \n",
       "375947                               2                                  2   \n",
       "375948                               3                                  3   \n",
       "375949                               2                                  2   \n",
       "375950                               3                                  3   \n",
       "375951                               2                                  2   \n",
       "\n",
       "        IndexScanState_iss_RuntimeKeysReady  Plan_startup_cost  \\\n",
       "0                                         1             0.2900   \n",
       "1                                         1             0.1450   \n",
       "2                                         1             0.2900   \n",
       "3                                         1             0.1450   \n",
       "4                                         1             0.2900   \n",
       "...                                     ...                ...   \n",
       "375947                                    1             0.2875   \n",
       "375948                                    1             0.1525   \n",
       "375949                                    1             0.2875   \n",
       "375950                                    1             0.1525   \n",
       "375951                                    1             0.2875   \n",
       "\n",
       "        Plan_total_cost  cpu_id  \n",
       "0                8.3075      15  \n",
       "1                8.1625      15  \n",
       "2                8.3075      15  \n",
       "3                8.1625      15  \n",
       "4                8.3075      15  \n",
       "...                 ...     ...  \n",
       "375947           8.3075      26  \n",
       "375948           8.1750      26  \n",
       "375949           8.3075      26  \n",
       "375950           8.1750      26  \n",
       "375951           8.3075      26  \n",
       "\n",
       "[375952 rows x 6 columns]"
      ]
     },
     "execution_count": 23,
     "metadata": {},
     "output_type": "execute_result"
    }
   ],
   "source": [
    "features"
   ]
  },
  {
   "cell_type": "markdown",
   "id": "61b388e5-dde5-4537-b821-efeb8e853414",
   "metadata": {},
   "source": [
    "## Feature Analysis - PCA"
   ]
  },
  {
   "cell_type": "code",
   "execution_count": 24,
   "id": "05492839-1e4c-4c03-980f-583931ff0d19",
   "metadata": {},
   "outputs": [],
   "source": [
    "def pca_summary(df):\n",
    "    pca = PCA(n_components=None)\n",
    "    pca.fit(df)\n",
    "    print(f\"Input Dimensionality: {len(df.columns)}\")\n",
    "    for component_idx, explained_var_pct in enumerate(pca.explained_variance_ratio_):\n",
    "        print(f\"Component {component_idx} explains {round(explained_var_pct*100, 2)}% of variance\")"
   ]
  },
  {
   "cell_type": "code",
   "execution_count": 25,
   "id": "0a48f571-b4c2-4958-a183-0d4d78630927",
   "metadata": {},
   "outputs": [
    {
     "name": "stdout",
     "output_type": "stream",
     "text": [
      "Input Dimensionality: 6\n",
      "Component 0 explains 98.58% of variance\n",
      "Component 1 explains 1.4% of variance\n",
      "Component 2 explains 0.01% of variance\n",
      "Component 3 explains 0.0% of variance\n",
      "Component 4 explains 0.0% of variance\n",
      "Component 5 explains 0.0% of variance\n"
     ]
    }
   ],
   "source": [
    "pca_summary(features)"
   ]
  },
  {
   "cell_type": "code",
   "execution_count": 26,
   "id": "42ce2190-d845-45a4-a5d1-99cf15f577cc",
   "metadata": {},
   "outputs": [
    {
     "name": "stdout",
     "output_type": "stream",
     "text": [
      "Input Dimensionality: 3\n",
      "Component 0 explains 99.96% of variance\n",
      "Component 1 explains 0.04% of variance\n",
      "Component 2 explains 0.0% of variance\n"
     ]
    }
   ],
   "source": [
    "scanstate_feats = ['IndexScanState_iss_NumScanKeys', 'IndexScanState_iss_NumRuntimeKeys', 'IndexScanState_iss_RuntimeKeysReady']\n",
    "pca_summary(features[scanstate_feats])"
   ]
  },
  {
   "cell_type": "code",
   "execution_count": 27,
   "id": "1fc9785b-9890-4ebc-9f00-6e0e7bf88e86",
   "metadata": {},
   "outputs": [
    {
     "name": "stdout",
     "output_type": "stream",
     "text": [
      "Input Dimensionality: 2\n",
      "Component 0 explains 99.99% of variance\n",
      "Component 1 explains 0.01% of variance\n"
     ]
    }
   ],
   "source": [
    "plancost_feats = ['Plan_startup_cost', 'Plan_total_cost']\n",
    "pca_summary(features[plancost_feats])"
   ]
  },
  {
   "cell_type": "code",
   "execution_count": null,
   "id": "d8200d21-ae7b-4905-abea-3139c93c4474",
   "metadata": {},
   "outputs": [],
   "source": []
  }
 ],
 "metadata": {
  "kernelspec": {
   "display_name": "Python 3 (ipykernel)",
   "language": "python",
   "name": "python3"
  },
  "language_info": {
   "codemirror_mode": {
    "name": "ipython",
    "version": 3
   },
   "file_extension": ".py",
   "mimetype": "text/x-python",
   "name": "python",
   "nbconvert_exporter": "python",
   "pygments_lexer": "ipython3",
   "version": "3.9.7"
  }
 },
 "nbformat": 4,
 "nbformat_minor": 5
}

{
 "cells": [
  {
   "cell_type": "markdown",
   "id": "2689fbcb-9c6f-4f0f-82ec-4fb04ab6b261",
   "metadata": {},
   "source": [
    "# TPCC OU Data Collection"
   ]
  },
  {
   "cell_type": "code",
   "execution_count": 1,
   "id": "2c1aaa86-27ab-420a-addb-9c6667077820",
   "metadata": {},
   "outputs": [],
   "source": [
    "import os\n",
    "import pandas as pd\n",
    "import seaborn as sns\n",
    "import matplotlib.pyplot as plt\n",
    "import numpy as np\n",
    "from sklearn.decomposition import PCA\n",
    "import lightgbm as lgb\n",
    "from datetime import datetime\n",
    "from pathlib import Path\n",
    "from scipy import stats"
   ]
  },
  {
   "cell_type": "code",
   "execution_count": 2,
   "id": "c45f5ad8-2074-458f-87e2-707e8f820ec7",
   "metadata": {},
   "outputs": [
    {
     "data": {
      "text/plain": [
       "PosixPath('/home/gh/postgres/cmudb/tscout/results/tpcc')"
      ]
     },
     "execution_count": 2,
     "metadata": {},
     "output_type": "execute_result"
    }
   ],
   "source": [
    "BENCHMARK_NAME = \"tpcc\"\n",
    "results_dir = Path.home() / \"postgres/cmudb/tscout/results/\" / BENCHMARK_NAME\n",
    "results_dir"
   ]
  },
  {
   "cell_type": "code",
   "execution_count": 3,
   "id": "3b0a8c07-3160-4bbe-b270-8daa3109d40f",
   "metadata": {},
   "outputs": [],
   "source": [
    "# experiment_dirs = sorted(list(results_dir.glob(\"*\")))"
   ]
  },
  {
   "cell_type": "code",
   "execution_count": 4,
   "id": "0d0923b3-0628-48e4-90b4-54854cd3d4f1",
   "metadata": {},
   "outputs": [
    {
     "name": "stdout",
     "output_type": "stream",
     "text": [
      "/home/gh/postgres/cmudb/tscout/results/tpcc/2021-11-08_04-26-47\n"
     ]
    }
   ],
   "source": [
    "exp_name = \"2021-11-08_04-26-47\"\n",
    "exp_dir = results_dir / exp_name\n",
    "result_filepaths = list(exp_dir.glob(\"**/*.csv\"))\n",
    "print(exp_dir)"
   ]
  },
  {
   "cell_type": "markdown",
   "id": "ffbece6f-d1c6-406a-b4c1-b8eb0522b300",
   "metadata": {
    "tags": []
   },
   "source": [
    "#### Load Data"
   ]
  },
  {
   "cell_type": "code",
   "execution_count": 5,
   "id": "9ddd0d10-c45d-4deb-8bc4-4eb9febaf1ee",
   "metadata": {},
   "outputs": [
    {
     "name": "stdout",
     "output_type": "stream",
     "text": [
      "Loading filepath: /home/gh/postgres/cmudb/tscout/results/tpcc/2021-11-08_04-26-47/1/ExecIndexScan.csv\n",
      "Loading filepath: /home/gh/postgres/cmudb/tscout/results/tpcc/2021-11-08_04-26-47/1/ExecLockRows.csv\n",
      "Loading filepath: /home/gh/postgres/cmudb/tscout/results/tpcc/2021-11-08_04-26-47/1/ExecNestLoop.csv\n",
      "Loading filepath: /home/gh/postgres/cmudb/tscout/results/tpcc/2021-11-08_04-26-47/1/ExecResult.csv\n",
      "Loading filepath: /home/gh/postgres/cmudb/tscout/results/tpcc/2021-11-08_04-26-47/1/ExecLimit.csv\n",
      "Loading filepath: /home/gh/postgres/cmudb/tscout/results/tpcc/2021-11-08_04-26-47/1/ExecSort.csv\n",
      "Loading filepath: /home/gh/postgres/cmudb/tscout/results/tpcc/2021-11-08_04-26-47/1/ExecAgg.csv\n",
      "Loading filepath: /home/gh/postgres/cmudb/tscout/results/tpcc/2021-11-08_04-26-47/1/ExecValuesScan.csv\n",
      "Loading filepath: /home/gh/postgres/cmudb/tscout/results/tpcc/2021-11-08_04-26-47/1/ExecSeqScan.csv\n",
      "Loading filepath: /home/gh/postgres/cmudb/tscout/results/tpcc/2021-11-08_04-26-47/1/ExecModifyTable.csv\n",
      "Loading filepath: /home/gh/postgres/cmudb/tscout/results/tpcc/2021-11-08_04-26-47/1/ExecIndexOnlyScan.csv\n"
     ]
    }
   ],
   "source": [
    "ou_name_to_df = dict()\n",
    "run_id = 1\n",
    "\n",
    "for filepath in result_filepaths:\n",
    "    ou_name = filepath.stem\n",
    "    \n",
    "    if run_id != int(filepath.parent.stem): \n",
    "        continue\n",
    "    \n",
    "    if os.stat(filepath).st_size > 0:\n",
    "        print(f\"Loading filepath: {filepath}\")\n",
    "        ou_name_to_df[ou_name] = pd.read_csv(filepath)"
   ]
  },
  {
   "cell_type": "code",
   "execution_count": 6,
   "id": "865e3c5b-753c-4255-974c-ae32cb34dc61",
   "metadata": {},
   "outputs": [
    {
     "name": "stdout",
     "output_type": "stream",
     "text": [
      "OU Name: ExecIndexScan, ou_df shape: (919577, 40)\n",
      "OU Name: ExecLockRows, ou_df shape: (204307, 35)\n",
      "OU Name: ExecNestLoop, ou_df shape: (14954, 38)\n",
      "OU Name: ExecResult, ou_df shape: (94871, 36)\n",
      "OU Name: ExecLimit, ou_df shape: (27500, 40)\n",
      "OU Name: ExecSort, ou_df shape: (15058, 41)\n",
      "OU Name: ExecAgg, ou_df shape: (25882, 59)\n",
      "OU Name: ExecValuesScan, ou_df shape: (117102, 36)\n",
      "OU Name: ExecSeqScan, ou_df shape: (51935, 35)\n",
      "OU Name: ExecModifyTable, ou_df shape: (140277, 43)\n",
      "OU Name: ExecIndexOnlyScan, ou_df shape: (21897, 40)\n"
     ]
    }
   ],
   "source": [
    "for (ou_name, ou_df) in ou_name_to_df.items():\n",
    "    print(f\"OU Name: {ou_name}, ou_df shape: {ou_df.shape}\")"
   ]
  },
  {
   "cell_type": "markdown",
   "id": "3d119162-b677-4be6-b0ce-7ddab4ad00cc",
   "metadata": {
    "tags": []
   },
   "source": [
    "# Pre-processing"
   ]
  },
  {
   "cell_type": "markdown",
   "id": "b44449e9-3c0b-480a-bd84-4650ccc06b9c",
   "metadata": {
    "tags": []
   },
   "source": [
    "#### Get IndexScan OU Data"
   ]
  },
  {
   "cell_type": "code",
   "execution_count": 13,
   "id": "fd099c45-c6fb-4e93-80e5-4474e220c504",
   "metadata": {},
   "outputs": [],
   "source": [
    "target_ou = 'ExecIndexOnlyScan'\n",
    "df = ou_name_to_df[target_ou]"
   ]
  },
  {
   "cell_type": "markdown",
   "id": "8b0fc44d-808c-4493-98a6-2891e50428de",
   "metadata": {},
   "source": [
    "### Remove Start/End Time (since elapsed_us == end_time - start_time)"
   ]
  },
  {
   "cell_type": "code",
   "execution_count": 14,
   "id": "62b6f37a-fee1-449d-9f8c-88d30b761a16",
   "metadata": {},
   "outputs": [],
   "source": [
    "cols_to_remove = ['start_time', 'end_time', 'cpu_id', 'query_id']\n",
    "df = df.drop(cols_to_remove, axis=1)"
   ]
  },
  {
   "cell_type": "markdown",
   "id": "97fd7b35-c407-488b-a50c-f5bef214ff31",
   "metadata": {},
   "source": [
    "#### Remove constant columns"
   ]
  },
  {
   "cell_type": "code",
   "execution_count": 15,
   "id": "c0c679e2-fec8-40b1-803d-1ecd8a10944d",
   "metadata": {},
   "outputs": [
    {
     "name": "stdout",
     "output_type": "stream",
     "text": [
      "Dropped zero-variance columns: ['IndexOnlyScanState_ss_ps_type', 'IndexOnlyScanState_ss_ps_async_capable', 'IndexOnlyScanState_ss_ps_scanopsfixed', 'IndexOnlyScanState_ss_ps_outeropsfixed', 'IndexOnlyScanState_ss_ps_inneropsfixed', 'IndexOnlyScanState_ss_ps_resultopsfixed', 'IndexOnlyScanState_ss_ps_scanopsset', 'IndexOnlyScanState_ss_ps_outeropsset', 'IndexOnlyScanState_ss_ps_inneropsset', 'IndexOnlyScanState_ss_ps_resultopsset', 'IndexOnlyScanState_ioss_NumOrderByKeys', 'IndexOnlyScanState_ioss_RuntimeKeysReady', 'IndexOnlyScanState_ioss_PscanLen', 'Plan_type', 'Plan_plan_width', 'Plan_parallel_aware', 'Plan_parallel_safe', 'Plan_async_capable', 'ref_cpu_cycles', 'network_bytes_read', 'network_bytes_written', 'disk_bytes_read', 'disk_bytes_written', 'memory_bytes']\n",
      "Num Remaining: 12, Num Removed 24\n"
     ]
    }
   ],
   "source": [
    "cols_to_remove = []\n",
    "for col in df.columns:\n",
    "    if df[col].nunique() == 1: \n",
    "            cols_to_remove.append(col)\n",
    "\n",
    "df = df.drop(cols_to_remove, axis=1)\n",
    "print(f\"Dropped zero-variance columns: {cols_to_remove}\")\n",
    "print(f\"Num Remaining: {len(df.columns)}, Num Removed {len(cols_to_remove)}\")"
   ]
  },
  {
   "cell_type": "markdown",
   "id": "4c2811c9-cfbf-4169-ae6b-4b02d3c558d1",
   "metadata": {
    "tags": []
   },
   "source": [
    "### Summarize Features"
   ]
  },
  {
   "cell_type": "code",
   "execution_count": 16,
   "id": "e67e26f9-5920-4385-9235-2131daa3f692",
   "metadata": {},
   "outputs": [
    {
     "data": {
      "text/html": [
       "<div>\n",
       "<style scoped>\n",
       "    .dataframe tbody tr th:only-of-type {\n",
       "        vertical-align: middle;\n",
       "    }\n",
       "\n",
       "    .dataframe tbody tr th {\n",
       "        vertical-align: top;\n",
       "    }\n",
       "\n",
       "    .dataframe thead th {\n",
       "        text-align: right;\n",
       "    }\n",
       "</style>\n",
       "<table border=\"1\" class=\"dataframe\">\n",
       "  <thead>\n",
       "    <tr style=\"text-align: right;\">\n",
       "      <th></th>\n",
       "      <th>IndexOnlyScanState_ioss_NumScanKeys</th>\n",
       "      <th>IndexOnlyScanState_ioss_NumRuntimeKeys</th>\n",
       "      <th>IndexOnlyScanState_ioss_VMBuffer</th>\n",
       "      <th>Plan_startup_cost</th>\n",
       "      <th>Plan_total_cost</th>\n",
       "      <th>Plan_plan_rows</th>\n",
       "      <th>Plan_plan_node_id</th>\n",
       "    </tr>\n",
       "  </thead>\n",
       "  <tbody>\n",
       "    <tr>\n",
       "      <th>count</th>\n",
       "      <td>21897.000000</td>\n",
       "      <td>21897.000000</td>\n",
       "      <td>21897.000000</td>\n",
       "      <td>21897.000000</td>\n",
       "      <td>21897.000000</td>\n",
       "      <td>21897.000000</td>\n",
       "      <td>21897.000000</td>\n",
       "    </tr>\n",
       "    <tr>\n",
       "      <th>mean</th>\n",
       "      <td>2.426268</td>\n",
       "      <td>2.426268</td>\n",
       "      <td>3478.112892</td>\n",
       "      <td>0.286066</td>\n",
       "      <td>31.363591</td>\n",
       "      <td>337.226972</td>\n",
       "      <td>0.573732</td>\n",
       "    </tr>\n",
       "    <tr>\n",
       "      <th>std</th>\n",
       "      <td>0.494545</td>\n",
       "      <td>0.494545</td>\n",
       "      <td>4650.911661</td>\n",
       "      <td>0.001236</td>\n",
       "      <td>30.844675</td>\n",
       "      <td>449.823925</td>\n",
       "      <td>0.494545</td>\n",
       "    </tr>\n",
       "    <tr>\n",
       "      <th>min</th>\n",
       "      <td>2.000000</td>\n",
       "      <td>2.000000</td>\n",
       "      <td>0.000000</td>\n",
       "      <td>0.285000</td>\n",
       "      <td>8.305000</td>\n",
       "      <td>1.000000</td>\n",
       "      <td>0.000000</td>\n",
       "    </tr>\n",
       "    <tr>\n",
       "      <th>25%</th>\n",
       "      <td>2.000000</td>\n",
       "      <td>2.000000</td>\n",
       "      <td>0.000000</td>\n",
       "      <td>0.285000</td>\n",
       "      <td>8.310000</td>\n",
       "      <td>1.000000</td>\n",
       "      <td>0.000000</td>\n",
       "    </tr>\n",
       "    <tr>\n",
       "      <th>50%</th>\n",
       "      <td>2.000000</td>\n",
       "      <td>2.000000</td>\n",
       "      <td>0.000000</td>\n",
       "      <td>0.285000</td>\n",
       "      <td>8.310000</td>\n",
       "      <td>1.000000</td>\n",
       "      <td>1.000000</td>\n",
       "    </tr>\n",
       "    <tr>\n",
       "      <th>75%</th>\n",
       "      <td>3.000000</td>\n",
       "      <td>3.000000</td>\n",
       "      <td>9697.000000</td>\n",
       "      <td>0.287500</td>\n",
       "      <td>72.627500</td>\n",
       "      <td>939.000000</td>\n",
       "      <td>1.000000</td>\n",
       "    </tr>\n",
       "    <tr>\n",
       "      <th>max</th>\n",
       "      <td>3.000000</td>\n",
       "      <td>3.000000</td>\n",
       "      <td>9697.000000</td>\n",
       "      <td>0.287500</td>\n",
       "      <td>72.627500</td>\n",
       "      <td>939.000000</td>\n",
       "      <td>1.000000</td>\n",
       "    </tr>\n",
       "  </tbody>\n",
       "</table>\n",
       "</div>"
      ],
      "text/plain": [
       "       IndexOnlyScanState_ioss_NumScanKeys  \\\n",
       "count                         21897.000000   \n",
       "mean                              2.426268   \n",
       "std                               0.494545   \n",
       "min                               2.000000   \n",
       "25%                               2.000000   \n",
       "50%                               2.000000   \n",
       "75%                               3.000000   \n",
       "max                               3.000000   \n",
       "\n",
       "       IndexOnlyScanState_ioss_NumRuntimeKeys  \\\n",
       "count                            21897.000000   \n",
       "mean                                 2.426268   \n",
       "std                                  0.494545   \n",
       "min                                  2.000000   \n",
       "25%                                  2.000000   \n",
       "50%                                  2.000000   \n",
       "75%                                  3.000000   \n",
       "max                                  3.000000   \n",
       "\n",
       "       IndexOnlyScanState_ioss_VMBuffer  Plan_startup_cost  Plan_total_cost  \\\n",
       "count                      21897.000000       21897.000000     21897.000000   \n",
       "mean                        3478.112892           0.286066        31.363591   \n",
       "std                         4650.911661           0.001236        30.844675   \n",
       "min                            0.000000           0.285000         8.305000   \n",
       "25%                            0.000000           0.285000         8.310000   \n",
       "50%                            0.000000           0.285000         8.310000   \n",
       "75%                         9697.000000           0.287500        72.627500   \n",
       "max                         9697.000000           0.287500        72.627500   \n",
       "\n",
       "       Plan_plan_rows  Plan_plan_node_id  \n",
       "count    21897.000000       21897.000000  \n",
       "mean       337.226972           0.573732  \n",
       "std        449.823925           0.494545  \n",
       "min          1.000000           0.000000  \n",
       "25%          1.000000           0.000000  \n",
       "50%          1.000000           1.000000  \n",
       "75%        939.000000           1.000000  \n",
       "max        939.000000           1.000000  "
      ]
     },
     "execution_count": 16,
     "metadata": {},
     "output_type": "execute_result"
    }
   ],
   "source": [
    "feat_cols = [col for col in df.columns if col not in ['cpu_cycles', 'instructions', 'cache_references', 'cache_misses', 'ref_cpu_cycles', 'network_bytes_read', 'network_bytes_written', 'disk_bytes_read', 'disk_bytes_written', 'memory_bytes', 'elapsed_us']]\n",
    "features = df[feat_cols]\n",
    "features.describe()"
   ]
  },
  {
   "cell_type": "markdown",
   "id": "b10c98f0-a673-4c41-8d23-35eaa194cbde",
   "metadata": {},
   "source": [
    "### Summarize Targets"
   ]
  },
  {
   "cell_type": "code",
   "execution_count": 76,
   "id": "754600f5-b206-43a0-adc7-bed75eabd73f",
   "metadata": {},
   "outputs": [
    {
     "data": {
      "text/html": [
       "<div>\n",
       "<style scoped>\n",
       "    .dataframe tbody tr th:only-of-type {\n",
       "        vertical-align: middle;\n",
       "    }\n",
       "\n",
       "    .dataframe tbody tr th {\n",
       "        vertical-align: top;\n",
       "    }\n",
       "\n",
       "    .dataframe thead th {\n",
       "        text-align: right;\n",
       "    }\n",
       "</style>\n",
       "<table border=\"1\" class=\"dataframe\">\n",
       "  <thead>\n",
       "    <tr style=\"text-align: right;\">\n",
       "      <th></th>\n",
       "      <th>cpu_cycles</th>\n",
       "      <th>instructions</th>\n",
       "      <th>cache_references</th>\n",
       "      <th>cache_misses</th>\n",
       "      <th>disk_bytes_written</th>\n",
       "      <th>elapsed_us</th>\n",
       "    </tr>\n",
       "  </thead>\n",
       "  <tbody>\n",
       "    <tr>\n",
       "      <th>count</th>\n",
       "      <td>9.168830e+05</td>\n",
       "      <td>9.168830e+05</td>\n",
       "      <td>916883.000000</td>\n",
       "      <td>916883.000000</td>\n",
       "      <td>916883.000000</td>\n",
       "      <td>916883.000000</td>\n",
       "    </tr>\n",
       "    <tr>\n",
       "      <th>mean</th>\n",
       "      <td>2.495882e+04</td>\n",
       "      <td>5.607674e+04</td>\n",
       "      <td>1696.562491</td>\n",
       "      <td>571.306750</td>\n",
       "      <td>0.000122</td>\n",
       "      <td>5.183773</td>\n",
       "    </tr>\n",
       "    <tr>\n",
       "      <th>std</th>\n",
       "      <td>8.810992e+04</td>\n",
       "      <td>2.709513e+05</td>\n",
       "      <td>1659.352567</td>\n",
       "      <td>734.677056</td>\n",
       "      <td>0.044209</td>\n",
       "      <td>20.201163</td>\n",
       "    </tr>\n",
       "    <tr>\n",
       "      <th>min</th>\n",
       "      <td>3.498000e+03</td>\n",
       "      <td>5.423000e+03</td>\n",
       "      <td>180.000000</td>\n",
       "      <td>0.000000</td>\n",
       "      <td>0.000000</td>\n",
       "      <td>0.000000</td>\n",
       "    </tr>\n",
       "    <tr>\n",
       "      <th>25%</th>\n",
       "      <td>4.519000e+03</td>\n",
       "      <td>6.292000e+03</td>\n",
       "      <td>462.000000</td>\n",
       "      <td>48.000000</td>\n",
       "      <td>0.000000</td>\n",
       "      <td>1.000000</td>\n",
       "    </tr>\n",
       "    <tr>\n",
       "      <th>50%</th>\n",
       "      <td>1.166500e+04</td>\n",
       "      <td>1.919300e+04</td>\n",
       "      <td>1470.000000</td>\n",
       "      <td>124.000000</td>\n",
       "      <td>0.000000</td>\n",
       "      <td>2.000000</td>\n",
       "    </tr>\n",
       "    <tr>\n",
       "      <th>75%</th>\n",
       "      <td>2.149300e+04</td>\n",
       "      <td>2.358900e+04</td>\n",
       "      <td>2554.000000</td>\n",
       "      <td>1183.000000</td>\n",
       "      <td>0.000000</td>\n",
       "      <td>4.000000</td>\n",
       "    </tr>\n",
       "    <tr>\n",
       "      <th>max</th>\n",
       "      <td>4.074786e+06</td>\n",
       "      <td>7.245397e+06</td>\n",
       "      <td>58588.000000</td>\n",
       "      <td>16009.000000</td>\n",
       "      <td>16.000000</td>\n",
       "      <td>967.000000</td>\n",
       "    </tr>\n",
       "  </tbody>\n",
       "</table>\n",
       "</div>"
      ],
      "text/plain": [
       "         cpu_cycles  instructions  cache_references   cache_misses  \\\n",
       "count  9.168830e+05  9.168830e+05     916883.000000  916883.000000   \n",
       "mean   2.495882e+04  5.607674e+04       1696.562491     571.306750   \n",
       "std    8.810992e+04  2.709513e+05       1659.352567     734.677056   \n",
       "min    3.498000e+03  5.423000e+03        180.000000       0.000000   \n",
       "25%    4.519000e+03  6.292000e+03        462.000000      48.000000   \n",
       "50%    1.166500e+04  1.919300e+04       1470.000000     124.000000   \n",
       "75%    2.149300e+04  2.358900e+04       2554.000000    1183.000000   \n",
       "max    4.074786e+06  7.245397e+06      58588.000000   16009.000000   \n",
       "\n",
       "       disk_bytes_written     elapsed_us  \n",
       "count       916883.000000  916883.000000  \n",
       "mean             0.000122       5.183773  \n",
       "std              0.044209      20.201163  \n",
       "min              0.000000       0.000000  \n",
       "25%              0.000000       1.000000  \n",
       "50%              0.000000       2.000000  \n",
       "75%              0.000000       4.000000  \n",
       "max             16.000000     967.000000  "
      ]
     },
     "execution_count": 76,
     "metadata": {},
     "output_type": "execute_result"
    }
   ],
   "source": [
    "targets = df[target_cols]\n",
    "targets.describe()"
   ]
  },
  {
   "cell_type": "markdown",
   "id": "8bc882ec-df72-4c5f-8e47-5eaf263da876",
   "metadata": {},
   "source": [
    "## Show Features"
   ]
  },
  {
   "cell_type": "code",
   "execution_count": 77,
   "id": "d74b2a4f-0b6c-4336-bc9a-e183d7691db9",
   "metadata": {},
   "outputs": [
    {
     "data": {
      "text/html": [
       "<div>\n",
       "<style scoped>\n",
       "    .dataframe tbody tr th:only-of-type {\n",
       "        vertical-align: middle;\n",
       "    }\n",
       "\n",
       "    .dataframe tbody tr th {\n",
       "        vertical-align: top;\n",
       "    }\n",
       "\n",
       "    .dataframe thead th {\n",
       "        text-align: right;\n",
       "    }\n",
       "</style>\n",
       "<table border=\"1\" class=\"dataframe\">\n",
       "  <thead>\n",
       "    <tr style=\"text-align: right;\">\n",
       "      <th></th>\n",
       "      <th>IndexScanState_iss_NumScanKeys</th>\n",
       "      <th>IndexScanState_iss_NumRuntimeKeys</th>\n",
       "      <th>IndexScanState_iss_RuntimeKeysReady</th>\n",
       "      <th>IndexScanState_iss_ReachedEnd</th>\n",
       "      <th>Plan_startup_cost</th>\n",
       "      <th>Plan_total_cost</th>\n",
       "      <th>Plan_plan_rows</th>\n",
       "      <th>Plan_plan_width</th>\n",
       "      <th>Plan_parallel_safe</th>\n",
       "      <th>Plan_plan_node_id</th>\n",
       "    </tr>\n",
       "  </thead>\n",
       "  <tbody>\n",
       "    <tr>\n",
       "      <th>0</th>\n",
       "      <td>2</td>\n",
       "      <td>2</td>\n",
       "      <td>1</td>\n",
       "      <td>1</td>\n",
       "      <td>0.2875</td>\n",
       "      <td>8.32</td>\n",
       "      <td>1.0</td>\n",
       "      <td>32</td>\n",
       "      <td>0</td>\n",
       "      <td>1</td>\n",
       "    </tr>\n",
       "    <tr>\n",
       "      <th>1</th>\n",
       "      <td>2</td>\n",
       "      <td>2</td>\n",
       "      <td>1</td>\n",
       "      <td>0</td>\n",
       "      <td>0.2875</td>\n",
       "      <td>8.32</td>\n",
       "      <td>1.0</td>\n",
       "      <td>32</td>\n",
       "      <td>0</td>\n",
       "      <td>1</td>\n",
       "    </tr>\n",
       "    <tr>\n",
       "      <th>2</th>\n",
       "      <td>2</td>\n",
       "      <td>2</td>\n",
       "      <td>1</td>\n",
       "      <td>1</td>\n",
       "      <td>0.2875</td>\n",
       "      <td>8.32</td>\n",
       "      <td>1.0</td>\n",
       "      <td>32</td>\n",
       "      <td>0</td>\n",
       "      <td>1</td>\n",
       "    </tr>\n",
       "    <tr>\n",
       "      <th>3</th>\n",
       "      <td>2</td>\n",
       "      <td>2</td>\n",
       "      <td>1</td>\n",
       "      <td>0</td>\n",
       "      <td>0.2875</td>\n",
       "      <td>8.32</td>\n",
       "      <td>1.0</td>\n",
       "      <td>32</td>\n",
       "      <td>0</td>\n",
       "      <td>1</td>\n",
       "    </tr>\n",
       "    <tr>\n",
       "      <th>4</th>\n",
       "      <td>2</td>\n",
       "      <td>2</td>\n",
       "      <td>1</td>\n",
       "      <td>1</td>\n",
       "      <td>0.2875</td>\n",
       "      <td>8.32</td>\n",
       "      <td>1.0</td>\n",
       "      <td>32</td>\n",
       "      <td>0</td>\n",
       "      <td>1</td>\n",
       "    </tr>\n",
       "  </tbody>\n",
       "</table>\n",
       "</div>"
      ],
      "text/plain": [
       "   IndexScanState_iss_NumScanKeys  IndexScanState_iss_NumRuntimeKeys  \\\n",
       "0                               2                                  2   \n",
       "1                               2                                  2   \n",
       "2                               2                                  2   \n",
       "3                               2                                  2   \n",
       "4                               2                                  2   \n",
       "\n",
       "   IndexScanState_iss_RuntimeKeysReady  IndexScanState_iss_ReachedEnd  \\\n",
       "0                                    1                              1   \n",
       "1                                    1                              0   \n",
       "2                                    1                              1   \n",
       "3                                    1                              0   \n",
       "4                                    1                              1   \n",
       "\n",
       "   Plan_startup_cost  Plan_total_cost  Plan_plan_rows  Plan_plan_width  \\\n",
       "0             0.2875             8.32             1.0               32   \n",
       "1             0.2875             8.32             1.0               32   \n",
       "2             0.2875             8.32             1.0               32   \n",
       "3             0.2875             8.32             1.0               32   \n",
       "4             0.2875             8.32             1.0               32   \n",
       "\n",
       "   Plan_parallel_safe  Plan_plan_node_id  \n",
       "0                   0                  1  \n",
       "1                   0                  1  \n",
       "2                   0                  1  \n",
       "3                   0                  1  \n",
       "4                   0                  1  "
      ]
     },
     "execution_count": 77,
     "metadata": {},
     "output_type": "execute_result"
    }
   ],
   "source": [
    "features.head(5)"
   ]
  },
  {
   "cell_type": "markdown",
   "id": "0c832e31-2548-4753-a6e9-a65aa28c5bb8",
   "metadata": {},
   "source": [
    "## Show targets"
   ]
  },
  {
   "cell_type": "code",
   "execution_count": 78,
   "id": "9682b5be-a0b6-499e-abce-4d4bae6be36c",
   "metadata": {},
   "outputs": [
    {
     "data": {
      "text/html": [
       "<div>\n",
       "<style scoped>\n",
       "    .dataframe tbody tr th:only-of-type {\n",
       "        vertical-align: middle;\n",
       "    }\n",
       "\n",
       "    .dataframe tbody tr th {\n",
       "        vertical-align: top;\n",
       "    }\n",
       "\n",
       "    .dataframe thead th {\n",
       "        text-align: right;\n",
       "    }\n",
       "</style>\n",
       "<table border=\"1\" class=\"dataframe\">\n",
       "  <thead>\n",
       "    <tr style=\"text-align: right;\">\n",
       "      <th></th>\n",
       "      <th>cpu_cycles</th>\n",
       "      <th>instructions</th>\n",
       "      <th>cache_references</th>\n",
       "      <th>cache_misses</th>\n",
       "      <th>disk_bytes_written</th>\n",
       "      <th>elapsed_us</th>\n",
       "    </tr>\n",
       "  </thead>\n",
       "  <tbody>\n",
       "    <tr>\n",
       "      <th>0</th>\n",
       "      <td>5099</td>\n",
       "      <td>5476</td>\n",
       "      <td>668</td>\n",
       "      <td>170</td>\n",
       "      <td>0</td>\n",
       "      <td>1</td>\n",
       "    </tr>\n",
       "    <tr>\n",
       "      <th>1</th>\n",
       "      <td>16216</td>\n",
       "      <td>20582</td>\n",
       "      <td>2075</td>\n",
       "      <td>642</td>\n",
       "      <td>0</td>\n",
       "      <td>4</td>\n",
       "    </tr>\n",
       "    <tr>\n",
       "      <th>2</th>\n",
       "      <td>4503</td>\n",
       "      <td>5476</td>\n",
       "      <td>513</td>\n",
       "      <td>54</td>\n",
       "      <td>0</td>\n",
       "      <td>0</td>\n",
       "    </tr>\n",
       "    <tr>\n",
       "      <th>3</th>\n",
       "      <td>13486</td>\n",
       "      <td>20578</td>\n",
       "      <td>1915</td>\n",
       "      <td>363</td>\n",
       "      <td>0</td>\n",
       "      <td>3</td>\n",
       "    </tr>\n",
       "    <tr>\n",
       "      <th>4</th>\n",
       "      <td>4215</td>\n",
       "      <td>5476</td>\n",
       "      <td>478</td>\n",
       "      <td>34</td>\n",
       "      <td>0</td>\n",
       "      <td>1</td>\n",
       "    </tr>\n",
       "  </tbody>\n",
       "</table>\n",
       "</div>"
      ],
      "text/plain": [
       "   cpu_cycles  instructions  cache_references  cache_misses  \\\n",
       "0        5099          5476               668           170   \n",
       "1       16216         20582              2075           642   \n",
       "2        4503          5476               513            54   \n",
       "3       13486         20578              1915           363   \n",
       "4        4215          5476               478            34   \n",
       "\n",
       "   disk_bytes_written  elapsed_us  \n",
       "0                   0           1  \n",
       "1                   0           4  \n",
       "2                   0           0  \n",
       "3                   0           3  \n",
       "4                   0           1  "
      ]
     },
     "execution_count": 78,
     "metadata": {},
     "output_type": "execute_result"
    }
   ],
   "source": [
    "targets.head(5)"
   ]
  },
  {
   "cell_type": "code",
   "execution_count": 79,
   "id": "274fdb84-0db0-432f-94df-10cd4e69d104",
   "metadata": {},
   "outputs": [],
   "source": [
    "def plot_histograms(df): \n",
    "    for col_name in df.columns: \n",
    "        res = stats.relfreq(df[col_name], numbins=10)\n",
    "        x = res.lowerlimit + np.linspace(0, res.binsize*res.frequency.size,\n",
    "                                         res.frequency.size)\n",
    "        fig = plt.figure(figsize=(6, 2))\n",
    "        ax = fig.add_subplot(1, 1, 1)\n",
    "        ax.bar(x, res.frequency, width=res.binsize)\n",
    "        ax.set_title(col_name)\n",
    "        ax.set_xlim([x.min(), x.max()])"
   ]
  },
  {
   "cell_type": "markdown",
   "id": "25fea886-a0d1-43bf-b6b9-97a527234b0d",
   "metadata": {
    "tags": []
   },
   "source": [
    "#### Visualizations"
   ]
  },
  {
   "cell_type": "code",
   "execution_count": 62,
   "id": "18c55cf1-a0de-41d1-8000-7894adda14d1",
   "metadata": {},
   "outputs": [
    {
     "data": {
      "image/png": "[encoded data removed]",
      "text/plain": [
       "<Figure size 432x144 with 1 Axes>"
      ]
     },
     "metadata": {
      "needs_background": "light"
     },
     "output_type": "display_data"
    },
    {
     "data": {
      "image/png": "[encoded data removed]",
      "text/plain": [
       "<Figure size 432x144 with 1 Axes>"
      ]
     },
     "metadata": {
      "needs_background": "light"
     },
     "output_type": "display_data"
    },
    {
     "data": {
      "image/png": "[encoded data removed]",
      "text/plain": [
       "<Figure size 432x144 with 1 Axes>"
      ]
     },
     "metadata": {
      "needs_background": "light"
     },
     "output_type": "display_data"
    },
    {
     "data": {
      "image/png": "[encoded data removed]",
      "text/plain": [
       "<Figure size 432x144 with 1 Axes>"
      ]
     },
     "metadata": {
      "needs_background": "light"
     },
     "output_type": "display_data"
    },
    {
     "data": {
      "image/png": "[encoded data removed]",
      "text/plain": [
       "<Figure size 432x144 with 1 Axes>"
      ]
     },
     "metadata": {
      "needs_background": "light"
     },
     "output_type": "display_data"
    },
    {
     "data": {
      "image/png": "[encoded data removed]",
      "text/plain": [
       "<Figure size 432x144 with 1 Axes>"
      ]
     },
     "metadata": {
      "needs_background": "light"
     },
     "output_type": "display_data"
    }
   ],
   "source": [
    "plot_histograms(targets)"
   ]
  },
  {
   "cell_type": "code",
   "execution_count": 63,
   "id": "28d828bf-1ce1-4ee2-90ae-8144291150eb",
   "metadata": {},
   "outputs": [
    {
     "data": {
      "image/png": "[encoded data removed]",
      "text/plain": [
       "<Figure size 432x144 with 1 Axes>"
      ]
     },
     "metadata": {
      "needs_background": "light"
     },
     "output_type": "display_data"
    },
    {
     "data": {
      "image/png": "[encoded data removed]",
      "text/plain": [
       "<Figure size 432x144 with 1 Axes>"
      ]
     },
     "metadata": {
      "needs_background": "light"
     },
     "output_type": "display_data"
    },
    {
     "data": {
      "image/png": "[encoded data removed]",
      "text/plain": [
       "<Figure size 432x144 with 1 Axes>"
      ]
     },
     "metadata": {
      "needs_background": "light"
     },
     "output_type": "display_data"
    },
    {
     "data": {
      "image/png": "[encoded data removed]",
      "text/plain": [
       "<Figure size 432x144 with 1 Axes>"
      ]
     },
     "metadata": {
      "needs_background": "light"
     },
     "output_type": "display_data"
    },
    {
     "data": {
      "image/png": "[encoded data removed]",
      "text/plain": [
       "<Figure size 432x144 with 1 Axes>"
      ]
     },
     "metadata": {
      "needs_background": "light"
     },
     "output_type": "display_data"
    },
    {
     "data": {
      "image/png": "[encoded data removed]",
      "text/plain": [
       "<Figure size 432x144 with 1 Axes>"
      ]
     },
     "metadata": {
      "needs_background": "light"
     },
     "output_type": "display_data"
    },
    {
     "data": {
      "image/png": "[encoded data removed]",
      "text/plain": [
       "<Figure size 432x144 with 1 Axes>"
      ]
     },
     "metadata": {
      "needs_background": "light"
     },
     "output_type": "display_data"
    },
    {
     "data": {
      "image/png": "[encoded data removed]",
      "text/plain": [
       "<Figure size 432x144 with 1 Axes>"
      ]
     },
     "metadata": {
      "needs_background": "light"
     },
     "output_type": "display_data"
    },
    {
     "data": {
      "image/png": "[encoded data removed]",
      "text/plain": [
       "<Figure size 432x144 with 1 Axes>"
      ]
     },
     "metadata": {
      "needs_background": "light"
     },
     "output_type": "display_data"
    },
    {
     "data": {
      "image/png": "[encoded data removed]",
      "text/plain": [
       "<Figure size 432x144 with 1 Axes>"
      ]
     },
     "metadata": {
      "needs_background": "light"
     },
     "output_type": "display_data"
    }
   ],
   "source": [
    "plot_histograms(features)"
   ]
  },
  {
   "cell_type": "markdown",
   "id": "4013ae1a-d6dd-46cd-af51-60cea2c2aa98",
   "metadata": {
    "tags": []
   },
   "source": [
    "#### Correlation Heatmap"
   ]
  },
  {
   "cell_type": "code",
   "execution_count": 64,
   "id": "c5b18080-8c18-4892-9b19-6a0def42262c",
   "metadata": {},
   "outputs": [
    {
     "data": {
      "image/png": "[encoded data removed]",
      "text/plain": [
       "<Figure size 720x504 with 2 Axes>"
      ]
     },
     "metadata": {
      "needs_background": "light"
     },
     "output_type": "display_data"
    }
   ],
   "source": [
    "df_corr = df.corr()\n",
    "plt.figure(figsize=(10,7))\n",
    "sns.heatmap(df_corr, cmap='GnBu')\n",
    "plt.show()"
   ]
  },
  {
   "cell_type": "markdown",
   "id": "61b388e5-dde5-4537-b821-efeb8e853414",
   "metadata": {},
   "source": [
    "# Feature Analysis - PCA"
   ]
  },
  {
   "cell_type": "code",
   "execution_count": 65,
   "id": "05492839-1e4c-4c03-980f-583931ff0d19",
   "metadata": {},
   "outputs": [],
   "source": [
    "def pca_summary(df):\n",
    "    pca = PCA(n_components=None)\n",
    "    pca.fit(df)\n",
    "    print(f\"Input Dimensionality: {len(df.columns)}\")\n",
    "    for component_idx, explained_var_pct in enumerate(pca.explained_variance_ratio_):\n",
    "        print(f\"Component {component_idx} explains {round(explained_var_pct*100, 2)}% of variance\")"
   ]
  },
  {
   "cell_type": "code",
   "execution_count": 66,
   "id": "6a5292b5-fdb0-4271-ae56-efa4c5718ff0",
   "metadata": {},
   "outputs": [
    {
     "data": {
      "text/plain": [
       "Index(['IndexScanState_iss_NumScanKeys', 'IndexScanState_iss_NumRuntimeKeys',\n",
       "       'IndexScanState_iss_RuntimeKeysReady', 'IndexScanState_iss_ReachedEnd',\n",
       "       'Plan_startup_cost', 'Plan_total_cost', 'Plan_plan_rows',\n",
       "       'Plan_plan_width', 'Plan_parallel_safe', 'Plan_plan_node_id'],\n",
       "      dtype='object')"
      ]
     },
     "execution_count": 66,
     "metadata": {},
     "output_type": "execute_result"
    }
   ],
   "source": [
    "features.columns"
   ]
  },
  {
   "cell_type": "code",
   "execution_count": 67,
   "id": "0a48f571-b4c2-4958-a183-0d4d78630927",
   "metadata": {},
   "outputs": [
    {
     "name": "stdout",
     "output_type": "stream",
     "text": [
      "Input Dimensionality: 10\n",
      "Component 0 explains 99.94% of variance\n",
      "Component 1 explains 0.06% of variance\n",
      "Component 2 explains 0.0% of variance\n",
      "Component 3 explains 0.0% of variance\n",
      "Component 4 explains 0.0% of variance\n",
      "Component 5 explains 0.0% of variance\n",
      "Component 6 explains 0.0% of variance\n",
      "Component 7 explains 0.0% of variance\n",
      "Component 8 explains 0.0% of variance\n",
      "Component 9 explains 0.0% of variance\n"
     ]
    }
   ],
   "source": [
    "pca_summary(features)"
   ]
  },
  {
   "cell_type": "code",
   "execution_count": 68,
   "id": "42ce2190-d845-45a4-a5d1-99cf15f577cc",
   "metadata": {},
   "outputs": [
    {
     "name": "stdout",
     "output_type": "stream",
     "text": [
      "Input Dimensionality: 3\n",
      "Component 0 explains 88.96% of variance\n",
      "Component 1 explains 10.96% of variance\n",
      "Component 2 explains 0.08% of variance\n"
     ]
    }
   ],
   "source": [
    "scanstate_feats = ['IndexScanState_iss_NumScanKeys', 'IndexScanState_iss_NumRuntimeKeys', 'IndexScanState_iss_RuntimeKeysReady']\n",
    "pca_summary(features[scanstate_feats])"
   ]
  },
  {
   "cell_type": "code",
   "execution_count": 69,
   "id": "1fc9785b-9890-4ebc-9f00-6e0e7bf88e86",
   "metadata": {},
   "outputs": [
    {
     "name": "stdout",
     "output_type": "stream",
     "text": [
      "Input Dimensionality: 2\n",
      "Component 0 explains 99.99% of variance\n",
      "Component 1 explains 0.01% of variance\n"
     ]
    }
   ],
   "source": [
    "plancost_feats = ['Plan_startup_cost', 'Plan_total_cost']\n",
    "pca_summary(features[plancost_feats])"
   ]
  },
  {
   "cell_type": "code",
   "execution_count": null,
   "id": "d8acfc55-cd83-4b43-9db8-c090fe6a2523",
   "metadata": {},
   "outputs": [],
   "source": []
  },
  {
   "cell_type": "code",
   "execution_count": null,
   "id": "d551abc9-cf22-4f06-a87b-ccbc565f8b89",
   "metadata": {},
   "outputs": [],
   "source": []
  },
  {
   "cell_type": "code",
   "execution_count": null,
   "id": "8a42bb19-1b30-4bfb-aae1-e5d37d308dde",
   "metadata": {},
   "outputs": [],
   "source": []
  },
  {
   "cell_type": "code",
   "execution_count": null,
   "id": "76814a96-dcf8-48a0-a30a-6f95768dce2e",
   "metadata": {},
   "outputs": [],
   "source": []
  },
  {
   "cell_type": "code",
   "execution_count": null,
   "id": "d8200d21-ae7b-4905-abea-3139c93c4474",
   "metadata": {},
   "outputs": [],
   "source": []
  }
 ],
 "metadata": {
  "kernelspec": {
   "display_name": "Python 3 (ipykernel)",
   "language": "python",
   "name": "python3"
  },
  "language_info": {
   "codemirror_mode": {
    "name": "ipython",
    "version": 3
   },
   "file_extension": ".py",
   "mimetype": "text/x-python",
   "name": "python",
   "nbconvert_exporter": "python",
   "pygments_lexer": "ipython3",
   "version": "3.9.7"
  }
 },
 "nbformat": 4,
 "nbformat_minor": 5
}
